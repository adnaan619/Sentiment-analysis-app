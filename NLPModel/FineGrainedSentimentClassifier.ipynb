{
 "cells": [
  {
   "cell_type": "code",
   "execution_count": 1,
   "id": "3f41a514",
   "metadata": {},
   "outputs": [
    {
     "name": "stderr",
     "output_type": "stream",
     "text": [
      "C:\\Users\\DELL\\AppData\\Local\\Temp\\ipykernel_6548\\942224929.py:6: ParserWarning: Falling back to the 'python' engine because the 'c' engine does not support regex separators (separators > 1 char and different from '\\s+' are interpreted as regex); you can avoid this warning by specifying engine='python'.\n",
      "  data = pd.read_csv(file_path, sep='delimiter', quotechar='\"', error_bad_lines=False)\n",
      "C:\\Users\\DELL\\AppData\\Local\\Temp\\ipykernel_6548\\942224929.py:6: FutureWarning: The error_bad_lines argument has been deprecated and will be removed in a future version. Use on_bad_lines in the future.\n",
      "\n",
      "\n",
      "  data = pd.read_csv(file_path, sep='delimiter', quotechar='\"', error_bad_lines=False)\n"
     ]
    },
    {
     "data": {
      "text/html": [
       "<div>\n",
       "<style scoped>\n",
       "    .dataframe tbody tr th:only-of-type {\n",
       "        vertical-align: middle;\n",
       "    }\n",
       "\n",
       "    .dataframe tbody tr th {\n",
       "        vertical-align: top;\n",
       "    }\n",
       "\n",
       "    .dataframe thead th {\n",
       "        text-align: right;\n",
       "    }\n",
       "</style>\n",
       "<table border=\"1\" class=\"dataframe\">\n",
       "  <thead>\n",
       "    <tr style=\"text-align: right;\">\n",
       "      <th></th>\n",
       "      <th>label\\ttext</th>\n",
       "    </tr>\n",
       "  </thead>\n",
       "  <tbody>\n",
       "    <tr>\n",
       "      <th>0</th>\n",
       "      <td>1\\tOne Night like In Vegas I make dat Nigga Fa...</td>\n",
       "    </tr>\n",
       "    <tr>\n",
       "      <th>1</th>\n",
       "      <td>1\\tWalking through Chelsea at this time of day...</td>\n",
       "    </tr>\n",
       "    <tr>\n",
       "      <th>2</th>\n",
       "      <td>0\\t\"And on the very first play of the night, A...</td>\n",
       "    </tr>\n",
       "    <tr>\n",
       "      <th>3</th>\n",
       "      <td>0\\t\"Drove the bike today, about 40 miles. Felt...</td>\n",
       "    </tr>\n",
       "    <tr>\n",
       "      <th>4</th>\n",
       "      <td>-1\\tlooking at the temp outside....hpw did it ...</td>\n",
       "    </tr>\n",
       "  </tbody>\n",
       "</table>\n",
       "</div>"
      ],
      "text/plain": [
       "                                         label\\ttext\n",
       "0  1\\tOne Night like In Vegas I make dat Nigga Fa...\n",
       "1  1\\tWalking through Chelsea at this time of day...\n",
       "2  0\\t\"And on the very first play of the night, A...\n",
       "3  0\\t\"Drove the bike today, about 40 miles. Felt...\n",
       "4  -1\\tlooking at the temp outside....hpw did it ..."
      ]
     },
     "execution_count": 1,
     "metadata": {},
     "output_type": "execute_result"
    }
   ],
   "source": [
    "#Exploratory Data Analysis \n",
    "import pandas as pd\n",
    "\n",
    "#Example for loading one of the CSV files\n",
    "file_path = \"./downloads/TrainTestData/semeval-2013-train-all.csv\"\n",
    "data = pd.read_csv(file_path, sep='delimiter', quotechar='\"', error_bad_lines=False)\n",
    "\n",
    "#Display the first few rows of the dataframe\n",
    "data.head()"
   ]
  },
  {
   "cell_type": "code",
   "execution_count": 2,
   "id": "a1245468",
   "metadata": {},
   "outputs": [
    {
     "name": "stdout",
     "output_type": "stream",
     "text": [
      "<class 'pandas.core.frame.DataFrame'>\n",
      "RangeIndex: 58655 entries, 0 to 58654\n",
      "Data columns (total 1 columns):\n",
      " #   Column      Non-Null Count  Dtype \n",
      "---  ------      --------------  ----- \n",
      " 0   label\ttext  58655 non-null  object\n",
      "dtypes: object(1)\n",
      "memory usage: 458.4+ KB\n",
      "None\n",
      "                                              label\\ttext\n",
      "count                                               58655\n",
      "unique                                              58642\n",
      "top     1\\tPerseverance is failing 19 times and succee...\n",
      "freq                                                    4\n",
      "label\\ttext    0\n",
      "dtype: int64\n"
     ]
    }
   ],
   "source": [
    "# Basic info about the dataset\n",
    "print(data.info())\n",
    "\n",
    "# Summary statistics for numerical columns\n",
    "print(data.describe())\n",
    "\n",
    "# Check for missing values\n",
    "print(data.isnull().sum())"
   ]
  },
  {
   "cell_type": "code",
   "execution_count": 3,
   "id": "67dbad8c",
   "metadata": {},
   "outputs": [
    {
     "name": "stdout",
     "output_type": "stream",
     "text": [
      "                                              label\\ttext\n",
      "count                                               58655\n",
      "unique                                              58642\n",
      "top     1\\tPerseverance is failing 19 times and succee...\n",
      "freq                                                    4\n"
     ]
    }
   ],
   "source": [
    "#Statistical summary and visualization\n",
    "import matplotlib.pyplot as plt\n",
    "import seaborn as sns\n",
    "\n",
    "# Statistical summary of numerical columns\n",
    "print(data.describe())"
   ]
  },
  {
   "cell_type": "code",
   "execution_count": 4,
   "id": "a258668f",
   "metadata": {},
   "outputs": [
    {
     "name": "stdout",
     "output_type": "stream",
     "text": [
      "Index(['label\\ttext'], dtype='object')\n"
     ]
    }
   ],
   "source": [
    "print(data.columns)"
   ]
  },
  {
   "cell_type": "code",
   "execution_count": 5,
   "id": "50619749",
   "metadata": {},
   "outputs": [
    {
     "name": "stdout",
     "output_type": "stream",
     "text": [
      "Index(['label\\ttext'], dtype='object')\n"
     ]
    }
   ],
   "source": [
    "# Statistical summary of sentiment labels\n",
    "data.columns = data.columns.str.strip()\n",
    "print(data.columns)"
   ]
  },
  {
   "cell_type": "code",
   "execution_count": 6,
   "id": "75a121e4",
   "metadata": {},
   "outputs": [
    {
     "name": "stdout",
     "output_type": "stream",
     "text": [
      "   label                                               text\n",
      "0      1    One Night like In Vegas I make dat Nigga Famous\n",
      "1      1  Walking through Chelsea at this time of day is...\n",
      "2      0  And on the very first play of the night, Aaron...\n",
      "3      0  Drove the bike today, about 40 miles. Felt lik...\n",
      "4     -1  looking at the temp outside....hpw did it get ...\n",
      "Index(['label', 'text'], dtype='object')\n"
     ]
    }
   ],
   "source": [
    "#Since the labels label and text are identified as one we perform this step \n",
    "data = pd.read_csv(file_path, sep='\\t') \n",
    "\n",
    "print(data.head())\n",
    "print(data.columns)"
   ]
  },
  {
   "cell_type": "code",
   "execution_count": 7,
   "id": "cbcc18d7",
   "metadata": {},
   "outputs": [
    {
     "name": "stdout",
     "output_type": "stream",
     "text": [
      " 0    26633\n",
      " 1    20580\n",
      "-1    11049\n",
      "Name: label, dtype: int64\n"
     ]
    }
   ],
   "source": [
    "# Statistical summary of sentiment labels\n",
    "print(data['label'].value_counts())"
   ]
  },
  {
   "cell_type": "code",
   "execution_count": 8,
   "id": "ed3858e0",
   "metadata": {},
   "outputs": [
    {
     "data": {
      "image/png": "[encoded data removed]",
      "text/plain": [
       "<Figure size 432x288 with 1 Axes>"
      ]
     },
     "metadata": {
      "needs_background": "light"
     },
     "output_type": "display_data"
    }
   ],
   "source": [
    "#Visualizing the distribution of the sentiment labels\n",
    "sns.countplot(x='label', data=data)\n",
    "plt.title('Distribution of Sentiment Labels')\n",
    "plt.xlabel('Review Length')\n",
    "plt.ylabel('Count')\n",
    "plt.show()"
   ]
  },
  {
   "cell_type": "code",
   "execution_count": 9,
   "id": "a957fe3c",
   "metadata": {},
   "outputs": [
    {
     "data": {
      "image/png": "[encoded data removed]",
      "text/plain": [
       "<Figure size 432x288 with 1 Axes>"
      ]
     },
     "metadata": {
      "needs_background": "light"
     },
     "output_type": "display_data"
    }
   ],
   "source": [
    "#Analyze the length of the reviews \n",
    "data['review_length'] = data['text'].apply(len)\n",
    "sns.histplot(data['review_length'], bins=50, kde=False)\n",
    "plt.title('Distribution of Review Lengths')\n",
    "plt.xlabel('Review Length')\n",
    "plt.ylabel('Frequency')\n",
    "plt.show()"
   ]
  },
  {
   "cell_type": "code",
   "execution_count": 10,
   "id": "bcf0eb67",
   "metadata": {},
   "outputs": [
    {
     "name": "stderr",
     "output_type": "stream",
     "text": [
      "C:\\Users\\DELL\\AppData\\Local\\Temp\\ipykernel_6548\\1874881545.py:8: FutureWarning: The default value of regex will change from True to False in a future version.\n",
      "  data['cleaned_text'] = data['text'].str.lower().str.replace('[^\\w\\s]', ' ' )\n"
     ]
    }
   ],
   "source": [
    "import pandas as pd\n",
    "from nltk.corpus import stopwords\n",
    "from nltk.stem import WordNetLemmatizer\n",
    "from sklearn.feature_extraction.text import TfidfVectorizer\n",
    "import re\n",
    "\n",
    "#Text cleaning\n",
    "data['cleaned_text'] = data['text'].str.lower().str.replace('[^\\w\\s]', ' ' )"
   ]
  },
  {
   "cell_type": "code",
   "execution_count": 11,
   "id": "272e086b",
   "metadata": {},
   "outputs": [],
   "source": [
    "#Tokenization (making an assumption that each word is separated by a space)\n",
    "data['tokens'] = data['cleaned_text'].str.split()"
   ]
  },
  {
   "cell_type": "code",
   "execution_count": 12,
   "id": "41c04c95",
   "metadata": {},
   "outputs": [
    {
     "name": "stderr",
     "output_type": "stream",
     "text": [
      "[nltk_data] Downloading package stopwords to\n",
      "[nltk_data]     C:\\Users\\DELL\\AppData\\Roaming\\nltk_data...\n",
      "[nltk_data]   Package stopwords is already up-to-date!\n",
      "[nltk_data] Downloading package wordnet to\n",
      "[nltk_data]     C:\\Users\\DELL\\AppData\\Roaming\\nltk_data...\n",
      "[nltk_data]   Package wordnet is already up-to-date!\n",
      "[nltk_data] Downloading package omw-1.4 to\n",
      "[nltk_data]     C:\\Users\\DELL\\AppData\\Roaming\\nltk_data...\n",
      "[nltk_data]   Package omw-1.4 is already up-to-date!\n"
     ]
    },
    {
     "data": {
      "text/plain": [
       "True"
      ]
     },
     "execution_count": 12,
     "metadata": {},
     "output_type": "execute_result"
    }
   ],
   "source": [
    "import nltk\n",
    "\n",
    "#Download the stopwords corpus\n",
    "nltk.download('stopwords')\n",
    "nltk.download('wordnet')\n",
    "nltk.download('omw-1.4')"
   ]
  },
  {
   "cell_type": "code",
   "execution_count": 13,
   "id": "3f01c1eb",
   "metadata": {},
   "outputs": [],
   "source": [
    "# Stop words removal\n",
    "stop = set(stopwords.words('english'))\n",
    "data['tokens'] = data['tokens'].apply(lambda x: [item for item in x if item not in stop])"
   ]
  },
  {
   "cell_type": "code",
   "execution_count": 14,
   "id": "c0dda968",
   "metadata": {},
   "outputs": [],
   "source": [
    "#Lemmatizaton of the dataset\n",
    "lemmatizer = WordNetLemmatizer()\n",
    "data['lemmatizer'] = data['tokens'].apply(lambda x: [lemmatizer.lemmatize(item) for item in x])"
   ]
  },
  {
   "cell_type": "code",
   "execution_count": 15,
   "id": "5a5a3eff",
   "metadata": {},
   "outputs": [],
   "source": [
    "#Vectorization (TF-IDF)\n",
    "tfidf_vectorizer = TfidfVectorizer(max_features=1000) #here we are limiting the number of features to 1000\n",
    "\n",
    "# Fit the vectorizer to the cleaned text and transform the text into TF-IDF features\n",
    "tfidf_features = tfidf_vectorizer.fit_transform(data['cleaned_text'])"
   ]
  },
  {
   "cell_type": "code",
   "execution_count": 16,
   "id": "62356a4d",
   "metadata": {},
   "outputs": [],
   "source": [
    "#Now that it's fit you can get the feature names \n",
    "feature_names = tfidf_vectorizer.get_feature_names_out()"
   ]
  },
  {
   "cell_type": "code",
   "execution_count": 17,
   "id": "30fd2a84",
   "metadata": {},
   "outputs": [
    {
     "data": {
      "text/html": [
       "<div>\n",
       "<style scoped>\n",
       "    .dataframe tbody tr th:only-of-type {\n",
       "        vertical-align: middle;\n",
       "    }\n",
       "\n",
       "    .dataframe tbody tr th {\n",
       "        vertical-align: top;\n",
       "    }\n",
       "\n",
       "    .dataframe thead th {\n",
       "        text-align: right;\n",
       "    }\n",
       "</style>\n",
       "<table border=\"1\" class=\"dataframe\">\n",
       "  <thead>\n",
       "    <tr style=\"text-align: right;\">\n",
       "      <th></th>\n",
       "      <th>label</th>\n",
       "      <th>text</th>\n",
       "      <th>review_length</th>\n",
       "      <th>cleaned_text</th>\n",
       "      <th>tokens</th>\n",
       "      <th>lemmatizer</th>\n",
       "    </tr>\n",
       "  </thead>\n",
       "  <tbody>\n",
       "    <tr>\n",
       "      <th>0</th>\n",
       "      <td>1</td>\n",
       "      <td>One Night like In Vegas I make dat Nigga Famous</td>\n",
       "      <td>47</td>\n",
       "      <td>one night like in vegas i make dat nigga famous</td>\n",
       "      <td>[one, night, like, vegas, make, dat, nigga, fa...</td>\n",
       "      <td>[one, night, like, vega, make, dat, nigga, fam...</td>\n",
       "    </tr>\n",
       "    <tr>\n",
       "      <th>1</th>\n",
       "      <td>1</td>\n",
       "      <td>Walking through Chelsea at this time of day is...</td>\n",
       "      <td>85</td>\n",
       "      <td>walking through chelsea at this time of day is...</td>\n",
       "      <td>[walking, chelsea, time, day, rather, lovely, ...</td>\n",
       "      <td>[walking, chelsea, time, day, rather, lovely, ...</td>\n",
       "    </tr>\n",
       "    <tr>\n",
       "      <th>2</th>\n",
       "      <td>0</td>\n",
       "      <td>And on the very first play of the night, Aaron...</td>\n",
       "      <td>130</td>\n",
       "      <td>and on the very first play of the night  aaron...</td>\n",
       "      <td>[first, play, night, aaron, rodgers, int, udfa...</td>\n",
       "      <td>[first, play, night, aaron, rodgers, int, udfa...</td>\n",
       "    </tr>\n",
       "    <tr>\n",
       "      <th>3</th>\n",
       "      <td>0</td>\n",
       "      <td>Drove the bike today, about 40 miles. Felt lik...</td>\n",
       "      <td>82</td>\n",
       "      <td>drove the bike today  about 40 miles  felt lik...</td>\n",
       "      <td>[drove, bike, today, 40, miles, felt, like, ji...</td>\n",
       "      <td>[drove, bike, today, 40, mile, felt, like, jim...</td>\n",
       "    </tr>\n",
       "    <tr>\n",
       "      <th>4</th>\n",
       "      <td>-1</td>\n",
       "      <td>looking at the temp outside....hpw did it get ...</td>\n",
       "      <td>121</td>\n",
       "      <td>looking at the temp outside    hpw did it get ...</td>\n",
       "      <td>[looking, temp, outside, hpw, get, hotter, sun...</td>\n",
       "      <td>[looking, temp, outside, hpw, get, hotter, sun...</td>\n",
       "    </tr>\n",
       "  </tbody>\n",
       "</table>\n",
       "</div>"
      ],
      "text/plain": [
       "   label                                               text  review_length  \\\n",
       "0      1    One Night like In Vegas I make dat Nigga Famous             47   \n",
       "1      1  Walking through Chelsea at this time of day is...             85   \n",
       "2      0  And on the very first play of the night, Aaron...            130   \n",
       "3      0  Drove the bike today, about 40 miles. Felt lik...             82   \n",
       "4     -1  looking at the temp outside....hpw did it get ...            121   \n",
       "\n",
       "                                        cleaned_text  \\\n",
       "0    one night like in vegas i make dat nigga famous   \n",
       "1  walking through chelsea at this time of day is...   \n",
       "2  and on the very first play of the night  aaron...   \n",
       "3  drove the bike today  about 40 miles  felt lik...   \n",
       "4  looking at the temp outside    hpw did it get ...   \n",
       "\n",
       "                                              tokens  \\\n",
       "0  [one, night, like, vegas, make, dat, nigga, fa...   \n",
       "1  [walking, chelsea, time, day, rather, lovely, ...   \n",
       "2  [first, play, night, aaron, rodgers, int, udfa...   \n",
       "3  [drove, bike, today, 40, miles, felt, like, ji...   \n",
       "4  [looking, temp, outside, hpw, get, hotter, sun...   \n",
       "\n",
       "                                          lemmatizer  \n",
       "0  [one, night, like, vega, make, dat, nigga, fam...  \n",
       "1  [walking, chelsea, time, day, rather, lovely, ...  \n",
       "2  [first, play, night, aaron, rodgers, int, udfa...  \n",
       "3  [drove, bike, today, 40, mile, felt, like, jim...  \n",
       "4  [looking, temp, outside, hpw, get, hotter, sun...  "
      ]
     },
     "execution_count": 17,
     "metadata": {},
     "output_type": "execute_result"
    }
   ],
   "source": [
    "#Viewing the preprocessed data\n",
    "data.head()"
   ]
  },
  {
   "cell_type": "code",
   "execution_count": 18,
   "id": "576c748e",
   "metadata": {},
   "outputs": [],
   "source": [
    "#Feature engineering - transforming textual information to numerical data"
   ]
  },
  {
   "cell_type": "code",
   "execution_count": 19,
   "id": "85b24de9",
   "metadata": {},
   "outputs": [],
   "source": [
    "#Convert a sparse martix to a dataframe\n",
    "feature_names = tfidf_vectorizer.get_feature_names_out()\n",
    "\n",
    "#Convert the TF-IDF features to a DataFrame\n",
    "tfidf_df = pd.DataFrame(tfidf_features.toarray(), columns=feature_names)"
   ]
  },
  {
   "cell_type": "code",
   "execution_count": 20,
   "id": "5e281e8c",
   "metadata": {},
   "outputs": [],
   "source": [
    "#Length of reviews feature\n",
    "tfidf_df['review_length'] = data['review_length']"
   ]
  },
  {
   "cell_type": "code",
   "execution_count": 21,
   "id": "a1b88ac4",
   "metadata": {},
   "outputs": [],
   "source": [
    "from sklearn.model_selection import train_test_split\n",
    "\n",
    "#Assuming 'label' is the target variable and 'tfidf_df' contains the feature set\n",
    "\n",
    "X = tfidf_df #Feature\n",
    "y = data['label'] #Target Variable\n",
    "\n",
    "#Split the data into trainging and testing sets\n",
    "X_train, X_test, y_train, y_test = train_test_split(X, y, test_size=0.2, random_state=42)\n",
    "\n",
    "#By this point the data is split for training and testing.\n",
    "#X_train and y_train will be used for the training the machine learning models, while X_test and x_train will be used for evaluating the model"
   ]
  },
  {
   "cell_type": "code",
   "execution_count": 22,
   "id": "25311416",
   "metadata": {},
   "outputs": [
    {
     "data": {
      "text/plain": [
       "MultinomialNB()"
      ]
     },
     "execution_count": 22,
     "metadata": {},
     "output_type": "execute_result"
    }
   ],
   "source": [
    "#Model training step\n",
    "from sklearn.naive_bayes import MultinomialNB\n",
    "\n",
    "#Initialize the classifier\n",
    "clf = MultinomialNB()\n",
    "\n",
    "#Train the classifier\n",
    "clf.fit(X_train, y_train)"
   ]
  },
  {
   "cell_type": "code",
   "execution_count": 23,
   "id": "c0a8d679",
   "metadata": {},
   "outputs": [
    {
     "name": "stdout",
     "output_type": "stream",
     "text": [
      "              precision    recall  f1-score   support\n",
      "\n",
      "          -1       0.59      0.18      0.28      2272\n",
      "           0       0.56      0.80      0.66      5262\n",
      "           1       0.67      0.55      0.60      4119\n",
      "\n",
      "    accuracy                           0.59     11653\n",
      "   macro avg       0.61      0.51      0.51     11653\n",
      "weighted avg       0.60      0.59      0.56     11653\n",
      "\n",
      "Accuracy:  0.5917789410452244\n"
     ]
    }
   ],
   "source": [
    "#Evaluate the model \n",
    "from sklearn.metrics import classification_report, accuracy_score\n",
    "\n",
    "#Make predictions on the test set\n",
    "y_pred = clf.predict(X_test)\n",
    "\n",
    "#Evaluate the predictions\n",
    "print(classification_report(y_test, y_pred))\n",
    "print(\"Accuracy: \", accuracy_score(y_test, y_pred))"
   ]
  },
  {
   "cell_type": "code",
   "execution_count": 24,
   "id": "9278ce1e",
   "metadata": {},
   "outputs": [],
   "source": [
    "#The models overall accuracy by this point is 59.18% and the macro avg, wieghted avg scores provide different types of avgs for recall, precision, and f1-score\n",
    "#The macro average calculates the metrics for each label and finds their unweighted mean. \n",
    "#The weighted average calculates the metrics for each label, and finds their average weighted by support.\n",
    "\n",
    "#The precision for class -1 is 0.59 which means that when the model predicts class -1 it is correct 59% of the time \n",
    "#The recall for class 0 is 0.80 which means that the model is able to find 80% of all actual class 0 instances\n",
    "#f1-score for class 1 is 0.60 which is the harmonic mean of precision and recall for that class"
   ]
  },
  {
   "cell_type": "code",
   "execution_count": 25,
   "id": "8a093c4d",
   "metadata": {},
   "outputs": [
    {
     "data": {
      "text/plain": [
       "Text(33.0, 0.5, 'True')"
      ]
     },
     "execution_count": 25,
     "metadata": {},
     "output_type": "execute_result"
    },
    {
     "data": {
      "image/png": "[encoded data removed]",
      "text/plain": [
       "<Figure size 432x288 with 2 Axes>"
      ]
     },
     "metadata": {
      "needs_background": "light"
     },
     "output_type": "display_data"
    }
   ],
   "source": [
    "#Confusion matrix for the purpose of checking on how the model works for each class \n",
    "from sklearn.metrics import confusion_matrix\n",
    "import seaborn as sns\n",
    "\n",
    "#Generate the confusion matrix\n",
    "cm = confusion_matrix(y_test, y_pred)\n",
    "\n",
    "#Plot the confusion matrix\n",
    "sns.heatmap(cm, annot=True, fmt='d')\n",
    "plt.xlabel('Predicted')\n",
    "plt.ylabel('True')"
   ]
  },
  {
   "cell_type": "code",
   "execution_count": 26,
   "id": "39846e7e",
   "metadata": {},
   "outputs": [
    {
     "name": "stdout",
     "output_type": "stream",
     "text": [
      "Best paramters:  {'alpha': 0.1}\n"
     ]
    }
   ],
   "source": [
    "#Hyperparameter tuning \n",
    "from sklearn.model_selection import GridSearchCV\n",
    "\n",
    "#Define the parameter grid\n",
    "param_grid = {'alpha': [0.1, 0.5, 1.0, 5.0, 10.0]}\n",
    "\n",
    "#Initialize the grid search\n",
    "grid_search = GridSearchCV(estimator=clf, param_grid=param_grid, cv=5)\n",
    "\n",
    "#Perform the grid search with the training data\n",
    "grid_search.fit(X_train, y_train)\n",
    "\n",
    "#Get the best parameters \n",
    "print(\"Best paramters: \", grid_search.best_params_)"
   ]
  },
  {
   "cell_type": "code",
   "execution_count": 27,
   "id": "55a03811",
   "metadata": {},
   "outputs": [
    {
     "data": {
      "text/plain": [
       "MultinomialNB(alpha=0.1)"
      ]
     },
     "execution_count": 27,
     "metadata": {},
     "output_type": "execute_result"
    }
   ],
   "source": [
    "#Now lets retrain the model with the optimal hyperparameters\n",
    "\n",
    "#Retrain your classifier with the optimal alpha value\n",
    "optimal_clf = MultinomialNB(alpha=0.1)\n",
    "optimal_clf.fit(X_train, y_train)"
   ]
  },
  {
   "cell_type": "code",
   "execution_count": 28,
   "id": "9dae2377",
   "metadata": {},
   "outputs": [
    {
     "name": "stdout",
     "output_type": "stream",
     "text": [
      "              precision    recall  f1-score   support\n",
      "\n",
      "          -1       0.59      0.20      0.30      2272\n",
      "           0       0.56      0.79      0.66      5262\n",
      "           1       0.67      0.55      0.61      4119\n",
      "\n",
      "    accuracy                           0.59     11653\n",
      "   macro avg       0.61      0.52      0.52     11653\n",
      "weighted avg       0.60      0.59      0.57     11653\n",
      "\n",
      "Optimized Accuracy:  0.5936668669012272\n"
     ]
    }
   ],
   "source": [
    "#Next we shall re-evaluate the performance of the model\n",
    "\n",
    "#Make predictions with the optimized model\n",
    "optimal_y_pred = optimal_clf.predict(X_test)\n",
    "\n",
    "#Evaluate the optimized predictions\n",
    "print(classification_report(y_test, optimal_y_pred))\n",
    "print(\"Optimized Accuracy: \", accuracy_score(y_test, optimal_y_pred))"
   ]
  },
  {
   "cell_type": "code",
   "execution_count": 29,
   "id": "c8c9a014",
   "metadata": {},
   "outputs": [
    {
     "data": {
      "image/png": "[encoded data removed]",
      "text/plain": [
       "<Figure size 432x288 with 2 Axes>"
      ]
     },
     "metadata": {
      "needs_background": "light"
     },
     "output_type": "display_data"
    }
   ],
   "source": [
    "#Optimized model confusion matrix\n",
    "optimal_cm = confusion_matrix(y_test, optimal_y_pred)\n",
    "sns.heatmap(optimal_cm, annot=True, fmt='d')\n",
    "plt.xlabel('Predicted')\n",
    "plt.ylabel('True')\n",
    "plt.show()"
   ]
  },
  {
   "cell_type": "code",
   "execution_count": 30,
   "id": "da89c467",
   "metadata": {},
   "outputs": [],
   "source": [
    "#Understanding from this after retraining there hasnt been any significant change in the results from the model \n",
    "#Therefore we will perform deeper error analysis\n",
    "\n",
    "#Adding predictions to the original dataframe\n",
    "data['predicted'] = optimal_clf.predict(tfidf_df)"
   ]
  },
  {
   "cell_type": "code",
   "execution_count": 31,
   "id": "28a27905",
   "metadata": {},
   "outputs": [],
   "source": [
    "#Filter out the misclassified examples\n",
    "misclassified = data[data['label'] != data['predicted']]"
   ]
  },
  {
   "cell_type": "code",
   "execution_count": 32,
   "id": "3633e969",
   "metadata": {},
   "outputs": [
    {
     "name": "stdout",
     "output_type": "stream",
     "text": [
      "                                                    text  label  predicted\n",
      "47523  Hillary’s hordes step up violent anti Trump ri...     -1          0\n",
      "20390  Nirvana was scheduled to headline Lollapalooza...     -1          1\n",
      "44937  Saudi Arabia sentences woman to death by stoni...     -1          0\n",
      "34877  Tomorrow I will be in Nashville wearing a too ...      1          0\n",
      "49094  Where's @UN #hamas is a terrorist group! @real...     -1          0\n",
      "47603  The truth is out there: there is a wall on the...     -1          0\n",
      "43499  Kendrick Lamar became the 2nd most nominated a...      1          0\n",
      "56133  *** COURTESY POST - URGENT - RESCUE ONLY ***In...     -1          0\n",
      "33537  @FixYourEq Gay marriage may not be your cup of...      0         -1\n",
      "39947  I can't wait to take Bentley with me to work t...      0          1\n",
      "47010      #GilmoreGirlsTop4 Kirk, Sookie, Luke and Jess      1          0\n",
      "25065  I don't get the panic at all. Still in playoff...      1          0\n",
      "15111  @DTSB16 I could prattle on about 90s music all...      1          0\n",
      "36398  Everyone with common sense should be wary of I...     -1          0\n",
      "4960   Bj Penn, Shogun, Nick Diaz and Swick fighting ...      1          0\n",
      "16472  You know what sucks about Battleground this Su...     -1          0\n",
      "6080   Fabio Capello: From what I've seen these days ...      1          0\n",
      "52443                     CLASSICS ROOTS. #ThankYouObama      1          0\n",
      "38199  Nothing like eating pizza watching John Cena w...      1          0\n",
      "28239  Elvis's .455 (15-33) career batting average ve...      1          0\n"
     ]
    }
   ],
   "source": [
    "#Print out some of the misclassified examples to analyze\n",
    "print(misclassified[['text', 'label', 'predicted']].sample(20))"
   ]
  },
  {
   "cell_type": "code",
   "execution_count": 33,
   "id": "33dbd8b6",
   "metadata": {},
   "outputs": [],
   "source": [
    "#Next lets perform feature engineering with n-grams\n",
    "#Here we add bi-grams to the TF-IDF features to capture more context which could help improve the models performance\n",
    "\n",
    "#Re-create the TF-IDF vectorizer to include bi-grams\n",
    "tfidf_vectorizer = TfidfVectorizer(max_features=1000, ngram_range=(1,2))"
   ]
  },
  {
   "cell_type": "code",
   "execution_count": 34,
   "id": "f12eaf97",
   "metadata": {},
   "outputs": [],
   "source": [
    "#Fit the vectoirzer on the cleaned text and transform using the TF-IDF features\n",
    "tfidf_features = tfidf_vectorizer.fit_transform(data['cleaned_text'])"
   ]
  },
  {
   "cell_type": "code",
   "execution_count": 35,
   "id": "d8712984",
   "metadata": {},
   "outputs": [],
   "source": [
    "#Split the data again because we have changed the features above\n",
    "X_train, X_test, y_train, y_test = train_test_split(tfidf_features, data['label'], test_size=0.2, random_state=42)"
   ]
  },
  {
   "cell_type": "code",
   "execution_count": 36,
   "id": "3dfe0092",
   "metadata": {},
   "outputs": [
    {
     "data": {
      "text/plain": [
       "MultinomialNB(alpha=0.1)"
      ]
     },
     "execution_count": 36,
     "metadata": {},
     "output_type": "execute_result"
    }
   ],
   "source": [
    "#Re-train the model\n",
    "optimal_clf.fit(X_train, y_train)"
   ]
  },
  {
   "cell_type": "code",
   "execution_count": 37,
   "id": "b79dd392",
   "metadata": {},
   "outputs": [
    {
     "name": "stdout",
     "output_type": "stream",
     "text": [
      "              precision    recall  f1-score   support\n",
      "\n",
      "          -1       0.55      0.20      0.29      2272\n",
      "           0       0.56      0.79      0.65      5262\n",
      "           1       0.65      0.54      0.59      4119\n",
      "\n",
      "    accuracy                           0.58     11653\n",
      "   macro avg       0.59      0.51      0.51     11653\n",
      "weighted avg       0.59      0.58      0.56     11653\n",
      "\n"
     ]
    }
   ],
   "source": [
    "#Evalate the model with bigrams\n",
    "y_pred = optimal_clf.predict(X_test)\n",
    "print(classification_report(y_test, y_pred))"
   ]
  },
  {
   "cell_type": "code",
   "execution_count": 38,
   "id": "25eb3e2e",
   "metadata": {},
   "outputs": [],
   "source": [
    "#By this point we have realized that the naive bayes model isnt working as expected so we will experiment on a Logistc regression model"
   ]
  },
  {
   "cell_type": "code",
   "execution_count": 39,
   "id": "c13fcbb3",
   "metadata": {},
   "outputs": [],
   "source": [
    "from sklearn.linear_model import LogisticRegression"
   ]
  },
  {
   "cell_type": "code",
   "execution_count": 40,
   "id": "a602a8e8",
   "metadata": {},
   "outputs": [],
   "source": [
    "#Initialize the logistic regression model\n",
    "log_reg = LogisticRegression(random_state=42)"
   ]
  },
  {
   "cell_type": "code",
   "execution_count": 41,
   "id": "1160f752",
   "metadata": {},
   "outputs": [
    {
     "name": "stderr",
     "output_type": "stream",
     "text": [
      "C:\\Users\\DELL\\anaconda3\\lib\\site-packages\\sklearn\\linear_model\\_logistic.py:814: ConvergenceWarning: lbfgs failed to converge (status=1):\n",
      "STOP: TOTAL NO. of ITERATIONS REACHED LIMIT.\n",
      "\n",
      "Increase the number of iterations (max_iter) or scale the data as shown in:\n",
      "    https://scikit-learn.org/stable/modules/preprocessing.html\n",
      "Please also refer to the documentation for alternative solver options:\n",
      "    https://scikit-learn.org/stable/modules/linear_model.html#logistic-regression\n",
      "  n_iter_i = _check_optimize_result(\n"
     ]
    },
    {
     "data": {
      "text/plain": [
       "LogisticRegression(random_state=42)"
      ]
     },
     "execution_count": 41,
     "metadata": {},
     "output_type": "execute_result"
    }
   ],
   "source": [
    "#Train the model\n",
    "log_reg.fit(X_train, y_train)"
   ]
  },
  {
   "cell_type": "code",
   "execution_count": 42,
   "id": "11b1341e",
   "metadata": {},
   "outputs": [
    {
     "name": "stdout",
     "output_type": "stream",
     "text": [
      "              precision    recall  f1-score   support\n",
      "\n",
      "          -1       0.56      0.34      0.42      2272\n",
      "           0       0.58      0.75      0.66      5262\n",
      "           1       0.67      0.58      0.62      4119\n",
      "\n",
      "    accuracy                           0.61     11653\n",
      "   macro avg       0.60      0.55      0.57     11653\n",
      "weighted avg       0.61      0.61      0.60     11653\n",
      "\n"
     ]
    }
   ],
   "source": [
    "#Make predictions and evaluate the model\n",
    "y_pred_log_reg = log_reg.predict(X_test)\n",
    "print(classification_report(y_test, y_pred_log_reg))"
   ]
  },
  {
   "cell_type": "code",
   "execution_count": 43,
   "id": "385cd7bb",
   "metadata": {},
   "outputs": [],
   "source": [
    "#Now lets use cross validation to ensure the models stability across different data splits\n",
    "from sklearn.model_selection import cross_val_score"
   ]
  },
  {
   "cell_type": "code",
   "execution_count": 44,
   "id": "831608b4",
   "metadata": {},
   "outputs": [
    {
     "name": "stderr",
     "output_type": "stream",
     "text": [
      "C:\\Users\\DELL\\anaconda3\\lib\\site-packages\\sklearn\\linear_model\\_logistic.py:814: ConvergenceWarning: lbfgs failed to converge (status=1):\n",
      "STOP: TOTAL NO. of ITERATIONS REACHED LIMIT.\n",
      "\n",
      "Increase the number of iterations (max_iter) or scale the data as shown in:\n",
      "    https://scikit-learn.org/stable/modules/preprocessing.html\n",
      "Please also refer to the documentation for alternative solver options:\n",
      "    https://scikit-learn.org/stable/modules/linear_model.html#logistic-regression\n",
      "  n_iter_i = _check_optimize_result(\n",
      "C:\\Users\\DELL\\anaconda3\\lib\\site-packages\\sklearn\\linear_model\\_logistic.py:814: ConvergenceWarning: lbfgs failed to converge (status=1):\n",
      "STOP: TOTAL NO. of ITERATIONS REACHED LIMIT.\n",
      "\n",
      "Increase the number of iterations (max_iter) or scale the data as shown in:\n",
      "    https://scikit-learn.org/stable/modules/preprocessing.html\n",
      "Please also refer to the documentation for alternative solver options:\n",
      "    https://scikit-learn.org/stable/modules/linear_model.html#logistic-regression\n",
      "  n_iter_i = _check_optimize_result(\n",
      "C:\\Users\\DELL\\anaconda3\\lib\\site-packages\\sklearn\\linear_model\\_logistic.py:814: ConvergenceWarning: lbfgs failed to converge (status=1):\n",
      "STOP: TOTAL NO. of ITERATIONS REACHED LIMIT.\n",
      "\n",
      "Increase the number of iterations (max_iter) or scale the data as shown in:\n",
      "    https://scikit-learn.org/stable/modules/preprocessing.html\n",
      "Please also refer to the documentation for alternative solver options:\n",
      "    https://scikit-learn.org/stable/modules/linear_model.html#logistic-regression\n",
      "  n_iter_i = _check_optimize_result(\n",
      "C:\\Users\\DELL\\anaconda3\\lib\\site-packages\\sklearn\\linear_model\\_logistic.py:814: ConvergenceWarning: lbfgs failed to converge (status=1):\n",
      "STOP: TOTAL NO. of ITERATIONS REACHED LIMIT.\n",
      "\n",
      "Increase the number of iterations (max_iter) or scale the data as shown in:\n",
      "    https://scikit-learn.org/stable/modules/preprocessing.html\n",
      "Please also refer to the documentation for alternative solver options:\n",
      "    https://scikit-learn.org/stable/modules/linear_model.html#logistic-regression\n",
      "  n_iter_i = _check_optimize_result(\n"
     ]
    },
    {
     "name": "stdout",
     "output_type": "stream",
     "text": [
      "Average cross-validation score:  0.5253150615835428\n"
     ]
    },
    {
     "name": "stderr",
     "output_type": "stream",
     "text": [
      "C:\\Users\\DELL\\anaconda3\\lib\\site-packages\\sklearn\\linear_model\\_logistic.py:814: ConvergenceWarning: lbfgs failed to converge (status=1):\n",
      "STOP: TOTAL NO. of ITERATIONS REACHED LIMIT.\n",
      "\n",
      "Increase the number of iterations (max_iter) or scale the data as shown in:\n",
      "    https://scikit-learn.org/stable/modules/preprocessing.html\n",
      "Please also refer to the documentation for alternative solver options:\n",
      "    https://scikit-learn.org/stable/modules/linear_model.html#logistic-regression\n",
      "  n_iter_i = _check_optimize_result(\n"
     ]
    }
   ],
   "source": [
    "#Perform cross-validation and then average the scores\n",
    "cross_val_scores = cross_val_score(log_reg, tfidf_features, data['label'], cv=5)\n",
    "print(\"Average cross-validation score: \", cross_val_scores.mean())"
   ]
  },
  {
   "cell_type": "code",
   "execution_count": 45,
   "id": "f475df72",
   "metadata": {},
   "outputs": [],
   "source": [
    "#Here since the logistic model failed to converge as the optimization algorithm couldn't find the minimum of the loss function\n",
    "#with the number of iterations specified by the max_iter parameter\n"
   ]
  },
  {
   "cell_type": "code",
   "execution_count": 46,
   "id": "dbdc0fc4",
   "metadata": {},
   "outputs": [
    {
     "data": {
      "text/plain": [
       "LogisticRegression(max_iter=1000, random_state=42)"
      ]
     },
     "execution_count": 46,
     "metadata": {},
     "output_type": "execute_result"
    }
   ],
   "source": [
    "#Therefore lets increase the number of iterations\n",
    "#Lets increase the max_iter parameter to give the algorithm more iterations to converge\n",
    "\n",
    "final_model = LogisticRegression(random_state=42, max_iter=1000) \n",
    "final_model.fit(tfidf_features, data['label'])"
   ]
  },
  {
   "cell_type": "code",
   "execution_count": 47,
   "id": "c8be151b",
   "metadata": {},
   "outputs": [
    {
     "data": {
      "text/plain": [
       "LogisticRegression(max_iter=1000, random_state=42)"
      ]
     },
     "execution_count": 47,
     "metadata": {},
     "output_type": "execute_result"
    }
   ],
   "source": [
    "#Data scaling step to scale the data since the features have very different scales\n",
    "from sklearn.preprocessing import MaxAbsScaler\n",
    "\n",
    "scaler = MaxAbsScaler()\n",
    "X_train_scaled = scaler.fit_transform(X_train)\n",
    "X_test_scaled = scaler.transform(X_test)\n",
    "\n",
    "final_model = LogisticRegression(random_state=42, max_iter=1000)\n",
    "final_model.fit(X_train_scaled, y_train)"
   ]
  },
  {
   "cell_type": "code",
   "execution_count": 48,
   "id": "fc7f9406",
   "metadata": {},
   "outputs": [
    {
     "data": {
      "text/plain": [
       "LogisticRegression(max_iter=1000, random_state=42, solver='saga')"
      ]
     },
     "execution_count": 48,
     "metadata": {},
     "output_type": "execute_result"
    }
   ],
   "source": [
    "#Now lets also try a different solver by changing the solver parameters\n",
    "final_model = LogisticRegression(random_state=42, max_iter=1000, solver='saga') #Here we are using the saga solver\n",
    "final_model.fit(tfidf_features, data['label'])"
   ]
  },
  {
   "cell_type": "code",
   "execution_count": 49,
   "id": "c3b15891",
   "metadata": {},
   "outputs": [
    {
     "name": "stdout",
     "output_type": "stream",
     "text": [
      "Average cross-validation score:  0.5250404453485293\n"
     ]
    }
   ],
   "source": [
    "#Now lets perform cross validation again to get results\n",
    "cross_val_scores = cross_val_score(LogisticRegression(random_state=42, max_iter=1000), tfidf_features, data['label'], cv=5)\n",
    "print(\"Average cross-validation score: \", cross_val_scores.mean())"
   ]
  },
  {
   "cell_type": "code",
   "execution_count": 50,
   "id": "9fdd4c7e",
   "metadata": {},
   "outputs": [],
   "source": [
    "#By this point we have identified that we are getting a score of 0.525 but there is room for improvement in the models performance"
   ]
  },
  {
   "cell_type": "code",
   "execution_count": 142,
   "id": "71b53b41",
   "metadata": {},
   "outputs": [
    {
     "name": "stderr",
     "output_type": "stream",
     "text": [
      "C:\\Users\\DELL\\anaconda3\\lib\\site-packages\\sklearn\\model_selection\\_validation.py:372: FitFailedWarning: \n",
      "25 fits failed out of a total of 50.\n",
      "The score on these train-test partitions for these parameters will be set to nan.\n",
      "If these failures are not expected, you can try to debug them by setting error_score='raise'.\n",
      "\n",
      "Below are more details about the failures:\n",
      "--------------------------------------------------------------------------------\n",
      "25 fits failed with the following error:\n",
      "Traceback (most recent call last):\n",
      "  File \"C:\\Users\\DELL\\anaconda3\\lib\\site-packages\\sklearn\\model_selection\\_validation.py\", line 680, in _fit_and_score\n",
      "    estimator.fit(X_train, y_train, **fit_params)\n",
      "  File \"C:\\Users\\DELL\\anaconda3\\lib\\site-packages\\sklearn\\linear_model\\_logistic.py\", line 1461, in fit\n",
      "    solver = _check_solver(self.solver, self.penalty, self.dual)\n",
      "  File \"C:\\Users\\DELL\\anaconda3\\lib\\site-packages\\sklearn\\linear_model\\_logistic.py\", line 434, in _check_solver\n",
      "    raise ValueError(\n",
      "ValueError: Logistic Regression supports only solvers in ['liblinear', 'newton-cg', 'lbfgs', 'sag', 'saga'], got lgfgs.\n",
      "\n",
      "  warnings.warn(some_fits_failed_message, FitFailedWarning)\n",
      "C:\\Users\\DELL\\anaconda3\\lib\\site-packages\\sklearn\\model_selection\\_search.py:969: UserWarning: One or more of the test scores are non-finite: [       nan 0.55281177        nan 0.60284491        nan 0.6117703\n",
      "        nan 0.6108049         nan 0.6100969 ]\n",
      "  warnings.warn(\n"
     ]
    },
    {
     "name": "stdout",
     "output_type": "stream",
     "text": [
      "Best Parameters:  {'C': 1, 'max_iter': 1000, 'solver': 'saga'}\n"
     ]
    }
   ],
   "source": [
    "#Lets perform further model tuning\n",
    "from sklearn.model_selection import GridSearchCV\n",
    "\n",
    "#Define the parameter grid to search for the best parameters\n",
    "param_grid = {\n",
    "    'C': [0.01, 0.1, 1, 10, 100], #Regularization strength\n",
    "    'solver': ['lgfgs', 'saga'],  #Solvers\n",
    "    'max_iter': [1000]            #Increase number of iterations\n",
    "}\n",
    "\n",
    "#Initialize the grid search\n",
    "grid_search = GridSearchCV(LogisticRegression(random_state=42), param_grid, cv=5, n_jobs=-1)\n",
    "\n",
    "#Perform the grid search with the training data\n",
    "grid_search.fit(X_train, y_train)\n",
    "\n",
    "#Get the best parameters\n",
    "print(\"Best Parameters: \", grid_search.best_params_)"
   ]
  },
  {
   "cell_type": "code",
   "execution_count": 51,
   "id": "3cbfa320",
   "metadata": {},
   "outputs": [
    {
     "ename": "TypeError",
     "evalue": "__init__() got an unexpected keyword argument 'alpha'",
     "output_type": "error",
     "traceback": [
      "\u001b[1;31m---------------------------------------------------------------------------\u001b[0m",
      "\u001b[1;31mTypeError\u001b[0m                                 Traceback (most recent call last)",
      "Input \u001b[1;32mIn [51]\u001b[0m, in \u001b[0;36m<cell line: 5>\u001b[1;34m()\u001b[0m\n\u001b[0;32m      1\u001b[0m \u001b[38;5;66;03m#Now we wil re-evaluate the model with best parameters\u001b[39;00m\n\u001b[0;32m      2\u001b[0m \n\u001b[0;32m      3\u001b[0m \u001b[38;5;66;03m#Retrain the model with the best parameters found\u001b[39;00m\n\u001b[0;32m      4\u001b[0m best_params \u001b[38;5;241m=\u001b[39m grid_search\u001b[38;5;241m.\u001b[39mbest_params_\n\u001b[1;32m----> 5\u001b[0m final_model \u001b[38;5;241m=\u001b[39m LogisticRegression(\u001b[38;5;241m*\u001b[39m\u001b[38;5;241m*\u001b[39mbest_params)\n\u001b[0;32m      6\u001b[0m final_model\u001b[38;5;241m.\u001b[39mfit(X_train, y_train)\n\u001b[0;32m      8\u001b[0m \u001b[38;5;66;03m#Re-evaluate the model\u001b[39;00m\n",
      "\u001b[1;31mTypeError\u001b[0m: __init__() got an unexpected keyword argument 'alpha'"
     ]
    }
   ],
   "source": [
    "#Now we wil re-evaluate the model with best parameters\n",
    "\n",
    "#Retrain the model with the best parameters found\n",
    "best_params = grid_search.best_params_\n",
    "final_model = LogisticRegression(**best_params)\n",
    "final_model.fit(X_train, y_train)\n",
    "\n",
    "#Re-evaluate the model\n",
    "y_pred_final = final_model.predict(X_test)\n",
    "print(classification_report(y_test, y_pred_final))"
   ]
  },
  {
   "cell_type": "code",
   "execution_count": null,
   "id": "1139fb0e",
   "metadata": {},
   "outputs": [],
   "source": [
    "#Explore feature engineering - dimensionality reduction\n",
    "from sklearn.decomposition import PCA\n",
    "\n",
    "pca = PCA(n_components=0.95)  #Keep 95% of variance\n",
    "X_train_pca = pca.fit_transform(X_train)\n",
    "X_test_pca = pca.transform(X_test)\n",
    "\n",
    "#Train and evaluate the model on PCA-transformed data\n",
    "final_model.fit(X_train_pca, y_train)\n",
    "y_pred_pca = final_model.predict(X_test_pca)\n",
    "print(classification_report(y_test, y_pred_pca))"
   ]
  },
  {
   "cell_type": "code",
   "execution_count": 52,
   "id": "acd84ee6",
   "metadata": {},
   "outputs": [],
   "source": [
    "#The error above has occured as PCA doesn't support sparse matrix inputs, which are common when using text data transformed by methods like TF-IDF"
   ]
  },
  {
   "cell_type": "code",
   "execution_count": 55,
   "id": "e2a05676",
   "metadata": {},
   "outputs": [],
   "source": [
    "#Implementing a Random Forest Classifier\n",
    "from sklearn.ensemble import RandomForestClassifier\n",
    "\n",
    "#Initialize the random forest classifier\n",
    "rf_classifier = RandomForestClassifier(n_estimators=100, random_state=4, n_jobs=1)"
   ]
  },
  {
   "cell_type": "code",
   "execution_count": 56,
   "id": "ddfdd19a",
   "metadata": {},
   "outputs": [
    {
     "name": "stdout",
     "output_type": "stream",
     "text": [
      "              precision    recall  f1-score   support\n",
      "\n",
      "          -1       0.57      0.23      0.33      2272\n",
      "           0       0.56      0.79      0.65      5262\n",
      "           1       0.67      0.54      0.60      4119\n",
      "\n",
      "    accuracy                           0.59     11653\n",
      "   macro avg       0.60      0.52      0.53     11653\n",
      "weighted avg       0.60      0.59      0.57     11653\n",
      "\n",
      "Accuracy:  0.591349866987042\n"
     ]
    }
   ],
   "source": [
    "#Train the classifier on the training data\n",
    "rf_classifier.fit(X_train, y_train)\n",
    "\n",
    "#Predict on the test data\n",
    "rf_predictions = rf_classifier.predict(X_test)\n",
    "\n",
    "#Evaluate the predictions\n",
    "from sklearn.metrics import classification_report, accuracy_score\n",
    "print(classification_report(y_test, rf_predictions))\n",
    "print(\"Accuracy: \", accuracy_score(y_test, rf_predictions))"
   ]
  },
  {
   "cell_type": "code",
   "execution_count": 79,
   "id": "7e612ecb",
   "metadata": {},
   "outputs": [
    {
     "name": "stdout",
     "output_type": "stream",
     "text": [
      "Requirement already satisfied: lightgbm in c:\\users\\dell\\anaconda3\\lib\\site-packages (4.3.0)\n",
      "Requirement already satisfied: scipy in c:\\users\\dell\\anaconda3\\lib\\site-packages (from lightgbm) (1.7.3)\n",
      "Requirement already satisfied: numpy in c:\\users\\dell\\anaconda3\\lib\\site-packages (from lightgbm) (1.21.5)\n",
      "Requirement already satisfied: lightgbm in c:\\users\\dell\\anaconda3\\lib\\site-packages (4.3.0)\n",
      "Requirement already satisfied: scipy in c:\\users\\dell\\anaconda3\\lib\\site-packages (from lightgbm) (1.7.3)\n",
      "Requirement already satisfied: numpy in c:\\users\\dell\\anaconda3\\lib\\site-packages (from lightgbm) (1.21.5)\n"
     ]
    }
   ],
   "source": [
    "!pip install lightgbm\n",
    "!pip install --upgrade lightgbm"
   ]
  },
  {
   "cell_type": "code",
   "execution_count": 85,
   "id": "1b79b993",
   "metadata": {},
   "outputs": [],
   "source": [
    "#Now we could also try with Gradient Boost Machine\n",
    "import numpy as np\n",
    "import lightgbm as lgb\n",
    "\n",
    "#Create the lightGBM data containers\n",
    "trn_data = lgb.Dataset(X_train, label=y_train)\n",
    "val_data = lgb.Dataset(X_test, label=y_test)"
   ]
  },
  {
   "cell_type": "code",
   "execution_count": 86,
   "id": "180cbee3",
   "metadata": {},
   "outputs": [],
   "source": [
    "# Set the parameters for the LightGBM model\n",
    "params = {\n",
    "    'num_leaves': 38,\n",
    "    'min_data_in_leaf': 50,\n",
    "    'objective': 'multiclass',  # Ensure this is 'multiclass' for classification\n",
    "    'max_depth': -1,\n",
    "    'learning_rate': 0.1,\n",
    "    'num_class': 3,   # Update this to the number of classes in your target variable\n",
    "    'metric': 'multi_logloss',  # Use an appropriate metric for classification\n",
    "}"
   ]
  },
  {
   "cell_type": "code",
   "execution_count": 87,
   "id": "8f78e3bd",
   "metadata": {},
   "outputs": [
    {
     "ename": "TypeError",
     "evalue": "train() got an unexpected keyword argument 'early_stopping_rounds'",
     "output_type": "error",
     "traceback": [
      "\u001b[1;31m---------------------------------------------------------------------------\u001b[0m",
      "\u001b[1;31mTypeError\u001b[0m                                 Traceback (most recent call last)",
      "Input \u001b[1;32mIn [87]\u001b[0m, in \u001b[0;36m<cell line: 2>\u001b[1;34m()\u001b[0m\n\u001b[0;32m      1\u001b[0m \u001b[38;5;66;03m# Train the model with the specified parameters and callback for early stopping\u001b[39;00m\n\u001b[1;32m----> 2\u001b[0m model \u001b[38;5;241m=\u001b[39m \u001b[43mlgb\u001b[49m\u001b[38;5;241;43m.\u001b[39;49m\u001b[43mtrain\u001b[49m\u001b[43m(\u001b[49m\u001b[43mparams\u001b[49m\u001b[43m,\u001b[49m\n\u001b[0;32m      3\u001b[0m \u001b[43m                  \u001b[49m\u001b[43mtrn_data\u001b[49m\u001b[43m,\u001b[49m\n\u001b[0;32m      4\u001b[0m \u001b[43m                  \u001b[49m\u001b[43mnum_boost_round\u001b[49m\u001b[38;5;241;43m=\u001b[39;49m\u001b[38;5;241;43m20000\u001b[39;49m\u001b[43m,\u001b[49m\n\u001b[0;32m      5\u001b[0m \u001b[43m                  \u001b[49m\u001b[43mvalid_sets\u001b[49m\u001b[38;5;241;43m=\u001b[39;49m\u001b[43m[\u001b[49m\u001b[43mval_data\u001b[49m\u001b[43m]\u001b[49m\u001b[43m,\u001b[49m\u001b[43m  \u001b[49m\u001b[38;5;66;43;03m# Use the validation set for early stopping\u001b[39;49;00m\n\u001b[0;32m      6\u001b[0m \u001b[43m                  \u001b[49m\u001b[43mearly_stopping_rounds\u001b[49m\u001b[38;5;241;43m=\u001b[39;49m\u001b[38;5;241;43m50\u001b[39;49m\u001b[43m,\u001b[49m\u001b[43m  \u001b[49m\u001b[38;5;66;43;03m# This will enable early stopping\u001b[39;49;00m\n\u001b[0;32m      7\u001b[0m \u001b[43m                  \u001b[49m\u001b[43mverbose_eval\u001b[49m\u001b[38;5;241;43m=\u001b[39;49m\u001b[38;5;241;43m50\u001b[39;49m\u001b[43m)\u001b[49m\n",
      "\u001b[1;31mTypeError\u001b[0m: train() got an unexpected keyword argument 'early_stopping_rounds'"
     ]
    }
   ],
   "source": [
    "# Train the model with the specified parameters and callback for early stopping\n",
    "model = lgb.train(params,\n",
    "                  trn_data,\n",
    "                  num_boost_round=20000,\n",
    "                  valid_sets=[val_data],  # Use the validation set for early stopping\n",
    "                  early_stopping_rounds=50,  # This will enable early stopping\n",
    "                  verbose_eval=50)"
   ]
  },
  {
   "cell_type": "code",
   "execution_count": 75,
   "id": "c08648bf",
   "metadata": {},
   "outputs": [
    {
     "name": "stdout",
     "output_type": "stream",
     "text": [
      "Name: lightgbm\n",
      "Version: 4.3.0\n",
      "Summary: LightGBM Python Package\n",
      "Home-page: https://github.com/microsoft/LightGBM\n",
      "Author: \n",
      "Author-email: \n",
      "License: The MIT License (MIT)\n",
      "        \n",
      "        Copyright (c) Microsoft Corporation\n",
      "        \n",
      "        Permission is hereby granted, free of charge, to any person obtaining a copy\n",
      "        of this software and associated documentation files (the \"Software\"), to deal\n",
      "        in the Software without restriction, including without limitation the rights\n",
      "        to use, copy, modify, merge, publish, distribute, sublicense, and/or sell\n",
      "        copies of the Software, and to permit persons to whom the Software is\n",
      "        furnished to do so, subject to the following conditions:\n",
      "        \n",
      "        The above copyright notice and this permission notice shall be included in all\n",
      "        copies or substantial portions of the Software.\n",
      "        \n",
      "        THE SOFTWARE IS PROVIDED \"AS IS\", WITHOUT WARRANTY OF ANY KIND, EXPRESS OR\n",
      "        IMPLIED, INCLUDING BUT NOT LIMITED TO THE WARRANTIES OF MERCHANTABILITY,\n",
      "        FITNESS FOR A PARTICULAR PURPOSE AND NONINFRINGEMENT. IN NO EVENT SHALL THE\n",
      "        AUTHORS OR COPYRIGHT HOLDERS BE LIABLE FOR ANY CLAIM, DAMAGES OR OTHER\n",
      "        LIABILITY, WHETHER IN AN ACTION OF CONTRACT, TORT OR OTHERWISE, ARISING FROM,\n",
      "        OUT OF OR IN CONNECTION WITH THE SOFTWARE OR THE USE OR OTHER DEALINGS IN THE\n",
      "        SOFTWARE.\n",
      "Location: c:\\users\\dell\\anaconda3\\lib\\site-packages\n",
      "Requires: scipy, numpy\n",
      "Required-by: \n",
      "Note: you may need to restart the kernel to use updated packages.\n"
     ]
    }
   ],
   "source": [
    "pip show lightgbm"
   ]
  },
  {
   "cell_type": "code",
   "execution_count": 88,
   "id": "2bfcb7a4",
   "metadata": {},
   "outputs": [],
   "source": [
    "#From this point onwards lightGBM wouldn't be used to train due to the errors"
   ]
  },
  {
   "cell_type": "code",
   "execution_count": 90,
   "id": "490b4eaa",
   "metadata": {},
   "outputs": [],
   "source": [
    "#We will now try a linear support vector classifier\n",
    "from sklearn.svm import LinearSVC\n",
    "from sklearn.metrics import classification_report, accuracy_score\n",
    "from sklearn.model_selection import train_test_split"
   ]
  },
  {
   "cell_type": "code",
   "execution_count": 91,
   "id": "e39d5aa8",
   "metadata": {},
   "outputs": [],
   "source": [
    "#Now lets split the data\n",
    "X_train, X_test, y_train, y_test = train_test_split(tfidf_features, data['label'], test_size=0.2, random_state=42)"
   ]
  },
  {
   "cell_type": "code",
   "execution_count": 92,
   "id": "fabf98c1",
   "metadata": {},
   "outputs": [],
   "source": [
    "#Initialize the LinearSVC model\n",
    "svc_model = LinearSVC(random_state=42)"
   ]
  },
  {
   "cell_type": "code",
   "execution_count": 94,
   "id": "661b46eb",
   "metadata": {},
   "outputs": [
    {
     "data": {
      "text/plain": [
       "LinearSVC(random_state=42)"
      ]
     },
     "execution_count": 94,
     "metadata": {},
     "output_type": "execute_result"
    }
   ],
   "source": [
    "#Fit the model to the training data\n",
    "svc_model.fit(X_train, y_train)"
   ]
  },
  {
   "cell_type": "code",
   "execution_count": 97,
   "id": "7bacfa11",
   "metadata": {},
   "outputs": [],
   "source": [
    "#Predict on the test data \n",
    "svc_predictions = svc_model.predict(X_test)"
   ]
  },
  {
   "cell_type": "code",
   "execution_count": 98,
   "id": "a0d57f14",
   "metadata": {},
   "outputs": [
    {
     "name": "stdout",
     "output_type": "stream",
     "text": [
      "              precision    recall  f1-score   support\n",
      "\n",
      "          -1       0.56      0.32      0.41      2272\n",
      "           0       0.58      0.76      0.66      5262\n",
      "           1       0.66      0.57      0.61      4119\n",
      "\n",
      "    accuracy                           0.61     11653\n",
      "   macro avg       0.60      0.55      0.56     11653\n",
      "weighted avg       0.61      0.61      0.59     11653\n",
      "\n",
      "Accuracy:  0.605938384965245\n"
     ]
    }
   ],
   "source": [
    "#Evaluate the model\n",
    "print(classification_report(y_test, svc_predictions))\n",
    "print(\"Accuracy: \", accuracy_score(y_test, svc_predictions))"
   ]
  },
  {
   "cell_type": "code",
   "execution_count": 104,
   "id": "742138ab",
   "metadata": {},
   "outputs": [
    {
     "name": "stdout",
     "output_type": "stream",
     "text": [
      "Neutral\n"
     ]
    }
   ],
   "source": [
    "#Function to test the model with a review\n",
    "def predict_sentiment(review):\n",
    "    # Transform the review using the earlier fitted tfidf_vectorizer\n",
    "    review_transformed = tfidf_vectorizer.transform([review])\n",
    "    \n",
    "    # Use the trained model to make a prediction\n",
    "    prediction = svc_model.predict(review_transformed)\n",
    "    \n",
    "    # Map the prediction to the sentiment label\n",
    "    sentiment_map = {-1: 'Negative', 0: 'Neutral', 1: 'Positive'}\n",
    "    sentiment = sentiment_map[prediction[0]]\n",
    "    \n",
    "    return sentiment\n",
    "\n",
    "# Example usage:\n",
    "new_review = \"My name is on a list\"\n",
    "print(predict_sentiment(new_review))  # Output: 'Positive'"
   ]
  },
  {
   "cell_type": "code",
   "execution_count": 106,
   "id": "9311c793",
   "metadata": {},
   "outputs": [
    {
     "name": "stdout",
     "output_type": "stream",
     "text": [
      "              precision    recall  f1-score   support\n",
      "\n",
      "          -1       0.64      0.48      0.55      2272\n",
      "           0       0.62      0.71      0.66      5262\n",
      "           1       0.68      0.64      0.66      4119\n",
      "\n",
      "    accuracy                           0.64     11653\n",
      "   macro avg       0.64      0.61      0.62     11653\n",
      "weighted avg       0.64      0.64      0.64     11653\n",
      "\n",
      "Accuracy: 0.6409508281129322\n"
     ]
    }
   ],
   "source": [
    "#Lets once again adjust the TF-IDF vectorizer parameters\n",
    "tfidf_vectorizer = TfidfVectorizer(ngram_range=(1, 2), min_df=2, max_df=0.5)\n",
    "tfidf_features = tfidf_vectorizer.fit_transform(data['text'])\n",
    "\n",
    "X_train, X_test, y_train, y_test = train_test_split(tfidf_features, data['label'], test_size=0.2, random_state=42)\n",
    "\n",
    "svc_model = LinearSVC(random_state=42)\n",
    "svc_model.fit(X_train, y_train)\n",
    "svc_predictions = svc_model.predict(X_test)\n",
    "\n",
    "print(classification_report(y_test, svc_predictions))\n",
    "print(\"Accuracy:\", accuracy_score(y_test, svc_predictions))"
   ]
  },
  {
   "cell_type": "code",
   "execution_count": 109,
   "id": "874abcd2",
   "metadata": {},
   "outputs": [
    {
     "name": "stdout",
     "output_type": "stream",
     "text": [
      "Fitting 5 folds for each of 15 candidates, totalling 75 fits\n"
     ]
    },
    {
     "name": "stderr",
     "output_type": "stream",
     "text": [
      "C:\\Users\\DELL\\anaconda3\\lib\\site-packages\\sklearn\\svm\\_base.py:1206: ConvergenceWarning: Liblinear failed to converge, increase the number of iterations.\n",
      "  warnings.warn(\n",
      "C:\\Users\\DELL\\anaconda3\\lib\\site-packages\\sklearn\\svm\\_base.py:1206: ConvergenceWarning: Liblinear failed to converge, increase the number of iterations.\n",
      "  warnings.warn(\n",
      "C:\\Users\\DELL\\anaconda3\\lib\\site-packages\\sklearn\\svm\\_base.py:1206: ConvergenceWarning: Liblinear failed to converge, increase the number of iterations.\n",
      "  warnings.warn(\n",
      "C:\\Users\\DELL\\anaconda3\\lib\\site-packages\\sklearn\\svm\\_base.py:1206: ConvergenceWarning: Liblinear failed to converge, increase the number of iterations.\n",
      "  warnings.warn(\n",
      "C:\\Users\\DELL\\anaconda3\\lib\\site-packages\\sklearn\\svm\\_base.py:1206: ConvergenceWarning: Liblinear failed to converge, increase the number of iterations.\n",
      "  warnings.warn(\n",
      "C:\\Users\\DELL\\anaconda3\\lib\\site-packages\\sklearn\\svm\\_base.py:1206: ConvergenceWarning: Liblinear failed to converge, increase the number of iterations.\n",
      "  warnings.warn(\n",
      "C:\\Users\\DELL\\anaconda3\\lib\\site-packages\\sklearn\\svm\\_base.py:1206: ConvergenceWarning: Liblinear failed to converge, increase the number of iterations.\n",
      "  warnings.warn(\n",
      "C:\\Users\\DELL\\anaconda3\\lib\\site-packages\\sklearn\\svm\\_base.py:1206: ConvergenceWarning: Liblinear failed to converge, increase the number of iterations.\n",
      "  warnings.warn(\n",
      "C:\\Users\\DELL\\anaconda3\\lib\\site-packages\\sklearn\\svm\\_base.py:1206: ConvergenceWarning: Liblinear failed to converge, increase the number of iterations.\n",
      "  warnings.warn(\n",
      "C:\\Users\\DELL\\anaconda3\\lib\\site-packages\\sklearn\\svm\\_base.py:1206: ConvergenceWarning: Liblinear failed to converge, increase the number of iterations.\n",
      "  warnings.warn(\n",
      "C:\\Users\\DELL\\anaconda3\\lib\\site-packages\\sklearn\\svm\\_base.py:1206: ConvergenceWarning: Liblinear failed to converge, increase the number of iterations.\n",
      "  warnings.warn(\n",
      "C:\\Users\\DELL\\anaconda3\\lib\\site-packages\\sklearn\\svm\\_base.py:1206: ConvergenceWarning: Liblinear failed to converge, increase the number of iterations.\n",
      "  warnings.warn(\n",
      "C:\\Users\\DELL\\anaconda3\\lib\\site-packages\\sklearn\\svm\\_base.py:1206: ConvergenceWarning: Liblinear failed to converge, increase the number of iterations.\n",
      "  warnings.warn(\n",
      "C:\\Users\\DELL\\anaconda3\\lib\\site-packages\\sklearn\\svm\\_base.py:1206: ConvergenceWarning: Liblinear failed to converge, increase the number of iterations.\n",
      "  warnings.warn(\n",
      "C:\\Users\\DELL\\anaconda3\\lib\\site-packages\\sklearn\\svm\\_base.py:1206: ConvergenceWarning: Liblinear failed to converge, increase the number of iterations.\n",
      "  warnings.warn(\n"
     ]
    },
    {
     "name": "stdout",
     "output_type": "stream",
     "text": [
      "              precision    recall  f1-score   support\n",
      "\n",
      "          -1       0.70      0.35      0.47      2272\n",
      "           0       0.61      0.80      0.69      5262\n",
      "           1       0.71      0.61      0.66      4119\n",
      "\n",
      "    accuracy                           0.65     11653\n",
      "   macro avg       0.67      0.59      0.60     11653\n",
      "weighted avg       0.66      0.65      0.63     11653\n",
      "\n",
      "Accuracy: 0.6457564575645757\n"
     ]
    }
   ],
   "source": [
    "#Hyperparameter tuning of the model using GridSearchCV to find the optimum c parameter in the LinearSVC\n",
    "from sklearn.model_selection import GridSearchCV\n",
    "from sklearn.svm import LinearSVC\n",
    "\n",
    "# Define the parameter grid for 'C' and 'max_iter'\n",
    "param_grid = {\n",
    "    'C': [0.01, 0.1, 1, 10, 100],\n",
    "    'max_iter': [1000, 2000, 3000]  # Increased number of iterations\n",
    "}\n",
    "\n",
    "# Initialize the GridSearchCV with the LinearSVC model and the defined parameter grid\n",
    "grid_search = GridSearchCV(LinearSVC(random_state=42), param_grid, cv=5, verbose=1)\n",
    "\n",
    "# Fit the GridSearchCV to the training data\n",
    "grid_search.fit(X_train, y_train)\n",
    "\n",
    "# Retrieve the best model from the grid search\n",
    "best_svc_model = grid_search.best_estimator_\n",
    "\n",
    "# Make predictions with the best model\n",
    "best_svc_predictions = best_svc_model.predict(X_test)\n",
    "\n",
    "# Evaluate the best model\n",
    "print(classification_report(y_test, best_svc_predictions))\n",
    "print(\"Accuracy:\", accuracy_score(y_test, best_svc_predictions))"
   ]
  },
  {
   "cell_type": "code",
   "execution_count": 110,
   "id": "2ec6a030",
   "metadata": {},
   "outputs": [
    {
     "data": {
      "text/plain": [
       "LinearSVC(C=0.1, max_iter=10000, random_state=42)"
      ]
     },
     "execution_count": 110,
     "metadata": {},
     "output_type": "execute_result"
    }
   ],
   "source": [
    "#For the moment lets retrain the svc model on the entire dataset\n",
    "final_svc_model = LinearSVC(C=best_svc_model.C, max_iter=10000, random_state=42)\n",
    "final_svc_model.fit(tfidf_features, data['label'])"
   ]
  },
  {
   "cell_type": "code",
   "execution_count": 111,
   "id": "8b3dd521",
   "metadata": {},
   "outputs": [
    {
     "name": "stdout",
     "output_type": "stream",
     "text": [
      "              precision    recall  f1-score   support\n",
      "\n",
      "          -1       0.70      0.35      0.47      2272\n",
      "           0       0.61      0.80      0.69      5262\n",
      "           1       0.71      0.61      0.66      4119\n",
      "\n",
      "    accuracy                           0.65     11653\n",
      "   macro avg       0.67      0.59      0.60     11653\n",
      "weighted avg       0.66      0.65      0.63     11653\n",
      "\n",
      "Accuracy: 0.6457564575645757\n"
     ]
    }
   ],
   "source": [
    "print(classification_report(y_test, best_svc_predictions))\n",
    "print(\"Accuracy:\", accuracy_score(y_test, best_svc_predictions))"
   ]
  },
  {
   "cell_type": "code",
   "execution_count": 119,
   "id": "9da8a39c",
   "metadata": {},
   "outputs": [
    {
     "data": {
      "text/plain": [
       "['tfidf_vectorizer.joblib']"
      ]
     },
     "execution_count": 119,
     "metadata": {},
     "output_type": "execute_result"
    }
   ],
   "source": [
    "#Serialize the model and the vectorizer\n",
    "\n",
    "import joblib\n",
    "\n",
    "# Save the model\n",
    "joblib.dump(final_svc_model, 'final_svc_model.joblib')\n",
    "\n",
    "# Save the vectorizer\n",
    "joblib.dump(tfidf_vectorizer, 'tfidf_vectorizer.joblib')"
   ]
  },
  {
   "cell_type": "code",
   "execution_count": 117,
   "id": "4d458e62",
   "metadata": {},
   "outputs": [
    {
     "name": "stdout",
     "output_type": "stream",
     "text": [
      "C:\\Users\\DELL\n"
     ]
    }
   ],
   "source": [
    "import os\n",
    "\n",
    "#print the current directory\n",
    "print(os.getcwd())"
   ]
  },
  {
   "cell_type": "code",
   "execution_count": null,
   "id": "b7616c6b",
   "metadata": {},
   "outputs": [],
   "source": []
  }
 ],
 "metadata": {
  "kernelspec": {
   "display_name": "Python 3 (ipykernel)",
   "language": "python",
   "name": "python3"
  },
  "language_info": {
   "codemirror_mode": {
    "name": "ipython",
    "version": 3
   },
   "file_extension": ".py",
   "mimetype": "text/x-python",
   "name": "python",
   "nbconvert_exporter": "python",
   "pygments_lexer": "ipython3",
   "version": "3.9.12"
  }
 },
 "nbformat": 4,
 "nbformat_minor": 5
}
