{
 "cells": [
  {
   "cell_type": "code",
   "execution_count": 1,
   "id": "fb24fb6e-d965-411c-8930-8827713fdec2",
   "metadata": {},
   "outputs": [
    {
     "name": "stdout",
     "output_type": "stream",
     "text": [
      "PyTorch Version: 2.2.1\n",
      "CUDA Available: True\n",
      "CUDA Version: 12.1\n"
     ]
    }
   ],
   "source": [
    "import torch\n",
    "print(\"PyTorch Version:\", torch.__version__)\n",
    "print(\"CUDA Available:\", torch.cuda.is_available())\n",
    "print(\"CUDA Version:\", torch.version.cuda)"
   ]
  },
  {
   "cell_type": "code",
   "execution_count": 2,
   "id": "9b59bb97-3b1e-41a5-a2f9-12171c27b13f",
   "metadata": {},
   "outputs": [
    {
     "name": "stdout",
     "output_type": "stream",
     "text": [
      "tensor([[ 0.8381, -1.6794, -0.6402],\n",
      "        [-0.0074,  1.4635,  1.2262],\n",
      "        [ 2.4932,  2.2686,  0.9864]], device='cuda:0')\n"
     ]
    }
   ],
   "source": [
    "# Create a random tensor and move it to GPU\n",
    "x = torch.randn(3, 3).to('cuda')\n",
    "print(x)"
   ]
  },
  {
   "cell_type": "code",
   "execution_count": 3,
   "id": "983a26d5-f774-48bf-a6ae-81b183ce3a93",
   "metadata": {},
   "outputs": [
    {
     "name": "stdout",
     "output_type": "stream",
     "text": [
      "GPU 0: NVIDIA GeForce RTX 3060\n"
     ]
    }
   ],
   "source": [
    "import torch\n",
    "\n",
    "# List all available GPUs\n",
    "if torch.cuda.is_available():\n",
    "    for i in range(torch.cuda.device_count()):\n",
    "        print(f\"GPU {i}: {torch.cuda.get_device_name(i)}\")\n",
    "else:\n",
    "    print(\"No GPUs found\")"
   ]
  },
  {
   "cell_type": "code",
   "execution_count": 4,
   "id": "d64144c5-0f2f-4bd2-8d32-a97600ada621",
   "metadata": {},
   "outputs": [
    {
     "name": "stdout",
     "output_type": "stream",
     "text": [
      "cuda:0\n"
     ]
    },
    {
     "ename": "NameError",
     "evalue": "name 'model' is not defined",
     "output_type": "error",
     "traceback": [
      "\u001b[1;31m---------------------------------------------------------------------------\u001b[0m",
      "\u001b[1;31mNameError\u001b[0m                                 Traceback (most recent call last)",
      "Cell \u001b[1;32mIn[4], line 2\u001b[0m\n\u001b[0;32m      1\u001b[0m \u001b[38;5;28mprint\u001b[39m(x\u001b[38;5;241m.\u001b[39mdevice)  \u001b[38;5;66;03m# Prints device of tensor x\u001b[39;00m\n\u001b[1;32m----> 2\u001b[0m \u001b[38;5;28mprint\u001b[39m(\u001b[38;5;28mnext\u001b[39m(\u001b[43mmodel\u001b[49m\u001b[38;5;241m.\u001b[39mparameters())\u001b[38;5;241m.\u001b[39mdevice)\n",
      "\u001b[1;31mNameError\u001b[0m: name 'model' is not defined"
     ]
    }
   ],
   "source": [
    "print(x.device)  # Prints device of tensor x\n",
    "print(next(model.parameters()).device)  # Prints device of the first parameter of 'model'"
   ]
  },
  {
   "cell_type": "markdown",
   "id": "b2f0405c-82c8-4d04-be12-253be81be710",
   "metadata": {},
   "source": [
    "Using the pre-trained model SamLowe/roberta-base-go_emotions"
   ]
  },
  {
   "cell_type": "code",
   "execution_count": 5,
   "id": "82042846-a6aa-4c4e-93c8-e93387397817",
   "metadata": {},
   "outputs": [
    {
     "name": "stdout",
     "output_type": "stream",
     "text": [
      "Requirement already satisfied: transformers in c:\\users\\adnan\\anaconda3\\new folder\\envs\\mynewenv\\lib\\site-packages (4.38.1)\n",
      "Requirement already satisfied: filelock in c:\\users\\adnan\\anaconda3\\new folder\\envs\\mynewenv\\lib\\site-packages (from transformers) (3.13.1)\n",
      "Requirement already satisfied: huggingface-hub<1.0,>=0.19.3 in c:\\users\\adnan\\anaconda3\\new folder\\envs\\mynewenv\\lib\\site-packages (from transformers) (0.20.3)\n",
      "Requirement already satisfied: numpy>=1.17 in c:\\users\\adnan\\anaconda3\\new folder\\envs\\mynewenv\\lib\\site-packages (from transformers) (1.24.3)\n",
      "Requirement already satisfied: packaging>=20.0 in c:\\users\\adnan\\anaconda3\\new folder\\envs\\mynewenv\\lib\\site-packages (from transformers) (23.1)\n",
      "Requirement already satisfied: pyyaml>=5.1 in c:\\users\\adnan\\anaconda3\\new folder\\envs\\mynewenv\\lib\\site-packages (from transformers) (6.0.1)\n",
      "Requirement already satisfied: regex!=2019.12.17 in c:\\users\\adnan\\anaconda3\\new folder\\envs\\mynewenv\\lib\\site-packages (from transformers) (2023.12.25)\n",
      "Requirement already satisfied: requests in c:\\users\\adnan\\anaconda3\\new folder\\envs\\mynewenv\\lib\\site-packages (from transformers) (2.31.0)\n",
      "Requirement already satisfied: tokenizers<0.19,>=0.14 in c:\\users\\adnan\\anaconda3\\new folder\\envs\\mynewenv\\lib\\site-packages (from transformers) (0.15.2)\n",
      "Requirement already satisfied: safetensors>=0.4.1 in c:\\users\\adnan\\anaconda3\\new folder\\envs\\mynewenv\\lib\\site-packages (from transformers) (0.4.2)\n",
      "Requirement already satisfied: tqdm>=4.27 in c:\\users\\adnan\\anaconda3\\new folder\\envs\\mynewenv\\lib\\site-packages (from transformers) (4.66.2)\n",
      "Requirement already satisfied: fsspec>=2023.5.0 in c:\\users\\adnan\\anaconda3\\new folder\\envs\\mynewenv\\lib\\site-packages (from huggingface-hub<1.0,>=0.19.3->transformers) (2024.2.0)\n",
      "Requirement already satisfied: typing-extensions>=3.7.4.3 in c:\\users\\adnan\\anaconda3\\new folder\\envs\\mynewenv\\lib\\site-packages (from huggingface-hub<1.0,>=0.19.3->transformers) (4.9.0)\n",
      "Requirement already satisfied: colorama in c:\\users\\adnan\\anaconda3\\new folder\\envs\\mynewenv\\lib\\site-packages (from tqdm>=4.27->transformers) (0.4.6)\n",
      "Requirement already satisfied: charset-normalizer<4,>=2 in c:\\users\\adnan\\anaconda3\\new folder\\envs\\mynewenv\\lib\\site-packages (from requests->transformers) (2.0.4)\n",
      "Requirement already satisfied: idna<4,>=2.5 in c:\\users\\adnan\\anaconda3\\new folder\\envs\\mynewenv\\lib\\site-packages (from requests->transformers) (3.4)\n",
      "Requirement already satisfied: urllib3<3,>=1.21.1 in c:\\users\\adnan\\anaconda3\\new folder\\envs\\mynewenv\\lib\\site-packages (from requests->transformers) (2.1.0)\n",
      "Requirement already satisfied: certifi>=2017.4.17 in c:\\users\\adnan\\anaconda3\\new folder\\envs\\mynewenv\\lib\\site-packages (from requests->transformers) (2024.2.2)\n"
     ]
    }
   ],
   "source": [
    "!pip install transformers"
   ]
  },
  {
   "cell_type": "code",
   "execution_count": 6,
   "id": "e77e57de-ec62-46ee-9857-78e09184c55f",
   "metadata": {},
   "outputs": [],
   "source": [
    "from transformers import pipeline\n",
    "\n",
    "# top_k is set for getting top emotions, adjust according to the needs\n",
    "top_k = 5\n",
    "classifier = pipeline(task=\"text-classification\", model=\"SamLowe/roberta-base-go_emotions\", device=0, top_k=top_k)  # device=0 for GPU\n"
   ]
  },
  {
   "cell_type": "code",
   "execution_count": 7,
   "id": "5ed3f9ee-31c3-4258-9909-9fe637e100e6",
   "metadata": {},
   "outputs": [],
   "source": [
    "test_sentences = [\n",
    "    \"I am not having a great day\",  # Example of a negative sentiment\n",
    "    \"This is the best experience ever!\",  # Example of a positive sentiment\n",
    "    \"I feel completely neutral about this\",  # Example of a neutral sentiment\n",
    "    \"The service was incredibly disappointing\",  # Example of a negative sentiment\n",
    "    \"I am thrilled with the product\",  # Example of a positive sentiment\n",
    "]"
   ]
  },
  {
   "cell_type": "code",
   "execution_count": 8,
   "id": "bfb575f6-7acc-444d-b74a-00c7cf1ffb45",
   "metadata": {},
   "outputs": [],
   "source": [
    "results = classifier(test_sentences)"
   ]
  },
  {
   "cell_type": "code",
   "execution_count": 9,
   "id": "6e5ed4a2-7189-4d6d-b741-df2cb017cebc",
   "metadata": {},
   "outputs": [
    {
     "name": "stdout",
     "output_type": "stream",
     "text": [
      "Sentence: 'I am not having a great day'\n",
      "Predicted emotions:\n",
      "  disappointment: 0.4667\n",
      "  sadness: 0.3985\n",
      "  annoyance: 0.0681\n",
      "  neutral: 0.0570\n",
      "  disapproval: 0.0442\n",
      "\n",
      "\n",
      "Sentence: 'This is the best experience ever!'\n",
      "Predicted emotions:\n",
      "  admiration: 0.9208\n",
      "  joy: 0.1352\n",
      "  approval: 0.0363\n",
      "  gratitude: 0.0353\n",
      "  excitement: 0.0303\n",
      "\n",
      "\n",
      "Sentence: 'I feel completely neutral about this'\n",
      "Predicted emotions:\n",
      "  approval: 0.7029\n",
      "  neutral: 0.2102\n",
      "  disapproval: 0.0346\n",
      "  realization: 0.0277\n",
      "  annoyance: 0.0102\n",
      "\n",
      "\n",
      "Sentence: 'The service was incredibly disappointing'\n",
      "Predicted emotions:\n",
      "  disappointment: 0.8594\n",
      "  annoyance: 0.0968\n",
      "  sadness: 0.0946\n",
      "  disapproval: 0.0635\n",
      "  neutral: 0.0492\n",
      "\n",
      "\n",
      "Sentence: 'I am thrilled with the product'\n",
      "Predicted emotions:\n",
      "  excitement: 0.5939\n",
      "  joy: 0.5281\n",
      "  admiration: 0.0433\n",
      "  neutral: 0.0361\n",
      "  approval: 0.0264\n",
      "\n",
      "\n"
     ]
    }
   ],
   "source": [
    "#Testing the classifier\n",
    "for sentence, emotion in zip(test_sentences, results):\n",
    "    print(f\"Sentence: '{sentence}'\")\n",
    "    print(\"Predicted emotions:\")\n",
    "    for e in emotion:\n",
    "        print(f\"  {e['label']}: {e['score']:.4f}\")\n",
    "    print(\"\\n\")  # Add a newline for better readability between results\n"
   ]
  },
  {
   "cell_type": "markdown",
   "id": "8daeda86-f517-4de7-8ec9-132315e76016",
   "metadata": {},
   "source": [
    "Load the dataset"
   ]
  },
  {
   "cell_type": "code",
   "execution_count": 10,
   "id": "5516c740-f6cd-44bd-9b5a-d233cdaf132f",
   "metadata": {},
   "outputs": [
    {
     "name": "stdout",
     "output_type": "stream",
     "text": [
      "Requirement already satisfied: pandas in c:\\users\\adnan\\anaconda3\\new folder\\envs\\mynewenv\\lib\\site-packages (2.0.3)\n",
      "Requirement already satisfied: python-dateutil>=2.8.2 in c:\\users\\adnan\\anaconda3\\new folder\\envs\\mynewenv\\lib\\site-packages (from pandas) (2.8.2)\n",
      "Requirement already satisfied: pytz>=2020.1 in c:\\users\\adnan\\anaconda3\\new folder\\envs\\mynewenv\\lib\\site-packages (from pandas) (2023.3.post1)\n",
      "Requirement already satisfied: tzdata>=2022.1 in c:\\users\\adnan\\anaconda3\\new folder\\envs\\mynewenv\\lib\\site-packages (from pandas) (2024.1)\n",
      "Requirement already satisfied: numpy>=1.20.3 in c:\\users\\adnan\\anaconda3\\new folder\\envs\\mynewenv\\lib\\site-packages (from pandas) (1.24.3)\n",
      "Requirement already satisfied: six>=1.5 in c:\\users\\adnan\\anaconda3\\new folder\\envs\\mynewenv\\lib\\site-packages (from python-dateutil>=2.8.2->pandas) (1.16.0)\n"
     ]
    }
   ],
   "source": [
    "!pip install pandas"
   ]
  },
  {
   "cell_type": "code",
   "execution_count": 11,
   "id": "e16a856e-5fe6-4746-bc76-224beccd31f3",
   "metadata": {},
   "outputs": [],
   "source": [
    "import pandas as pd\n",
    "\n",
    "tokenized_data = pd.read_json('C:\\\\Users\\\\adnan\\\\Desktop\\\\Main_Dataset_Review1.json', lines=True)"
   ]
  },
  {
   "cell_type": "code",
   "execution_count": 12,
   "id": "13e56ec3-b5f3-4787-8424-184c042d5f32",
   "metadata": {},
   "outputs": [
    {
     "data": {
      "text/html": [
       "<div>\n",
       "<style scoped>\n",
       "    .dataframe tbody tr th:only-of-type {\n",
       "        vertical-align: middle;\n",
       "    }\n",
       "\n",
       "    .dataframe tbody tr th {\n",
       "        vertical-align: top;\n",
       "    }\n",
       "\n",
       "    .dataframe thead th {\n",
       "        text-align: right;\n",
       "    }\n",
       "</style>\n",
       "<table border=\"1\" class=\"dataframe\">\n",
       "  <thead>\n",
       "    <tr style=\"text-align: right;\">\n",
       "      <th></th>\n",
       "      <th>overall</th>\n",
       "      <th>vote</th>\n",
       "      <th>verified</th>\n",
       "      <th>reviewerID</th>\n",
       "      <th>asin</th>\n",
       "      <th>style</th>\n",
       "      <th>reviewerName</th>\n",
       "      <th>reviewText</th>\n",
       "      <th>summary</th>\n",
       "      <th>has_image</th>\n",
       "      <th>clean_reviewText</th>\n",
       "      <th>clean_summary</th>\n",
       "      <th>reviewText_length</th>\n",
       "      <th>clean_reviewText_length</th>\n",
       "    </tr>\n",
       "  </thead>\n",
       "  <tbody>\n",
       "    <tr>\n",
       "      <th>0</th>\n",
       "      <td>1</td>\n",
       "      <td>0</td>\n",
       "      <td>True</td>\n",
       "      <td>A2KGOFRA94OWS9</td>\n",
       "      <td>B00GZOI1OC</td>\n",
       "      <td>Unknown</td>\n",
       "      <td>jlpoole520</td>\n",
       "      <td>The part (the biggest part, the wheel) didn't ...</td>\n",
       "      <td>The part (the biggest part, the wheel) didn't ...</td>\n",
       "      <td>0</td>\n",
       "      <td>part biggest part wheel didnt fit buy new mach...</td>\n",
       "      <td>part biggest part wheel didnt fit</td>\n",
       "      <td>49</td>\n",
       "      <td>22</td>\n",
       "    </tr>\n",
       "    <tr>\n",
       "      <th>1</th>\n",
       "      <td>1</td>\n",
       "      <td>0</td>\n",
       "      <td>True</td>\n",
       "      <td>A1LIJY0J529J27</td>\n",
       "      <td>B00LHQYW0A</td>\n",
       "      <td>Unknown</td>\n",
       "      <td>John P</td>\n",
       "      <td>Incomplete order.  Picture shows two heating e...</td>\n",
       "      <td>Incomplete order, missing one heating element</td>\n",
       "      <td>0</td>\n",
       "      <td>incomplete order picture show two heating elem...</td>\n",
       "      <td>incomplete order missing one heating element</td>\n",
       "      <td>11</td>\n",
       "      <td>9</td>\n",
       "    </tr>\n",
       "    <tr>\n",
       "      <th>2</th>\n",
       "      <td>1</td>\n",
       "      <td>0</td>\n",
       "      <td>False</td>\n",
       "      <td>A3OMTDM4HR5XV9</td>\n",
       "      <td>B0050KMOM2</td>\n",
       "      <td>Unknown</td>\n",
       "      <td>steve combs</td>\n",
       "      <td>best  bushing  I've had in a long time</td>\n",
       "      <td>best bushing I've had in a long time</td>\n",
       "      <td>0</td>\n",
       "      <td>best bushing ive long time</td>\n",
       "      <td>best bushing ive long time</td>\n",
       "      <td>8</td>\n",
       "      <td>5</td>\n",
       "    </tr>\n",
       "    <tr>\n",
       "      <th>3</th>\n",
       "      <td>1</td>\n",
       "      <td>0</td>\n",
       "      <td>False</td>\n",
       "      <td>A10M3NOJHRC4F4</td>\n",
       "      <td>B001GD43RG</td>\n",
       "      <td>Unknown</td>\n",
       "      <td>Amazon Customer</td>\n",
       "      <td>Biggest piece of s*** we ever bought, replaced...</td>\n",
       "      <td>Biggest piece of s*** we ever bought, replaced...</td>\n",
       "      <td>0</td>\n",
       "      <td>biggest piece ever bought replaced motor 4 tim...</td>\n",
       "      <td>biggest piece ever bought replaced motor</td>\n",
       "      <td>22</td>\n",
       "      <td>14</td>\n",
       "    </tr>\n",
       "    <tr>\n",
       "      <th>4</th>\n",
       "      <td>1</td>\n",
       "      <td>0</td>\n",
       "      <td>True</td>\n",
       "      <td>A3LF8E0TB9XWMZ</td>\n",
       "      <td>B00LJ5K82K</td>\n",
       "      <td>Unknown</td>\n",
       "      <td>Amazon Customer</td>\n",
       "      <td>dud shorted out element burned out the same da...</td>\n",
       "      <td>not very happy</td>\n",
       "      <td>0</td>\n",
       "      <td>dud shorted element burned daynot happy</td>\n",
       "      <td>happy</td>\n",
       "      <td>11</td>\n",
       "      <td>6</td>\n",
       "    </tr>\n",
       "  </tbody>\n",
       "</table>\n",
       "</div>"
      ],
      "text/plain": [
       "   overall  vote  verified      reviewerID        asin    style  \\\n",
       "0        1     0      True  A2KGOFRA94OWS9  B00GZOI1OC  Unknown   \n",
       "1        1     0      True  A1LIJY0J529J27  B00LHQYW0A  Unknown   \n",
       "2        1     0     False  A3OMTDM4HR5XV9  B0050KMOM2  Unknown   \n",
       "3        1     0     False  A10M3NOJHRC4F4  B001GD43RG  Unknown   \n",
       "4        1     0      True  A3LF8E0TB9XWMZ  B00LJ5K82K  Unknown   \n",
       "\n",
       "      reviewerName                                         reviewText  \\\n",
       "0       jlpoole520  The part (the biggest part, the wheel) didn't ...   \n",
       "1           John P  Incomplete order.  Picture shows two heating e...   \n",
       "2      steve combs             best  bushing  I've had in a long time   \n",
       "3  Amazon Customer  Biggest piece of s*** we ever bought, replaced...   \n",
       "4  Amazon Customer  dud shorted out element burned out the same da...   \n",
       "\n",
       "                                             summary  has_image  \\\n",
       "0  The part (the biggest part, the wheel) didn't ...          0   \n",
       "1      Incomplete order, missing one heating element          0   \n",
       "2               best bushing I've had in a long time          0   \n",
       "3  Biggest piece of s*** we ever bought, replaced...          0   \n",
       "4                                     not very happy          0   \n",
       "\n",
       "                                    clean_reviewText  \\\n",
       "0  part biggest part wheel didnt fit buy new mach...   \n",
       "1  incomplete order picture show two heating elem...   \n",
       "2                         best bushing ive long time   \n",
       "3  biggest piece ever bought replaced motor 4 tim...   \n",
       "4            dud shorted element burned daynot happy   \n",
       "\n",
       "                                  clean_summary  reviewText_length  \\\n",
       "0             part biggest part wheel didnt fit                 49   \n",
       "1  incomplete order missing one heating element                 11   \n",
       "2                    best bushing ive long time                  8   \n",
       "3      biggest piece ever bought replaced motor                 22   \n",
       "4                                         happy                 11   \n",
       "\n",
       "   clean_reviewText_length  \n",
       "0                       22  \n",
       "1                        9  \n",
       "2                        5  \n",
       "3                       14  \n",
       "4                        6  "
      ]
     },
     "execution_count": 12,
     "metadata": {},
     "output_type": "execute_result"
    }
   ],
   "source": [
    "tokenized_data.head()"
   ]
  },
  {
   "cell_type": "code",
   "execution_count": 13,
   "id": "d249b180-3ef8-4a31-a38a-51ea250e4cd4",
   "metadata": {},
   "outputs": [
    {
     "name": "stdout",
     "output_type": "stream",
     "text": [
      "<class 'pandas.core.frame.DataFrame'>\n",
      "RangeIndex: 1980383 entries, 0 to 1980382\n",
      "Data columns (total 14 columns):\n",
      " #   Column                   Dtype \n",
      "---  ------                   ----- \n",
      " 0   overall                  int64 \n",
      " 1   vote                     int64 \n",
      " 2   verified                 bool  \n",
      " 3   reviewerID               object\n",
      " 4   asin                     object\n",
      " 5   style                    object\n",
      " 6   reviewerName             object\n",
      " 7   reviewText               object\n",
      " 8   summary                  object\n",
      " 9   has_image                int64 \n",
      " 10  clean_reviewText         object\n",
      " 11  clean_summary            object\n",
      " 12  reviewText_length        int64 \n",
      " 13  clean_reviewText_length  int64 \n",
      "dtypes: bool(1), int64(5), object(8)\n",
      "memory usage: 198.3+ MB\n"
     ]
    }
   ],
   "source": [
    "tokenized_data.info()"
   ]
  },
  {
   "cell_type": "markdown",
   "id": "ccf540e5-261f-4d57-9407-3693b8a4f799",
   "metadata": {},
   "source": [
    "Load the tokenizer"
   ]
  },
  {
   "cell_type": "code",
   "execution_count": 14,
   "id": "6d57ac26-61ff-422d-8908-69f61c40055b",
   "metadata": {},
   "outputs": [],
   "source": [
    "from transformers import AutoTokenizer\n",
    "\n",
    "# Load the tokenizer\n",
    "tokenizer = AutoTokenizer.from_pretrained(\"SamLowe/roberta-base-go_emotions\")\n"
   ]
  },
  {
   "cell_type": "markdown",
   "id": "59c2fb89-c129-48b2-9f68-41cef1882346",
   "metadata": {},
   "source": [
    "Tokenize and truncate the reviews"
   ]
  },
  {
   "cell_type": "code",
   "execution_count": 15,
   "id": "c6b016f7-ec67-4085-869b-a3152b99f820",
   "metadata": {},
   "outputs": [
    {
     "name": "stdout",
     "output_type": "stream",
     "text": [
      "Requirement already satisfied: tqdm in c:\\users\\adnan\\anaconda3\\new folder\\envs\\mynewenv\\lib\\site-packages (4.66.2)\n",
      "Requirement already satisfied: torch in c:\\users\\adnan\\anaconda3\\new folder\\envs\\mynewenv\\lib\\site-packages (2.2.1)\n",
      "Requirement already satisfied: colorama in c:\\users\\adnan\\anaconda3\\new folder\\envs\\mynewenv\\lib\\site-packages (from tqdm) (0.4.6)\n",
      "Requirement already satisfied: filelock in c:\\users\\adnan\\anaconda3\\new folder\\envs\\mynewenv\\lib\\site-packages (from torch) (3.13.1)\n",
      "Requirement already satisfied: typing-extensions>=4.8.0 in c:\\users\\adnan\\anaconda3\\new folder\\envs\\mynewenv\\lib\\site-packages (from torch) (4.9.0)\n",
      "Requirement already satisfied: sympy in c:\\users\\adnan\\anaconda3\\new folder\\envs\\mynewenv\\lib\\site-packages (from torch) (1.12)\n",
      "Requirement already satisfied: networkx in c:\\users\\adnan\\anaconda3\\new folder\\envs\\mynewenv\\lib\\site-packages (from torch) (3.1)\n",
      "Requirement already satisfied: jinja2 in c:\\users\\adnan\\anaconda3\\new folder\\envs\\mynewenv\\lib\\site-packages (from torch) (3.1.3)\n",
      "Requirement already satisfied: fsspec in c:\\users\\adnan\\anaconda3\\new folder\\envs\\mynewenv\\lib\\site-packages (from torch) (2024.2.0)\n",
      "Requirement already satisfied: MarkupSafe>=2.0 in c:\\users\\adnan\\anaconda3\\new folder\\envs\\mynewenv\\lib\\site-packages (from jinja2->torch) (2.1.3)\n",
      "Requirement already satisfied: mpmath>=0.19 in c:\\users\\adnan\\anaconda3\\new folder\\envs\\mynewenv\\lib\\site-packages (from sympy->torch) (1.3.0)\n"
     ]
    }
   ],
   "source": [
    "!pip install tqdm torch   "
   ]
  },
  {
   "cell_type": "code",
   "execution_count": 14,
   "id": "4716fd51-9cf3-43f1-a568-1fc0c22be173",
   "metadata": {},
   "outputs": [
    {
     "data": {
      "application/vnd.jupyter.widget-view+json": {
       "model_id": "e9e4584bdb334de3a2152d190dec6bc0",
       "version_major": 2,
       "version_minor": 0
      },
      "text/plain": [
       "IntProgress(value=0, description='Processing:', max=3301)"
      ]
     },
     "metadata": {},
     "output_type": "display_data"
    },
    {
     "data": {
      "application/vnd.jupyter.widget-view+json": {
       "model_id": "a23b2ebcc9554e60bedf80dd75669d65",
       "version_major": 2,
       "version_minor": 0
      },
      "text/plain": [
       "Tokenizing:   0%|          | 0/3301 [00:00<?, ?it/s]"
      ]
     },
     "metadata": {},
     "output_type": "display_data"
    },
    {
     "name": "stdout",
     "output_type": "stream",
     "text": [
      "Sample Input IDs: tensor([[    0,  7755,   934,  ...,     1,     1,     1],\n",
      "        [    0,   179, 27527,  ...,     1,     1,     1],\n",
      "        [    0,  7885,  2353,  ...,     1,     1,     1],\n",
      "        [    0,  8527, 10403,  ...,     1,     1,     1],\n",
      "        [    0,   417,  1906,  ...,     1,     1,     1]], device='cuda:0')\n",
      "Sample Attention Masks: tensor([[1, 1, 1,  ..., 0, 0, 0],\n",
      "        [1, 1, 1,  ..., 0, 0, 0],\n",
      "        [1, 1, 1,  ..., 0, 0, 0],\n",
      "        [1, 1, 1,  ..., 0, 0, 0],\n",
      "        [1, 1, 1,  ..., 0, 0, 0]], device='cuda:0')\n"
     ]
    }
   ],
   "source": [
    "import torch\n",
    "from transformers import AutoTokenizer\n",
    "from tqdm.auto import tqdm  # for progress bars\n",
    "import pandas as pd\n",
    "from IPython.display import display\n",
    "import ipywidgets as widgets\n",
    "\n",
    "# Initialize the tokenizer\n",
    "tokenizer = AutoTokenizer.from_pretrained(\"SamLowe/roberta-base-go_emotions\")\n",
    "\n",
    "# Load the dataset\n",
    "tokenized_data = pd.read_json('C:\\\\Users\\\\adnan\\\\Desktop\\\\Main_Dataset_Review1.json', lines=True)\n",
    "\n",
    "# Define a generator that processes text in smaller chunks\n",
    "def batch_process(texts, tokenizer, max_length=512, batch_size=600):\n",
    "    for i in tqdm(range(0, len(texts), batch_size), desc=\"Tokenizing\"):\n",
    "        batch = texts[i:i + batch_size]\n",
    "        tokenized_output = tokenizer(batch, max_length=max_length, padding='max_length', truncation=True, return_tensors='pt')\n",
    "        yield tokenized_output['input_ids'], tokenized_output['attention_mask']\n",
    "\n",
    "# Set up the progress bar\n",
    "num_batches = len(tokenized_data) // 600 + (1 if len(tokenized_data) % 600 > 0 else 0)\n",
    "progress = widgets.IntProgress(value=0, min=0, max=num_batches, description='Processing:')\n",
    "display(progress)\n",
    "\n",
    "# Variables to store a sample for inspection\n",
    "sample_input_ids = None\n",
    "sample_attention_masks = None\n",
    "\n",
    "# Process the text and move batches to GPU as needed\n",
    "for input_ids, attention_masks in batch_process(tokenized_data['clean_reviewText'].tolist(), tokenizer):\n",
    "    # Move tensors to GPU\n",
    "    input_ids, attention_masks = input_ids.to('cuda'), attention_masks.to('cuda')\n",
    "\n",
    "    # Optional: Perform some GPU-accelerated operations here, like model inference\n",
    "    \n",
    "    # For demonstration, store the first batch for later inspection\n",
    "    if sample_input_ids is None:\n",
    "        sample_input_ids = input_ids\n",
    "        sample_attention_masks = attention_masks\n",
    "\n",
    "    # Remember to clear GPU memory as needed\n",
    "    del input_ids, attention_masks\n",
    "    torch.cuda.empty_cache()  # Free up unused memory\n",
    "\n",
    "    # Update the progress bar\n",
    "    progress.value += 1\n",
    "\n",
    "# After processing, you can inspect the first batch stored\n",
    "print(\"Sample Input IDs:\", sample_input_ids[:5])  # Just checking the first 5 entries\n",
    "print(\"Sample Attention Masks:\", sample_attention_masks[:5])  # Just checking the first 5 entries\n"
   ]
  },
  {
   "cell_type": "code",
   "execution_count": 15,
   "id": "52fe5121-a2b5-42c9-a95d-429bcb4eefba",
   "metadata": {},
   "outputs": [],
   "source": [
    "assert progress.value == progress.max, \"Tokenization incomplete: Not all batches were processed.\""
   ]
  },
  {
   "cell_type": "code",
   "execution_count": 16,
   "id": "7aebe534-2eb9-4d76-8692-503933b4d41b",
   "metadata": {},
   "outputs": [
    {
     "ename": "NameError",
     "evalue": "name 'input_ids' is not defined",
     "output_type": "error",
     "traceback": [
      "\u001b[1;31m---------------------------------------------------------------------------\u001b[0m",
      "\u001b[1;31mNameError\u001b[0m                                 Traceback (most recent call last)",
      "Cell \u001b[1;32mIn[16], line 2\u001b[0m\n\u001b[0;32m      1\u001b[0m \u001b[38;5;66;03m# Sample check for the first few tokenized outputs\u001b[39;00m\n\u001b[1;32m----> 2\u001b[0m sample_input_ids \u001b[38;5;241m=\u001b[39m \u001b[43minput_ids\u001b[49m[:\u001b[38;5;241m5\u001b[39m]  \u001b[38;5;66;03m# Assuming 'input_ids' is still in your namespace from the last batch processed\u001b[39;00m\n\u001b[0;32m      3\u001b[0m sample_attention_masks \u001b[38;5;241m=\u001b[39m attention_masks[:\u001b[38;5;241m5\u001b[39m]  \u001b[38;5;66;03m# Assuming 'attention_masks' is still in your namespace\u001b[39;00m\n\u001b[0;32m      5\u001b[0m \u001b[38;5;28mprint\u001b[39m(\u001b[38;5;124m\"\u001b[39m\u001b[38;5;124mSample Input IDs:\u001b[39m\u001b[38;5;124m\"\u001b[39m, sample_input_ids)\n",
      "\u001b[1;31mNameError\u001b[0m: name 'input_ids' is not defined"
     ]
    }
   ],
   "source": [
    "# Sample check for the first few tokenized outputs\n",
    "sample_input_ids = input_ids[:5]  # Assuming 'input_ids' is still in your namespace from the last batch processed\n",
    "sample_attention_masks = attention_masks[:5]  # Assuming 'attention_masks' is still in your namespace\n",
    "\n",
    "print(\"Sample Input IDs:\", sample_input_ids)\n",
    "print(\"Sample Attention Masks:\", sample_attention_masks)\n"
   ]
  },
  {
   "cell_type": "code",
   "execution_count": 17,
   "id": "c6c173e4-6828-461a-ba77-760f8420c7aa",
   "metadata": {},
   "outputs": [
    {
     "name": "stdout",
     "output_type": "stream",
     "text": [
      "Original Text: part biggest part wheel didnt fit buy new machine mechanic fixed dryer soooooo irritating washer bit complex wish luck effort congratulation succeed\n",
      "Decoded Text: part biggest part wheel didnt fit buy new machine mechanic fixed dryer soooooo irritating washer bit complex wish luck effort congratulation succeed\n"
     ]
    }
   ],
   "source": [
    "# Choose a sample from the batch (e.g., the first one)\n",
    "sample_index = 0  # Index of the sample to check\n",
    "\n",
    "# Decode the tokens to text\n",
    "decoded_text = tokenizer.decode(sample_input_ids[sample_index], skip_special_tokens=True)\n",
    "\n",
    "# Print the original text and the decoded text for comparison\n",
    "original_text = tokenized_data['clean_reviewText'].iloc[sample_index]\n",
    "print(\"Original Text:\", original_text)\n",
    "print(\"Decoded Text:\", decoded_text)\n"
   ]
  },
  {
   "cell_type": "code",
   "execution_count": 18,
   "id": "1583a78e-e6c9-4892-8c60-cc3951b004c2",
   "metadata": {},
   "outputs": [
    {
     "ename": "IndexError",
     "evalue": "tuple index out of range",
     "output_type": "error",
     "traceback": [
      "\u001b[1;31m---------------------------------------------------------------------------\u001b[0m",
      "\u001b[1;31mIndexError\u001b[0m                                Traceback (most recent call last)",
      "Cell \u001b[1;32mIn[18], line 2\u001b[0m\n\u001b[0;32m      1\u001b[0m \u001b[38;5;66;03m# Check lengths of input_ids to ensure they respect the max_length\u001b[39;00m\n\u001b[1;32m----> 2\u001b[0m \u001b[38;5;28mprint\u001b[39m(\u001b[38;5;124m\"\u001b[39m\u001b[38;5;124mLength of first input_ids:\u001b[39m\u001b[38;5;124m\"\u001b[39m, \u001b[43msample_input_ids\u001b[49m\u001b[43m[\u001b[49m\u001b[43msample_index\u001b[49m\u001b[43m]\u001b[49m\u001b[38;5;241;43m.\u001b[39;49m\u001b[43mshape\u001b[49m\u001b[43m[\u001b[49m\u001b[38;5;241;43m1\u001b[39;49m\u001b[43m]\u001b[49m)\n\u001b[0;32m      4\u001b[0m \u001b[38;5;66;03m# Confirm that attention masks correctly identify padding (zeros at the end)\u001b[39;00m\n\u001b[0;32m      5\u001b[0m num_padding_tokens \u001b[38;5;241m=\u001b[39m (sample_attention_masks[sample_index] \u001b[38;5;241m==\u001b[39m \u001b[38;5;241m0\u001b[39m)\u001b[38;5;241m.\u001b[39msum()\u001b[38;5;241m.\u001b[39mitem()\n",
      "\u001b[1;31mIndexError\u001b[0m: tuple index out of range"
     ]
    }
   ],
   "source": [
    "# Check lengths of input_ids to ensure they respect the max_length\n",
    "print(\"Length of first input_ids:\", sample_input_ids[sample_index].shape[1])\n",
    "\n",
    "# Confirm that attention masks correctly identify padding (zeros at the end)\n",
    "num_padding_tokens = (sample_attention_masks[sample_index] == 0).sum().item()\n",
    "print(\"Number of padding tokens in the attention mask:\", num_padding_tokens)\n"
   ]
  },
  {
   "cell_type": "markdown",
   "id": "3191f624-4304-4fe8-9ee4-a0853aa8382f",
   "metadata": {},
   "source": [
    "Lets make sure that the model and tokenizer are correctly set up for inference"
   ]
  },
  {
   "cell_type": "code",
   "execution_count": 19,
   "id": "c4c66f31-121b-4fc1-8120-88811c8fccf6",
   "metadata": {},
   "outputs": [
    {
     "data": {
      "text/plain": [
       "RobertaForSequenceClassification(\n",
       "  (roberta): RobertaModel(\n",
       "    (embeddings): RobertaEmbeddings(\n",
       "      (word_embeddings): Embedding(50265, 768, padding_idx=1)\n",
       "      (position_embeddings): Embedding(514, 768, padding_idx=1)\n",
       "      (token_type_embeddings): Embedding(1, 768)\n",
       "      (LayerNorm): LayerNorm((768,), eps=1e-05, elementwise_affine=True)\n",
       "      (dropout): Dropout(p=0.1, inplace=False)\n",
       "    )\n",
       "    (encoder): RobertaEncoder(\n",
       "      (layer): ModuleList(\n",
       "        (0-11): 12 x RobertaLayer(\n",
       "          (attention): RobertaAttention(\n",
       "            (self): RobertaSelfAttention(\n",
       "              (query): Linear(in_features=768, out_features=768, bias=True)\n",
       "              (key): Linear(in_features=768, out_features=768, bias=True)\n",
       "              (value): Linear(in_features=768, out_features=768, bias=True)\n",
       "              (dropout): Dropout(p=0.1, inplace=False)\n",
       "            )\n",
       "            (output): RobertaSelfOutput(\n",
       "              (dense): Linear(in_features=768, out_features=768, bias=True)\n",
       "              (LayerNorm): LayerNorm((768,), eps=1e-05, elementwise_affine=True)\n",
       "              (dropout): Dropout(p=0.1, inplace=False)\n",
       "            )\n",
       "          )\n",
       "          (intermediate): RobertaIntermediate(\n",
       "            (dense): Linear(in_features=768, out_features=3072, bias=True)\n",
       "            (intermediate_act_fn): GELUActivation()\n",
       "          )\n",
       "          (output): RobertaOutput(\n",
       "            (dense): Linear(in_features=3072, out_features=768, bias=True)\n",
       "            (LayerNorm): LayerNorm((768,), eps=1e-05, elementwise_affine=True)\n",
       "            (dropout): Dropout(p=0.1, inplace=False)\n",
       "          )\n",
       "        )\n",
       "      )\n",
       "    )\n",
       "  )\n",
       "  (classifier): RobertaClassificationHead(\n",
       "    (dense): Linear(in_features=768, out_features=768, bias=True)\n",
       "    (dropout): Dropout(p=0.1, inplace=False)\n",
       "    (out_proj): Linear(in_features=768, out_features=28, bias=True)\n",
       "  )\n",
       ")"
      ]
     },
     "execution_count": 19,
     "metadata": {},
     "output_type": "execute_result"
    }
   ],
   "source": [
    "from transformers import AutoModelForSequenceClassification, AutoTokenizer\n",
    "\n",
    "#Load the pretrained model and tokenizer\n",
    "model_name = \"SamLowe/roberta-base-go_emotions\"\n",
    "tokenizer = AutoTokenizer.from_pretrained(model_name)\n",
    "model = AutoModelForSequenceClassification.from_pretrained(model_name, num_labels=28)  # Adjust num_labels if different\n",
    "model.to('cuda')  # Move the model to GPU\n",
    "model.eval()  # Set the model to evaluation mode"
   ]
  },
  {
   "cell_type": "markdown",
   "id": "1e8721a5-b508-4d54-8186-f3e86304bc28",
   "metadata": {},
   "source": [
    " Now lets define a function to get predictions from the model"
   ]
  },
  {
   "cell_type": "code",
   "execution_count": 20,
   "id": "8577d8da-9fef-43cb-89b9-ad213b8b1958",
   "metadata": {},
   "outputs": [],
   "source": [
    "#import torch\n",
    "#from torch.utils.data import TensorDataset, DataLoader\n",
    "#\n",
    "#def get_top_emotions(texts, tokenizer, model, batch_size=32):\n",
    "#    #Tokenize all texts\n",
    "#    tokens = tokenizer(texts, padding=True, truncation=True, max_length=512, return_tensors=\"pt\")\n",
    "#    dataset = TensorDataset(tokens['input_ids'], tokens['attention_mask'])\n",
    "#    dataloader = DataLoader(dataset, batch_size=batch_size)\n",
    "\n",
    "#    # Container for all the batch predictions\n",
    "#    all_predictions = []\n",
    "\n",
    "#    # Disable gradient calculations and perform inference\n",
    "#    with torch.no_grad():\n",
    "#        for batch in dataloader:\n",
    "#            batch = tuple(t.to('cuda') for t in batch)  # Move the batch to GPU\n",
    "#            inputs = {'input_ids': batch[0], 'attention_mask': batch[1]}\n",
    "#            outputs = model(**inputs)\n",
    "#            predictions = torch.nn.functional.softmax(outputs.logits, dim=-1)\n",
    "#            all_predictions.extend(predictions.detach().cpu().numpy())\n",
    "#\n",
    "#    # Convert predictions to list of top 5 emotions\n",
    "#    top5_emotions = []\n",
    "#    for prediction in all_predictions:\n",
    "#        top5_idx = prediction.argsort()[-5:][::-1]  # Get indices of top 5 values\n",
    "#        top5_emotions.append([tokenizer.decode([idx], skip_special_tokens=True) for idx in top5_idx])\n",
    "\n",
    "#    return top5_emotions"
   ]
  },
  {
   "cell_type": "code",
   "execution_count": 21,
   "id": "2b4184d8-8b95-4b50-a312-9878a98f363c",
   "metadata": {},
   "outputs": [],
   "source": [
    "#top_emotions = get_top_emotions(tokenized_data['clean_reviewText'].tolist(), tokenizer, model, batch_size=32)\n",
    "#tokenized_data['review_emotions'] = top_emotions"
   ]
  },
  {
   "cell_type": "markdown",
   "id": "b4ef4a0a-b8e5-48ce-afb5-ba643728a76b",
   "metadata": {},
   "source": [
    "Due to the above issue we will use a chunk processing function"
   ]
  },
  {
   "cell_type": "markdown",
   "id": "b8240b58-06f5-415c-85f1-baa2a354d562",
   "metadata": {},
   "source": [
    "Update to get_top_emotions function for the purpose of optimizing for memory usage"
   ]
  },
  {
   "cell_type": "code",
   "execution_count": 22,
   "id": "7c518124-4a69-4158-94e0-90d8890b38f8",
   "metadata": {},
   "outputs": [
    {
     "name": "stdout",
     "output_type": "stream",
     "text": [
      "PyTorch version: 2.2.1\n",
      "Is CUDA available: True\n",
      "CUDA version: 12.1\n",
      "Number of GPUs available: 1\n",
      "Current CUDA Device: 0\n",
      "CUDA Device Name: NVIDIA GeForce RTX 3060\n"
     ]
    }
   ],
   "source": [
    "import torch\n",
    "\n",
    "print(\"PyTorch version:\", torch.__version__)\n",
    "print(\"Is CUDA available:\", torch.cuda.is_available())\n",
    "print(\"CUDA version:\", torch.version.cuda)\n",
    "print(\"Number of GPUs available:\", torch.cuda.device_count())\n",
    "print(\"Current CUDA Device:\", torch.cuda.current_device())\n",
    "print(\"CUDA Device Name:\", torch.cuda.get_device_name(torch.cuda.current_device()))"
   ]
  },
  {
   "cell_type": "markdown",
   "id": "21efe297-c2e5-4ba6-9a53-d20f7956ce94",
   "metadata": {},
   "source": [
    "Benchmark Data Transfer Speeds"
   ]
  },
  {
   "cell_type": "code",
   "execution_count": 23,
   "id": "5d73ed74-0d84-4c96-9d7b-96d8d4e00cbe",
   "metadata": {},
   "outputs": [
    {
     "name": "stdout",
     "output_type": "stream",
     "text": [
      "Time to transfer data from CPU to GPU: 0.1623079776763916 seconds\n",
      "Time to transfer data from GPU to CPU: 0.17499852180480957 seconds\n"
     ]
    }
   ],
   "source": [
    "import numpy as np\n",
    "import time\n",
    "\n",
    "# Create a large tensor\n",
    "size = 100000000  # Adjust size based on your system's capabilities\n",
    "data = torch.FloatTensor(np.random.rand(size))\n",
    "\n",
    "# Measure CPU to GPU transfer time\n",
    "start_time = time.time()\n",
    "data_gpu = data.to('cuda')\n",
    "print(\"Time to transfer data from CPU to GPU:\", time.time() - start_time, \"seconds\")\n",
    "\n",
    "# Measure GPU to CPU transfer time\n",
    "start_time = time.time()\n",
    "data_cpu = data_gpu.to('cpu')\n",
    "print(\"Time to transfer data from GPU to CPU:\", time.time() - start_time, \"seconds\")"
   ]
  },
  {
   "cell_type": "code",
   "execution_count": 24,
   "id": "de87e561-dbbd-4d89-8638-54e9464481c8",
   "metadata": {},
   "outputs": [
    {
     "name": "stdout",
     "output_type": "stream",
     "text": [
      "Time for GPU computation: 0.015007257461547852 seconds\n"
     ]
    }
   ],
   "source": [
    "#Simple GPU computation test\n",
    "start_time = time.time()\n",
    "result = data_gpu * 2  # Simple multiplication operation\n",
    "torch.cuda.synchronize()  # Wait for GPU to finish\n",
    "print(\"Time for GPU computation:\", time.time() - start_time, \"seconds\")"
   ]
  },
  {
   "cell_type": "markdown",
   "id": "f42160a5-479e-466e-955c-65b97d202144",
   "metadata": {},
   "source": [
    "Lets retry the training process all over again "
   ]
  },
  {
   "cell_type": "code",
   "execution_count": 25,
   "id": "212ba272-6630-4e4e-886b-1ef19ff53ff0",
   "metadata": {},
   "outputs": [
    {
     "data": {
      "text/plain": [
       "510"
      ]
     },
     "execution_count": 25,
     "metadata": {},
     "output_type": "execute_result"
    }
   ],
   "source": [
    "# Run Python garbage collection\n",
    "import gc\n",
    "\n",
    "gc.collect()"
   ]
  },
  {
   "cell_type": "code",
   "execution_count": 26,
   "id": "079fd7ca-478b-4fa8-b0fe-575debf08e45",
   "metadata": {},
   "outputs": [],
   "source": [
    " # Delete large temporary variables\n",
    "torch.cuda.empty_cache()"
   ]
  },
  {
   "cell_type": "code",
   "execution_count": 27,
   "id": "4d5fa967-609c-4681-9031-3388aa577b07",
   "metadata": {},
   "outputs": [
    {
     "name": "stdout",
     "output_type": "stream",
     "text": [
      "Memory Usage: 10357.93 MB\n"
     ]
    }
   ],
   "source": [
    "import os\n",
    "import psutil\n",
    "\n",
    "# Function to print memory usage\n",
    "def print_memory_usage():\n",
    "    process = psutil.Process(os.getpid())\n",
    "    print(f\"Memory Usage: {process.memory_info().rss / 1024 ** 2:.2f} MB\")\n",
    "\n",
    "# Function to release memory by deleting variables\n",
    "def release_memory(vars_to_delete):\n",
    "    for var in vars_to_delete:\n",
    "        if var in globals():\n",
    "            del globals()[var]\n",
    "    gc.collect()\n",
    "    if torch.cuda.is_available():\n",
    "        torch.cuda.empty_cache()\n",
    "\n",
    "# Before starting the model training, print memory usage\n",
    "print_memory_usage()"
   ]
  },
  {
   "cell_type": "code",
   "execution_count": 28,
   "id": "b3b7439f-a4e8-4f6e-ab00-413c789faa24",
   "metadata": {},
   "outputs": [
    {
     "name": "stdout",
     "output_type": "stream",
     "text": [
      "                tokenized_data: 2593193354 bytes\n",
      "                           ___:       4109 bytes\n",
      "                           _12:       4109 bytes\n",
      "                          _i14:       2205 bytes\n",
      "                          tqdm:       2008 bytes\n",
      "                          _i20:       1316 bytes\n",
      "                 AutoTokenizer:       1064 bytes\n",
      "AutoModelForSequenceClassification:       1064 bytes\n",
      "                            _i:        591 bytes\n",
      "                          _i27:        591 bytes\n"
     ]
    }
   ],
   "source": [
    "import sys\n",
    "\n",
    "#Function to print memory usage of variables in the global space\n",
    "def print_memory_usage_of_globals():\n",
    "    for name, size in sorted(((name, sys.getsizeof(value)) for name, value in globals().items()),\n",
    "                            key= lambda x: -x[1])[:10]:\n",
    "        print(f\"{name:>30}: {size:>10} bytes\")\n",
    "\n",
    "\n",
    "# Call the function to print out the memory usage\n",
    "print_memory_usage_of_globals()"
   ]
  },
  {
   "cell_type": "code",
   "execution_count": 29,
   "id": "327180e9-6bc1-4346-a9f9-a8bdca097a3d",
   "metadata": {},
   "outputs": [
    {
     "name": "stdout",
     "output_type": "stream",
     "text": [
      "Memory Usage: 10357.93 MB\n"
     ]
    }
   ],
   "source": [
    "variables_to_delete = ['_iii', '_i55',  'In', '_ih', 'AutoModelForSequenceClassification', 'autocast', ]\n",
    "\n",
    "#Release memory\n",
    "release_memory(variables_to_delete)\n",
    "\n",
    "#Print the memory usage\n",
    "print_memory_usage()"
   ]
  },
  {
   "cell_type": "code",
   "execution_count": 15,
   "id": "3b942961-4dda-4278-9904-94d9d4e83901",
   "metadata": {},
   "outputs": [],
   "source": [
    "%reset -f"
   ]
  },
  {
   "cell_type": "markdown",
   "id": "5365d563-1d78-4dc7-8f7f-7326623920d4",
   "metadata": {
    "scrolled": true
   },
   "source": [
    "Lets test the results by just running the pretrained model over 100k reviews"
   ]
  },
  {
   "cell_type": "code",
   "execution_count": 31,
   "id": "c3d61e67-3eff-4308-b388-15fdb1a6b348",
   "metadata": {},
   "outputs": [
    {
     "data": {
      "application/vnd.jupyter.widget-view+json": {
       "model_id": "f2bafd6f45e444b38a7f3fa9c761f282",
       "version_major": 2,
       "version_minor": 0
      },
      "text/plain": [
       "Processing batches:   0%|          | 0/1000 [00:00<?, ?it/s]"
      ]
     },
     "metadata": {},
     "output_type": "display_data"
    }
   ],
   "source": [
    "import torch\n",
    "import numpy as np\n",
    "import pandas as pd\n",
    "from torch.utils.data import TensorDataset, DataLoader\n",
    "from transformers import AutoTokenizer, AutoModelForSequenceClassification\n",
    "from tqdm.auto import tqdm\n",
    "\n",
    "# Set computing device\n",
    "device = torch.device(\"cuda\" if torch.cuda.is_available() else \"cpu\")\n",
    "\n",
    "# Define the function to get the top emotions from texts\n",
    "def get_top_emotions(texts, tokenizer, model, batch_size=64):\n",
    "    model.to(device)  # Ensure the model is on the right device\n",
    "    all_predictions = []\n",
    "    for i in tqdm(range(0, len(texts), batch_size), desc=\"Processing batches\"):\n",
    "        batch_texts = texts[i:i + batch_size]\n",
    "        tokens = tokenizer(batch_texts, padding=True, truncation=True, max_length=512, return_tensors=\"pt\")\n",
    "        tokens = {k: v.to(device) for k, v in tokens.items()}  # Move tokenized data to the device\n",
    "        with torch.no_grad():\n",
    "            outputs = model(**tokens)\n",
    "            predictions = torch.nn.functional.softmax(outputs.logits, dim=-1)\n",
    "            all_predictions.extend(predictions.detach().cpu().numpy())  # Move predictions back to CPU\n",
    "    top5_emotions = []\n",
    "    for prediction in all_predictions:\n",
    "        top5_idx = np.argsort(prediction)[-5:][::-1]\n",
    "        top5_emotions.append([tokenizer.decode([idx], skip_special_tokens=True) for idx in top5_idx])\n",
    "    return top5_emotions\n",
    "\n",
    "# Initialize model and tokenizer\n",
    "tokenizer = AutoTokenizer.from_pretrained(\"SamLowe/roberta-base-go_emotions\")\n",
    "model = AutoModelForSequenceClassification.from_pretrained(\"SamLowe/roberta-base-go_emotions\")\n",
    "model.eval()  # Still set the model to evaluation mode\n",
    "\n",
    "# Load dataset and prepare subset\n",
    "tokenized_data = pd.read_json('C:\\\\Users\\\\adnan\\\\Desktop\\\\Main_Dataset_Review1.json', lines=True)\n",
    "subset = tokenized_data.sample(n=100000, random_state=1)\n",
    "\n",
    "# Process the subset directly\n",
    "subset['review_emotions'] = get_top_emotions(subset['clean_reviewText'].tolist(), tokenizer, model, batch_size=100)\n",
    "\n",
    "# Save final results\n",
    "output_path = 'sample_emotion_results.json'\n",
    "subset.to_json(output_path, orient='records', lines=True)"
   ]
  },
  {
   "cell_type": "markdown",
   "id": "82aead00-5994-45ee-a012-5f120fe7f91c",
   "metadata": {},
   "source": [
    "Understanding the above issue I have added error handling for length mismatch, for the sake of progress monitoring, and for batch processing of the get_top_emotions"
   ]
  },
  {
   "cell_type": "code",
   "execution_count": 52,
   "id": "6a07d6fc-0ba7-4123-ad28-8344fffc3572",
   "metadata": {},
   "outputs": [
    {
     "data": {
      "text/plain": [
       "1539"
      ]
     },
     "execution_count": 52,
     "metadata": {},
     "output_type": "execute_result"
    }
   ],
   "source": [
    "import gc\n",
    "import torch\n",
    "\n",
    "# Clear PyTorch's cache\n",
    "torch.cuda.empty_cache()\n",
    "\n",
    "# Run Python garbage collection\n",
    "gc.collect()"
   ]
  },
  {
   "cell_type": "code",
   "execution_count": 32,
   "id": "7f1b1ebd-aa35-472c-a573-94cfa6ca2161",
   "metadata": {},
   "outputs": [
    {
     "data": {
      "text/html": [
       "<div>\n",
       "<style scoped>\n",
       "    .dataframe tbody tr th:only-of-type {\n",
       "        vertical-align: middle;\n",
       "    }\n",
       "\n",
       "    .dataframe tbody tr th {\n",
       "        vertical-align: top;\n",
       "    }\n",
       "\n",
       "    .dataframe thead th {\n",
       "        text-align: right;\n",
       "    }\n",
       "</style>\n",
       "<table border=\"1\" class=\"dataframe\">\n",
       "  <thead>\n",
       "    <tr style=\"text-align: right;\">\n",
       "      <th></th>\n",
       "      <th>overall</th>\n",
       "      <th>vote</th>\n",
       "      <th>verified</th>\n",
       "      <th>reviewerID</th>\n",
       "      <th>asin</th>\n",
       "      <th>style</th>\n",
       "      <th>reviewerName</th>\n",
       "      <th>reviewText</th>\n",
       "      <th>summary</th>\n",
       "      <th>has_image</th>\n",
       "      <th>clean_reviewText</th>\n",
       "      <th>clean_summary</th>\n",
       "      <th>reviewText_length</th>\n",
       "      <th>clean_reviewText_length</th>\n",
       "      <th>review_emotions</th>\n",
       "    </tr>\n",
       "  </thead>\n",
       "  <tbody>\n",
       "    <tr>\n",
       "      <th>0</th>\n",
       "      <td>4</td>\n",
       "      <td>0</td>\n",
       "      <td>True</td>\n",
       "      <td>A23ZYWM2WHJI2M</td>\n",
       "      <td>B00V54LQO4</td>\n",
       "      <td>Unknown</td>\n",
       "      <td>OneMoreThing</td>\n",
       "      <td>I paid completely out of pocket for this and h...</td>\n",
       "      <td>So far so good</td>\n",
       "      <td>0</td>\n",
       "      <td>paid completely pocket reimbursed review ive 2...</td>\n",
       "      <td>far good</td>\n",
       "      <td>145</td>\n",
       "      <td>60</td>\n",
       "      <td>[�, ., ,  \",  a]</td>\n",
       "    </tr>\n",
       "    <tr>\n",
       "      <th>1</th>\n",
       "      <td>3</td>\n",
       "      <td>0</td>\n",
       "      <td>True</td>\n",
       "      <td>A8Q9L444GXGR4</td>\n",
       "      <td>B00H29ETXQ</td>\n",
       "      <td>Unknown</td>\n",
       "      <td>Kindle Customer</td>\n",
       "      <td>I am only giving 3 stars because it arrivered ...</td>\n",
       "      <td>But like previous review not large at</td>\n",
       "      <td>0</td>\n",
       "      <td>giving 3 star arrivered early like previous re...</td>\n",
       "      <td>like previous review large</td>\n",
       "      <td>18</td>\n",
       "      <td>9</td>\n",
       "      <td>[�, .,  \", ,  The]</td>\n",
       "    </tr>\n",
       "    <tr>\n",
       "      <th>2</th>\n",
       "      <td>5</td>\n",
       "      <td>0</td>\n",
       "      <td>True</td>\n",
       "      <td>A3KD2620N3V9H3</td>\n",
       "      <td>B006OQJK28</td>\n",
       "      <td>Unknown</td>\n",
       "      <td>Niffuts</td>\n",
       "      <td>Product arrived on time and as described.</td>\n",
       "      <td>Five Stars</td>\n",
       "      <td>0</td>\n",
       "      <td>product arrived time described</td>\n",
       "      <td>five star</td>\n",
       "      <td>7</td>\n",
       "      <td>4</td>\n",
       "      <td>[�, .,  \",  for,  The]</td>\n",
       "    </tr>\n",
       "    <tr>\n",
       "      <th>3</th>\n",
       "      <td>5</td>\n",
       "      <td>22</td>\n",
       "      <td>True</td>\n",
       "      <td>A1ZX675046PIY5</td>\n",
       "      <td>B0142F5M1U</td>\n",
       "      <td>{'Color:': ' Steel shaft', 'Hand Orientation:'...</td>\n",
       "      <td>Jeffrey</td>\n",
       "      <td>If you can't hit this quit golf.</td>\n",
       "      <td>Five Stars</td>\n",
       "      <td>0</td>\n",
       "      <td>cant hit quit golf</td>\n",
       "      <td>five star</td>\n",
       "      <td>7</td>\n",
       "      <td>4</td>\n",
       "      <td>[ a, , �, ,  of]</td>\n",
       "    </tr>\n",
       "    <tr>\n",
       "      <th>4</th>\n",
       "      <td>5</td>\n",
       "      <td>3</td>\n",
       "      <td>True</td>\n",
       "      <td>AGYV9LBTHLN0V</td>\n",
       "      <td>B0002JOZNM</td>\n",
       "      <td>{'Size:': ' 10-Foot'}</td>\n",
       "      <td>Matthew England</td>\n",
       "      <td>A product you won't find in any store due to i...</td>\n",
       "      <td>$20 Solution to a $100 Problem! Fantastic!</td>\n",
       "      <td>0</td>\n",
       "      <td>product wont find store due length thats preci...</td>\n",
       "      <td>20 solution 100 problem fantastic</td>\n",
       "      <td>69</td>\n",
       "      <td>35</td>\n",
       "      <td>[�,  a, .,  \", ]</td>\n",
       "    </tr>\n",
       "    <tr>\n",
       "      <th>...</th>\n",
       "      <td>...</td>\n",
       "      <td>...</td>\n",
       "      <td>...</td>\n",
       "      <td>...</td>\n",
       "      <td>...</td>\n",
       "      <td>...</td>\n",
       "      <td>...</td>\n",
       "      <td>...</td>\n",
       "      <td>...</td>\n",
       "      <td>...</td>\n",
       "      <td>...</td>\n",
       "      <td>...</td>\n",
       "      <td>...</td>\n",
       "      <td>...</td>\n",
       "      <td>...</td>\n",
       "    </tr>\n",
       "    <tr>\n",
       "      <th>99995</th>\n",
       "      <td>3</td>\n",
       "      <td>0</td>\n",
       "      <td>True</td>\n",
       "      <td>A2FKPKT8YYMGTR</td>\n",
       "      <td>B013QTQRRG</td>\n",
       "      <td>Unknown</td>\n",
       "      <td>Lizeth Ortiz</td>\n",
       "      <td>The color is brown,\\nIt is not that pretty as ...</td>\n",
       "      <td>It is not that pretty as it looks like in the ...</td>\n",
       "      <td>0</td>\n",
       "      <td>color brown pretty look like picture</td>\n",
       "      <td>pretty look like picture</td>\n",
       "      <td>16</td>\n",
       "      <td>6</td>\n",
       "      <td>[, ., �, 's,  \"]</td>\n",
       "    </tr>\n",
       "    <tr>\n",
       "      <th>99996</th>\n",
       "      <td>5</td>\n",
       "      <td>11</td>\n",
       "      <td>True</td>\n",
       "      <td>A329IE6128J15W</td>\n",
       "      <td>B00NOVOTJ0</td>\n",
       "      <td>Unknown</td>\n",
       "      <td>Jacob Carlson</td>\n",
       "      <td>I bought this set on sale for around 100 dolla...</td>\n",
       "      <td>Great Value! Comparible to Other Name Brands a...</td>\n",
       "      <td>0</td>\n",
       "      <td>bought set sale around 100 dollar price compar...</td>\n",
       "      <td>great value comparible name brand used wide va...</td>\n",
       "      <td>169</td>\n",
       "      <td>89</td>\n",
       "      <td>[�, ., ,  \", 's]</td>\n",
       "    </tr>\n",
       "    <tr>\n",
       "      <th>99997</th>\n",
       "      <td>5</td>\n",
       "      <td>0</td>\n",
       "      <td>True</td>\n",
       "      <td>A21K5RU7GV3F0P</td>\n",
       "      <td>B00QQ3WN0K</td>\n",
       "      <td>Unknown</td>\n",
       "      <td>Yvette V. Rodriguez</td>\n",
       "      <td>Works great!</td>\n",
       "      <td>GOOD BUY - WORKS GREAT</td>\n",
       "      <td>0</td>\n",
       "      <td>work great</td>\n",
       "      <td>good buy work great</td>\n",
       "      <td>2</td>\n",
       "      <td>2</td>\n",
       "      <td>[, ., �,  on,  a]</td>\n",
       "    </tr>\n",
       "    <tr>\n",
       "      <th>99998</th>\n",
       "      <td>4</td>\n",
       "      <td>0</td>\n",
       "      <td>False</td>\n",
       "      <td>AQ2UN38CMK119</td>\n",
       "      <td>B01GSAEZ5G</td>\n",
       "      <td>{'Size:': ' 4 Pouches', 'Flavor:': ' Berry'}</td>\n",
       "      <td>P. Mann</td>\n",
       "      <td>I was nervous about this product since I have ...</td>\n",
       "      <td>Tastes just like other yogurt</td>\n",
       "      <td>0</td>\n",
       "      <td>nervous product since always yogurt cold delib...</td>\n",
       "      <td>taste like yogurt</td>\n",
       "      <td>167</td>\n",
       "      <td>81</td>\n",
       "      <td>[�, .,  \",  The, ]</td>\n",
       "    </tr>\n",
       "    <tr>\n",
       "      <th>99999</th>\n",
       "      <td>5</td>\n",
       "      <td>0</td>\n",
       "      <td>True</td>\n",
       "      <td>A3I02XJXPBNS4I</td>\n",
       "      <td>B00EO2D5HU</td>\n",
       "      <td>Unknown</td>\n",
       "      <td>Stephen C. Holtzman</td>\n",
       "      <td>I always change my Briggs &amp; Stratton Genuine O...</td>\n",
       "      <td>Briggs &amp; Stratton Genuine OEM 491588S Flat Air...</td>\n",
       "      <td>0</td>\n",
       "      <td>always change briggs stratton genuine oem 4915...</td>\n",
       "      <td>briggs stratton genuine oem 491588s flat air f...</td>\n",
       "      <td>75</td>\n",
       "      <td>39</td>\n",
       "      <td>[�, .,  the,  \",  The]</td>\n",
       "    </tr>\n",
       "  </tbody>\n",
       "</table>\n",
       "<p>100000 rows × 15 columns</p>\n",
       "</div>"
      ],
      "text/plain": [
       "       overall  vote  verified      reviewerID        asin  \\\n",
       "0            4     0      True  A23ZYWM2WHJI2M  B00V54LQO4   \n",
       "1            3     0      True   A8Q9L444GXGR4  B00H29ETXQ   \n",
       "2            5     0      True  A3KD2620N3V9H3  B006OQJK28   \n",
       "3            5    22      True  A1ZX675046PIY5  B0142F5M1U   \n",
       "4            5     3      True   AGYV9LBTHLN0V  B0002JOZNM   \n",
       "...        ...   ...       ...             ...         ...   \n",
       "99995        3     0      True  A2FKPKT8YYMGTR  B013QTQRRG   \n",
       "99996        5    11      True  A329IE6128J15W  B00NOVOTJ0   \n",
       "99997        5     0      True  A21K5RU7GV3F0P  B00QQ3WN0K   \n",
       "99998        4     0     False   AQ2UN38CMK119  B01GSAEZ5G   \n",
       "99999        5     0      True  A3I02XJXPBNS4I  B00EO2D5HU   \n",
       "\n",
       "                                                   style         reviewerName  \\\n",
       "0                                                Unknown         OneMoreThing   \n",
       "1                                                Unknown      Kindle Customer   \n",
       "2                                                Unknown              Niffuts   \n",
       "3      {'Color:': ' Steel shaft', 'Hand Orientation:'...              Jeffrey   \n",
       "4                                  {'Size:': ' 10-Foot'}      Matthew England   \n",
       "...                                                  ...                  ...   \n",
       "99995                                            Unknown         Lizeth Ortiz   \n",
       "99996                                            Unknown        Jacob Carlson   \n",
       "99997                                            Unknown  Yvette V. Rodriguez   \n",
       "99998       {'Size:': ' 4 Pouches', 'Flavor:': ' Berry'}              P. Mann   \n",
       "99999                                            Unknown  Stephen C. Holtzman   \n",
       "\n",
       "                                              reviewText  \\\n",
       "0      I paid completely out of pocket for this and h...   \n",
       "1      I am only giving 3 stars because it arrivered ...   \n",
       "2              Product arrived on time and as described.   \n",
       "3                       If you can't hit this quit golf.   \n",
       "4      A product you won't find in any store due to i...   \n",
       "...                                                  ...   \n",
       "99995  The color is brown,\\nIt is not that pretty as ...   \n",
       "99996  I bought this set on sale for around 100 dolla...   \n",
       "99997                                       Works great!   \n",
       "99998  I was nervous about this product since I have ...   \n",
       "99999  I always change my Briggs & Stratton Genuine O...   \n",
       "\n",
       "                                                 summary  has_image  \\\n",
       "0                                         So far so good          0   \n",
       "1                  But like previous review not large at          0   \n",
       "2                                             Five Stars          0   \n",
       "3                                             Five Stars          0   \n",
       "4             $20 Solution to a $100 Problem! Fantastic!          0   \n",
       "...                                                  ...        ...   \n",
       "99995  It is not that pretty as it looks like in the ...          0   \n",
       "99996  Great Value! Comparible to Other Name Brands a...          0   \n",
       "99997                             GOOD BUY - WORKS GREAT          0   \n",
       "99998                      Tastes just like other yogurt          0   \n",
       "99999  Briggs & Stratton Genuine OEM 491588S Flat Air...          0   \n",
       "\n",
       "                                        clean_reviewText  \\\n",
       "0      paid completely pocket reimbursed review ive 2...   \n",
       "1      giving 3 star arrivered early like previous re...   \n",
       "2                         product arrived time described   \n",
       "3                                     cant hit quit golf   \n",
       "4      product wont find store due length thats preci...   \n",
       "...                                                  ...   \n",
       "99995               color brown pretty look like picture   \n",
       "99996  bought set sale around 100 dollar price compar...   \n",
       "99997                                         work great   \n",
       "99998  nervous product since always yogurt cold delib...   \n",
       "99999  always change briggs stratton genuine oem 4915...   \n",
       "\n",
       "                                           clean_summary  reviewText_length  \\\n",
       "0                                               far good                145   \n",
       "1                             like previous review large                 18   \n",
       "2                                              five star                  7   \n",
       "3                                              five star                  7   \n",
       "4                      20 solution 100 problem fantastic                 69   \n",
       "...                                                  ...                ...   \n",
       "99995                           pretty look like picture                 16   \n",
       "99996  great value comparible name brand used wide va...                169   \n",
       "99997                                good buy work great                  2   \n",
       "99998                                  taste like yogurt                167   \n",
       "99999  briggs stratton genuine oem 491588s flat air f...                 75   \n",
       "\n",
       "       clean_reviewText_length         review_emotions  \n",
       "0                           60        [�, ., ,  \",  a]  \n",
       "1                            9      [�, .,  \", ,  The]  \n",
       "2                            4  [�, .,  \",  for,  The]  \n",
       "3                            4        [ a, , �, ,  of]  \n",
       "4                           35        [�,  a, .,  \", ]  \n",
       "...                        ...                     ...  \n",
       "99995                        6        [, ., �, 's,  \"]  \n",
       "99996                       89        [�, ., ,  \", 's]  \n",
       "99997                        2       [, ., �,  on,  a]  \n",
       "99998                       81      [�, .,  \",  The, ]  \n",
       "99999                       39  [�, .,  the,  \",  The]  \n",
       "\n",
       "[100000 rows x 15 columns]"
      ]
     },
     "execution_count": 32,
     "metadata": {},
     "output_type": "execute_result"
    }
   ],
   "source": [
    "import pandas as pd\n",
    "\n",
    "# Load the JSON results into a DataFrame\n",
    "try:\n",
    "    # Adjust the path if the file is not in the current working directory\n",
    "    emotion_results_df = pd.read_json('sample_emotion_results.json', lines=True)\n",
    "except Exception as e:\n",
    "    emotion_results_df = str(e)\n",
    "\n",
    "emotion_results_df"
   ]
  },
  {
   "cell_type": "code",
   "execution_count": 33,
   "id": "9ec410b0-806b-47db-a80b-332b0aaf1a81",
   "metadata": {},
   "outputs": [
    {
     "data": {
      "text/html": [
       "<div>\n",
       "<style scoped>\n",
       "    .dataframe tbody tr th:only-of-type {\n",
       "        vertical-align: middle;\n",
       "    }\n",
       "\n",
       "    .dataframe tbody tr th {\n",
       "        vertical-align: top;\n",
       "    }\n",
       "\n",
       "    .dataframe thead th {\n",
       "        text-align: right;\n",
       "    }\n",
       "</style>\n",
       "<table border=\"1\" class=\"dataframe\">\n",
       "  <thead>\n",
       "    <tr style=\"text-align: right;\">\n",
       "      <th></th>\n",
       "      <th>overall</th>\n",
       "      <th>vote</th>\n",
       "      <th>verified</th>\n",
       "      <th>reviewerID</th>\n",
       "      <th>asin</th>\n",
       "      <th>style</th>\n",
       "      <th>reviewerName</th>\n",
       "      <th>reviewText</th>\n",
       "      <th>summary</th>\n",
       "      <th>has_image</th>\n",
       "      <th>clean_reviewText</th>\n",
       "      <th>clean_summary</th>\n",
       "      <th>reviewText_length</th>\n",
       "      <th>clean_reviewText_length</th>\n",
       "      <th>review_emotions</th>\n",
       "    </tr>\n",
       "  </thead>\n",
       "  <tbody>\n",
       "    <tr>\n",
       "      <th>0</th>\n",
       "      <td>4</td>\n",
       "      <td>0</td>\n",
       "      <td>True</td>\n",
       "      <td>A23ZYWM2WHJI2M</td>\n",
       "      <td>B00V54LQO4</td>\n",
       "      <td>Unknown</td>\n",
       "      <td>OneMoreThing</td>\n",
       "      <td>I paid completely out of pocket for this and h...</td>\n",
       "      <td>So far so good</td>\n",
       "      <td>0</td>\n",
       "      <td>paid completely pocket reimbursed review ive 2...</td>\n",
       "      <td>far good</td>\n",
       "      <td>145</td>\n",
       "      <td>60</td>\n",
       "      <td>[�, ., ,  \",  a]</td>\n",
       "    </tr>\n",
       "    <tr>\n",
       "      <th>1</th>\n",
       "      <td>3</td>\n",
       "      <td>0</td>\n",
       "      <td>True</td>\n",
       "      <td>A8Q9L444GXGR4</td>\n",
       "      <td>B00H29ETXQ</td>\n",
       "      <td>Unknown</td>\n",
       "      <td>Kindle Customer</td>\n",
       "      <td>I am only giving 3 stars because it arrivered ...</td>\n",
       "      <td>But like previous review not large at</td>\n",
       "      <td>0</td>\n",
       "      <td>giving 3 star arrivered early like previous re...</td>\n",
       "      <td>like previous review large</td>\n",
       "      <td>18</td>\n",
       "      <td>9</td>\n",
       "      <td>[�, .,  \", ,  The]</td>\n",
       "    </tr>\n",
       "    <tr>\n",
       "      <th>2</th>\n",
       "      <td>5</td>\n",
       "      <td>0</td>\n",
       "      <td>True</td>\n",
       "      <td>A3KD2620N3V9H3</td>\n",
       "      <td>B006OQJK28</td>\n",
       "      <td>Unknown</td>\n",
       "      <td>Niffuts</td>\n",
       "      <td>Product arrived on time and as described.</td>\n",
       "      <td>Five Stars</td>\n",
       "      <td>0</td>\n",
       "      <td>product arrived time described</td>\n",
       "      <td>five star</td>\n",
       "      <td>7</td>\n",
       "      <td>4</td>\n",
       "      <td>[�, .,  \",  for,  The]</td>\n",
       "    </tr>\n",
       "    <tr>\n",
       "      <th>3</th>\n",
       "      <td>5</td>\n",
       "      <td>22</td>\n",
       "      <td>True</td>\n",
       "      <td>A1ZX675046PIY5</td>\n",
       "      <td>B0142F5M1U</td>\n",
       "      <td>{'Color:': ' Steel shaft', 'Hand Orientation:'...</td>\n",
       "      <td>Jeffrey</td>\n",
       "      <td>If you can't hit this quit golf.</td>\n",
       "      <td>Five Stars</td>\n",
       "      <td>0</td>\n",
       "      <td>cant hit quit golf</td>\n",
       "      <td>five star</td>\n",
       "      <td>7</td>\n",
       "      <td>4</td>\n",
       "      <td>[ a, , �, ,  of]</td>\n",
       "    </tr>\n",
       "    <tr>\n",
       "      <th>4</th>\n",
       "      <td>5</td>\n",
       "      <td>3</td>\n",
       "      <td>True</td>\n",
       "      <td>AGYV9LBTHLN0V</td>\n",
       "      <td>B0002JOZNM</td>\n",
       "      <td>{'Size:': ' 10-Foot'}</td>\n",
       "      <td>Matthew England</td>\n",
       "      <td>A product you won't find in any store due to i...</td>\n",
       "      <td>$20 Solution to a $100 Problem! Fantastic!</td>\n",
       "      <td>0</td>\n",
       "      <td>product wont find store due length thats preci...</td>\n",
       "      <td>20 solution 100 problem fantastic</td>\n",
       "      <td>69</td>\n",
       "      <td>35</td>\n",
       "      <td>[�,  a, .,  \", ]</td>\n",
       "    </tr>\n",
       "    <tr>\n",
       "      <th>5</th>\n",
       "      <td>5</td>\n",
       "      <td>0</td>\n",
       "      <td>True</td>\n",
       "      <td>A57MDPBRO9PA</td>\n",
       "      <td>B01DKQAXC0</td>\n",
       "      <td>{'Scent Name:': ' Aloe Delight'}</td>\n",
       "      <td>ziggy</td>\n",
       "      <td>This stuff is MAGIC. I have a very physical jo...</td>\n",
       "      <td>MAGIC.</td>\n",
       "      <td>0</td>\n",
       "      <td>stuff magic physical job often follow roller d...</td>\n",
       "      <td>magic</td>\n",
       "      <td>49</td>\n",
       "      <td>24</td>\n",
       "      <td>[�, .,  a,  \", ]</td>\n",
       "    </tr>\n",
       "    <tr>\n",
       "      <th>6</th>\n",
       "      <td>4</td>\n",
       "      <td>0</td>\n",
       "      <td>True</td>\n",
       "      <td>A1HNNQCCD1M069</td>\n",
       "      <td>B012Z7IHHI</td>\n",
       "      <td>{'Color:': ' C011'}</td>\n",
       "      <td>Em</td>\n",
       "      <td>This brand is good for the price, but not as g...</td>\n",
       "      <td>Well worth it for the price.</td>\n",
       "      <td>0</td>\n",
       "      <td>brand good price good quality expensive stuff ...</td>\n",
       "      <td>well worth price</td>\n",
       "      <td>74</td>\n",
       "      <td>33</td>\n",
       "      <td>[., , �,  The,  a]</td>\n",
       "    </tr>\n",
       "    <tr>\n",
       "      <th>7</th>\n",
       "      <td>4</td>\n",
       "      <td>0</td>\n",
       "      <td>True</td>\n",
       "      <td>A1HUH1FYCL6SVG</td>\n",
       "      <td>B00DNNM9WI</td>\n",
       "      <td>{'Size:': ' X-Large', 'Color:': ' Columbia Grey'}</td>\n",
       "      <td>seandigity</td>\n",
       "      <td>Your paying for that Columbia name here. Jacke...</td>\n",
       "      <td>Paying for the name.</td>\n",
       "      <td>0</td>\n",
       "      <td>paying columbia name jacket paper thin wouldnt...</td>\n",
       "      <td>paying name</td>\n",
       "      <td>44</td>\n",
       "      <td>21</td>\n",
       "      <td>[�, ., ,  The,  \"]</td>\n",
       "    </tr>\n",
       "    <tr>\n",
       "      <th>8</th>\n",
       "      <td>5</td>\n",
       "      <td>0</td>\n",
       "      <td>True</td>\n",
       "      <td>A1ZMGG2S47JCV</td>\n",
       "      <td>B00K1D5UYW</td>\n",
       "      <td>Unknown</td>\n",
       "      <td>MandM</td>\n",
       "      <td>Love this set and younger double brushes.</td>\n",
       "      <td>Five Stars</td>\n",
       "      <td>0</td>\n",
       "      <td>love set younger double brush</td>\n",
       "      <td>five star</td>\n",
       "      <td>7</td>\n",
       "      <td>5</td>\n",
       "      <td>['s, , ., �, �]</td>\n",
       "    </tr>\n",
       "    <tr>\n",
       "      <th>9</th>\n",
       "      <td>2</td>\n",
       "      <td>4</td>\n",
       "      <td>False</td>\n",
       "      <td>A1QXE7OX7MSL2H</td>\n",
       "      <td>B013QN8NK6</td>\n",
       "      <td>{'Style Name:': ' 3 Tiered Server'}</td>\n",
       "      <td>M. Gondek</td>\n",
       "      <td>Note that this review is for the 3-tiered serv...</td>\n",
       "      <td>3-tiered Server doesn't assemble</td>\n",
       "      <td>0</td>\n",
       "      <td>note review 3tiered server piece set dont see ...</td>\n",
       "      <td>3tiered server doesnt assemble</td>\n",
       "      <td>348</td>\n",
       "      <td>165</td>\n",
       "      <td>[ The, �,  and,  a,  of]</td>\n",
       "    </tr>\n",
       "    <tr>\n",
       "      <th>10</th>\n",
       "      <td>3</td>\n",
       "      <td>39</td>\n",
       "      <td>True</td>\n",
       "      <td>ACCK3CV2PIMMM</td>\n",
       "      <td>B005OSTIPG</td>\n",
       "      <td>Unknown</td>\n",
       "      <td>finessa Wright</td>\n",
       "      <td>I've been looking for ceramic cookware for a l...</td>\n",
       "      <td>ceramic cookware bargain</td>\n",
       "      <td>0</td>\n",
       "      <td>ive looking ceramic cookware long time price a...</td>\n",
       "      <td>ceramic cookware bargain</td>\n",
       "      <td>128</td>\n",
       "      <td>61</td>\n",
       "      <td>[, 's, ., �, �]</td>\n",
       "    </tr>\n",
       "    <tr>\n",
       "      <th>11</th>\n",
       "      <td>3</td>\n",
       "      <td>3</td>\n",
       "      <td>True</td>\n",
       "      <td>A3GT59PPDZFHMF</td>\n",
       "      <td>B00NKOCLDW</td>\n",
       "      <td>{'Size:': ' 6\" X 8\" X 9\"', 'Color:': ' Blue Wi...</td>\n",
       "      <td>shoshanna</td>\n",
       "      <td>The Bag is nice looking and sturdy. For improv...</td>\n",
       "      <td>GOOD PRODUCT</td>\n",
       "      <td>0</td>\n",
       "      <td>bag nice looking sturdy improvement would help...</td>\n",
       "      <td>good product</td>\n",
       "      <td>33</td>\n",
       "      <td>16</td>\n",
       "      <td>[, ., �,  The,  on]</td>\n",
       "    </tr>\n",
       "    <tr>\n",
       "      <th>12</th>\n",
       "      <td>5</td>\n",
       "      <td>4</td>\n",
       "      <td>False</td>\n",
       "      <td>A3TYONQ6HRVDUS</td>\n",
       "      <td>B01HBUHY4Q</td>\n",
       "      <td>Unknown</td>\n",
       "      <td>Southern Belle</td>\n",
       "      <td>I said goodbye to butter and whipped topping t...</td>\n",
       "      <td>Great containers for large batches of soups, etc.</td>\n",
       "      <td>1</td>\n",
       "      <td>said goodbye butter whipped topping tub receiv...</td>\n",
       "      <td>great container large batch soup etc</td>\n",
       "      <td>317</td>\n",
       "      <td>140</td>\n",
       "      <td>[�, ., ,  \",  a]</td>\n",
       "    </tr>\n",
       "    <tr>\n",
       "      <th>13</th>\n",
       "      <td>5</td>\n",
       "      <td>11</td>\n",
       "      <td>True</td>\n",
       "      <td>A2F0DUJM7PZONE</td>\n",
       "      <td>B00KQ2O6YS</td>\n",
       "      <td>Unknown</td>\n",
       "      <td>Jennifer M</td>\n",
       "      <td>Have not had it very long yet, but so far so g...</td>\n",
       "      <td>but so far so good. Love how quiet it operates...</td>\n",
       "      <td>0</td>\n",
       "      <td>long yet far good love quiet operates versus o...</td>\n",
       "      <td>far good love quiet operates versus old</td>\n",
       "      <td>35</td>\n",
       "      <td>17</td>\n",
       "      <td>[, 's, ., �, �]</td>\n",
       "    </tr>\n",
       "    <tr>\n",
       "      <th>14</th>\n",
       "      <td>5</td>\n",
       "      <td>0</td>\n",
       "      <td>True</td>\n",
       "      <td>A253MSWQ8MLM7Q</td>\n",
       "      <td>B00GNM8V0A</td>\n",
       "      <td>Unknown</td>\n",
       "      <td>Aaron</td>\n",
       "      <td>Fit perfectly and is very affordable</td>\n",
       "      <td>Five Stars</td>\n",
       "      <td>0</td>\n",
       "      <td>fit perfectly affordable</td>\n",
       "      <td>five star</td>\n",
       "      <td>6</td>\n",
       "      <td>3</td>\n",
       "      <td>[., �, ,  The,  \"]</td>\n",
       "    </tr>\n",
       "    <tr>\n",
       "      <th>15</th>\n",
       "      <td>5</td>\n",
       "      <td>0</td>\n",
       "      <td>True</td>\n",
       "      <td>AI241JBWQ148H</td>\n",
       "      <td>B00XJ6Q86C</td>\n",
       "      <td>{'Color:': ' BLACK'}</td>\n",
       "      <td>CLK CarolLee Kidd</td>\n",
       "      <td>new kitchen, and this is a finishing touch</td>\n",
       "      <td>Five Stars</td>\n",
       "      <td>0</td>\n",
       "      <td>new kitchen finishing touch</td>\n",
       "      <td>five star</td>\n",
       "      <td>8</td>\n",
       "      <td>4</td>\n",
       "      <td>[�, .,  \", ,  for]</td>\n",
       "    </tr>\n",
       "    <tr>\n",
       "      <th>16</th>\n",
       "      <td>5</td>\n",
       "      <td>7</td>\n",
       "      <td>True</td>\n",
       "      <td>A2UDT3L85PN700</td>\n",
       "      <td>B01BZI5AMI</td>\n",
       "      <td>{'Size:': ' Small', 'Color:': ' Black'}</td>\n",
       "      <td>Nik Nik</td>\n",
       "      <td>Super cute top</td>\n",
       "      <td>Love this top</td>\n",
       "      <td>1</td>\n",
       "      <td>super cute top</td>\n",
       "      <td>love top</td>\n",
       "      <td>3</td>\n",
       "      <td>3</td>\n",
       "      <td>[, ., �,  on,  for]</td>\n",
       "    </tr>\n",
       "    <tr>\n",
       "      <th>17</th>\n",
       "      <td>3</td>\n",
       "      <td>7</td>\n",
       "      <td>True</td>\n",
       "      <td>A37VWK0TALFA47</td>\n",
       "      <td>B00494DQ2M</td>\n",
       "      <td>{'Color:': ' Green'}</td>\n",
       "      <td>cocoharley</td>\n",
       "      <td>I purchased this (and two other InterDesign ru...</td>\n",
       "      <td>Okay-looking but way overpriced for the qualit...</td>\n",
       "      <td>0</td>\n",
       "      <td>purchased two interdesign rug lshaped second b...</td>\n",
       "      <td>okaylooking way overpriced quality get</td>\n",
       "      <td>276</td>\n",
       "      <td>137</td>\n",
       "      <td>[�,  that,  \", .,  in]</td>\n",
       "    </tr>\n",
       "    <tr>\n",
       "      <th>18</th>\n",
       "      <td>5</td>\n",
       "      <td>4</td>\n",
       "      <td>True</td>\n",
       "      <td>A2IFKRLN1UTCXB</td>\n",
       "      <td>B000UNYJRW</td>\n",
       "      <td>{'Format:': ' Amazon Video'}</td>\n",
       "      <td>Ryan Baroni</td>\n",
       "      <td>I love this film. I bought it. Two men find ea...</td>\n",
       "      <td>Gay scene under a microscope</td>\n",
       "      <td>0</td>\n",
       "      <td>love film bought two men find personal much an...</td>\n",
       "      <td>gay scene microscope</td>\n",
       "      <td>56</td>\n",
       "      <td>33</td>\n",
       "      <td>['s, �, , ., ,]</td>\n",
       "    </tr>\n",
       "    <tr>\n",
       "      <th>19</th>\n",
       "      <td>5</td>\n",
       "      <td>0</td>\n",
       "      <td>False</td>\n",
       "      <td>AAG33EAXJYZG2</td>\n",
       "      <td>B00MB0D9G4</td>\n",
       "      <td>Unknown</td>\n",
       "      <td>mid</td>\n",
       "      <td>Fits well on 2004 Odyssey and touch is great. ...</td>\n",
       "      <td>Good ,comfortable product</td>\n",
       "      <td>0</td>\n",
       "      <td>fit well 2004 odyssey touch great using 56 mon...</td>\n",
       "      <td>good comfortable product</td>\n",
       "      <td>16</td>\n",
       "      <td>11</td>\n",
       "      <td>[, ., �,  on,  \"]</td>\n",
       "    </tr>\n",
       "  </tbody>\n",
       "</table>\n",
       "</div>"
      ],
      "text/plain": [
       "    overall  vote  verified      reviewerID        asin  \\\n",
       "0         4     0      True  A23ZYWM2WHJI2M  B00V54LQO4   \n",
       "1         3     0      True   A8Q9L444GXGR4  B00H29ETXQ   \n",
       "2         5     0      True  A3KD2620N3V9H3  B006OQJK28   \n",
       "3         5    22      True  A1ZX675046PIY5  B0142F5M1U   \n",
       "4         5     3      True   AGYV9LBTHLN0V  B0002JOZNM   \n",
       "5         5     0      True    A57MDPBRO9PA  B01DKQAXC0   \n",
       "6         4     0      True  A1HNNQCCD1M069  B012Z7IHHI   \n",
       "7         4     0      True  A1HUH1FYCL6SVG  B00DNNM9WI   \n",
       "8         5     0      True   A1ZMGG2S47JCV  B00K1D5UYW   \n",
       "9         2     4     False  A1QXE7OX7MSL2H  B013QN8NK6   \n",
       "10        3    39      True   ACCK3CV2PIMMM  B005OSTIPG   \n",
       "11        3     3      True  A3GT59PPDZFHMF  B00NKOCLDW   \n",
       "12        5     4     False  A3TYONQ6HRVDUS  B01HBUHY4Q   \n",
       "13        5    11      True  A2F0DUJM7PZONE  B00KQ2O6YS   \n",
       "14        5     0      True  A253MSWQ8MLM7Q  B00GNM8V0A   \n",
       "15        5     0      True   AI241JBWQ148H  B00XJ6Q86C   \n",
       "16        5     7      True  A2UDT3L85PN700  B01BZI5AMI   \n",
       "17        3     7      True  A37VWK0TALFA47  B00494DQ2M   \n",
       "18        5     4      True  A2IFKRLN1UTCXB  B000UNYJRW   \n",
       "19        5     0     False   AAG33EAXJYZG2  B00MB0D9G4   \n",
       "\n",
       "                                                style       reviewerName  \\\n",
       "0                                             Unknown       OneMoreThing   \n",
       "1                                             Unknown    Kindle Customer   \n",
       "2                                             Unknown            Niffuts   \n",
       "3   {'Color:': ' Steel shaft', 'Hand Orientation:'...            Jeffrey   \n",
       "4                               {'Size:': ' 10-Foot'}    Matthew England   \n",
       "5                    {'Scent Name:': ' Aloe Delight'}              ziggy   \n",
       "6                                 {'Color:': ' C011'}                 Em   \n",
       "7   {'Size:': ' X-Large', 'Color:': ' Columbia Grey'}         seandigity   \n",
       "8                                             Unknown              MandM   \n",
       "9                 {'Style Name:': ' 3 Tiered Server'}          M. Gondek   \n",
       "10                                            Unknown     finessa Wright   \n",
       "11  {'Size:': ' 6\" X 8\" X 9\"', 'Color:': ' Blue Wi...          shoshanna   \n",
       "12                                            Unknown     Southern Belle   \n",
       "13                                            Unknown         Jennifer M   \n",
       "14                                            Unknown              Aaron   \n",
       "15                               {'Color:': ' BLACK'}  CLK CarolLee Kidd   \n",
       "16            {'Size:': ' Small', 'Color:': ' Black'}            Nik Nik   \n",
       "17                               {'Color:': ' Green'}         cocoharley   \n",
       "18                       {'Format:': ' Amazon Video'}        Ryan Baroni   \n",
       "19                                            Unknown                mid   \n",
       "\n",
       "                                           reviewText  \\\n",
       "0   I paid completely out of pocket for this and h...   \n",
       "1   I am only giving 3 stars because it arrivered ...   \n",
       "2           Product arrived on time and as described.   \n",
       "3                    If you can't hit this quit golf.   \n",
       "4   A product you won't find in any store due to i...   \n",
       "5   This stuff is MAGIC. I have a very physical jo...   \n",
       "6   This brand is good for the price, but not as g...   \n",
       "7   Your paying for that Columbia name here. Jacke...   \n",
       "8           Love this set and younger double brushes.   \n",
       "9   Note that this review is for the 3-tiered serv...   \n",
       "10  I've been looking for ceramic cookware for a l...   \n",
       "11  The Bag is nice looking and sturdy. For improv...   \n",
       "12  I said goodbye to butter and whipped topping t...   \n",
       "13  Have not had it very long yet, but so far so g...   \n",
       "14               Fit perfectly and is very affordable   \n",
       "15         new kitchen, and this is a finishing touch   \n",
       "16                                     Super cute top   \n",
       "17  I purchased this (and two other InterDesign ru...   \n",
       "18  I love this film. I bought it. Two men find ea...   \n",
       "19  Fits well on 2004 Odyssey and touch is great. ...   \n",
       "\n",
       "                                              summary  has_image  \\\n",
       "0                                      So far so good          0   \n",
       "1               But like previous review not large at          0   \n",
       "2                                          Five Stars          0   \n",
       "3                                          Five Stars          0   \n",
       "4          $20 Solution to a $100 Problem! Fantastic!          0   \n",
       "5                                              MAGIC.          0   \n",
       "6                        Well worth it for the price.          0   \n",
       "7                                Paying for the name.          0   \n",
       "8                                          Five Stars          0   \n",
       "9                    3-tiered Server doesn't assemble          0   \n",
       "10                           ceramic cookware bargain          0   \n",
       "11                                       GOOD PRODUCT          0   \n",
       "12  Great containers for large batches of soups, etc.          1   \n",
       "13  but so far so good. Love how quiet it operates...          0   \n",
       "14                                         Five Stars          0   \n",
       "15                                         Five Stars          0   \n",
       "16                                      Love this top          1   \n",
       "17  Okay-looking but way overpriced for the qualit...          0   \n",
       "18                       Gay scene under a microscope          0   \n",
       "19                          Good ,comfortable product          0   \n",
       "\n",
       "                                     clean_reviewText  \\\n",
       "0   paid completely pocket reimbursed review ive 2...   \n",
       "1   giving 3 star arrivered early like previous re...   \n",
       "2                      product arrived time described   \n",
       "3                                  cant hit quit golf   \n",
       "4   product wont find store due length thats preci...   \n",
       "5   stuff magic physical job often follow roller d...   \n",
       "6   brand good price good quality expensive stuff ...   \n",
       "7   paying columbia name jacket paper thin wouldnt...   \n",
       "8                       love set younger double brush   \n",
       "9   note review 3tiered server piece set dont see ...   \n",
       "10  ive looking ceramic cookware long time price a...   \n",
       "11  bag nice looking sturdy improvement would help...   \n",
       "12  said goodbye butter whipped topping tub receiv...   \n",
       "13  long yet far good love quiet operates versus o...   \n",
       "14                           fit perfectly affordable   \n",
       "15                        new kitchen finishing touch   \n",
       "16                                     super cute top   \n",
       "17  purchased two interdesign rug lshaped second b...   \n",
       "18  love film bought two men find personal much an...   \n",
       "19  fit well 2004 odyssey touch great using 56 mon...   \n",
       "\n",
       "                              clean_summary  reviewText_length  \\\n",
       "0                                  far good                145   \n",
       "1                like previous review large                 18   \n",
       "2                                 five star                  7   \n",
       "3                                 five star                  7   \n",
       "4         20 solution 100 problem fantastic                 69   \n",
       "5                                     magic                 49   \n",
       "6                          well worth price                 74   \n",
       "7                               paying name                 44   \n",
       "8                                 five star                  7   \n",
       "9            3tiered server doesnt assemble                348   \n",
       "10                 ceramic cookware bargain                128   \n",
       "11                             good product                 33   \n",
       "12     great container large batch soup etc                317   \n",
       "13  far good love quiet operates versus old                 35   \n",
       "14                                five star                  6   \n",
       "15                                five star                  8   \n",
       "16                                 love top                  3   \n",
       "17   okaylooking way overpriced quality get                276   \n",
       "18                     gay scene microscope                 56   \n",
       "19                 good comfortable product                 16   \n",
       "\n",
       "    clean_reviewText_length           review_emotions  \n",
       "0                        60          [�, ., ,  \",  a]  \n",
       "1                         9        [�, .,  \", ,  The]  \n",
       "2                         4    [�, .,  \",  for,  The]  \n",
       "3                         4          [ a, , �, ,  of]  \n",
       "4                        35          [�,  a, .,  \", ]  \n",
       "5                        24          [�, .,  a,  \", ]  \n",
       "6                        33        [., , �,  The,  a]  \n",
       "7                        21        [�, ., ,  The,  \"]  \n",
       "8                         5           ['s, , ., �, �]  \n",
       "9                       165  [ The, �,  and,  a,  of]  \n",
       "10                       61           [, 's, ., �, �]  \n",
       "11                       16       [, ., �,  The,  on]  \n",
       "12                      140          [�, ., ,  \",  a]  \n",
       "13                       17           [, 's, ., �, �]  \n",
       "14                        3        [., �, ,  The,  \"]  \n",
       "15                        4        [�, .,  \", ,  for]  \n",
       "16                        3       [, ., �,  on,  for]  \n",
       "17                      137    [�,  that,  \", .,  in]  \n",
       "18                       33           ['s, �, , ., ,]  \n",
       "19                       11         [, ., �,  on,  \"]  "
      ]
     },
     "execution_count": 33,
     "metadata": {},
     "output_type": "execute_result"
    }
   ],
   "source": [
    "emotion_results_df.head(20)"
   ]
  },
  {
   "cell_type": "markdown",
   "id": "042cd553-033b-4877-aa2b-c5f62909d8e1",
   "metadata": {},
   "source": [
    "Due to the above errors we will test it on 10 reviews first to see if we are getting a response"
   ]
  },
  {
   "cell_type": "code",
   "execution_count": 34,
   "id": "1b3aec2b-5150-4f11-b516-d6d300645b57",
   "metadata": {},
   "outputs": [
    {
     "name": "stderr",
     "output_type": "stream",
     "text": [
      "C:\\Users\\adnan\\AppData\\Local\\Temp\\ipykernel_7872\\899889240.py:35: SettingWithCopyWarning: \n",
      "A value is trying to be set on a copy of a slice from a DataFrame.\n",
      "Try using .loc[row_indexer,col_indexer] = value instead\n",
      "\n",
      "See the caveats in the documentation: https://pandas.pydata.org/pandas-docs/stable/user_guide/indexing.html#returning-a-view-versus-a-copy\n",
      "  subset['review_emotions10'] = get_top_emotions(subset['clean_reviewText'].tolist(), tokenizer, model)\n"
     ]
    }
   ],
   "source": [
    "import torch \n",
    "import numpy as np\n",
    "import pandas as pd\n",
    "from transformers import AutoTokenizer, AutoModelForSequenceClassification\n",
    "\n",
    "#Set computing of the device\n",
    "device = torch.device(\"cuda\" if torch.cuda.is_available() else \"cpu\")\n",
    "\n",
    "#Function to get the top emotions from the texts\n",
    "def get_top_emotions(texts, tokenizer, model):\n",
    "    model.to(device)  # Ensure the model is on the right device\n",
    "    tokens = tokenizer(texts, padding=True, truncation=True, max_length=512, return_tensors=\"pt\")\n",
    "    tokens = {k: v.to(device) for k, v in tokens.items()}\n",
    "    with torch.no_grad():\n",
    "        outputs = model(**tokens)\n",
    "        predictions = torch.nn.functional.softmax(outputs.logits, dim=-1)\n",
    "        all_predictions = predictions.detach().cpu().numpy()\n",
    "\n",
    "    top5_emotions = []\n",
    "    for prediction in all_predictions:\n",
    "        top5_idx = np.argsort(prediction)[-5:][::-1]\n",
    "        top5_emotions.append([tokenizer.decode([idx], skip_special_tokens=True) for idx in top5_idx])\n",
    "    return top5_emotions\n",
    "\n",
    "# Initialize model and tokenizer\n",
    "tokenizer = AutoTokenizer.from_pretrained(\"SamLowe/roberta-base-go_emotions\")\n",
    "model = AutoModelForSequenceClassification.from_pretrained(\"SamLowe/roberta-base-go_emotions\")\n",
    "model.eval()\n",
    "\n",
    "# Load dataset and prepare subset\n",
    "tokenized_data = pd.read_json('C:\\\\Users\\\\adnan\\\\Desktop\\\\Main_Dataset_Review1.json', lines=True)\n",
    "subset = tokenized_data.iloc[:10]  # Selecting the first 10 reviews\n",
    "\n",
    "# Process the subset directly\n",
    "subset['review_emotions10'] = get_top_emotions(subset['clean_reviewText'].tolist(), tokenizer, model)\n",
    "\n",
    "# Save final results\n",
    "output_path = 'sample10_emotion_results.json'\n",
    "subset.to_json(output_path, orient='records', lines=True)"
   ]
  },
  {
   "cell_type": "code",
   "execution_count": 35,
   "id": "b49ed09b-df5b-4ef2-819b-feb5229ef367",
   "metadata": {},
   "outputs": [],
   "source": [
    "sample10_emotions = pd.read_json('sample10_emotion_results.json', lines=True)"
   ]
  },
  {
   "cell_type": "code",
   "execution_count": 36,
   "id": "a57582a6-1580-494a-82f8-0d718eb929a2",
   "metadata": {},
   "outputs": [
    {
     "data": {
      "text/html": [
       "<div>\n",
       "<style scoped>\n",
       "    .dataframe tbody tr th:only-of-type {\n",
       "        vertical-align: middle;\n",
       "    }\n",
       "\n",
       "    .dataframe tbody tr th {\n",
       "        vertical-align: top;\n",
       "    }\n",
       "\n",
       "    .dataframe thead th {\n",
       "        text-align: right;\n",
       "    }\n",
       "</style>\n",
       "<table border=\"1\" class=\"dataframe\">\n",
       "  <thead>\n",
       "    <tr style=\"text-align: right;\">\n",
       "      <th></th>\n",
       "      <th>overall</th>\n",
       "      <th>vote</th>\n",
       "      <th>verified</th>\n",
       "      <th>reviewerID</th>\n",
       "      <th>asin</th>\n",
       "      <th>style</th>\n",
       "      <th>reviewerName</th>\n",
       "      <th>reviewText</th>\n",
       "      <th>summary</th>\n",
       "      <th>has_image</th>\n",
       "      <th>clean_reviewText</th>\n",
       "      <th>clean_summary</th>\n",
       "      <th>reviewText_length</th>\n",
       "      <th>clean_reviewText_length</th>\n",
       "      <th>review_emotions10</th>\n",
       "    </tr>\n",
       "  </thead>\n",
       "  <tbody>\n",
       "    <tr>\n",
       "      <th>0</th>\n",
       "      <td>1</td>\n",
       "      <td>0</td>\n",
       "      <td>True</td>\n",
       "      <td>A2KGOFRA94OWS9</td>\n",
       "      <td>B00GZOI1OC</td>\n",
       "      <td>Unknown</td>\n",
       "      <td>jlpoole520</td>\n",
       "      <td>The part (the biggest part, the wheel) didn't ...</td>\n",
       "      <td>The part (the biggest part, the wheel) didn't ...</td>\n",
       "      <td>0</td>\n",
       "      <td>part biggest part wheel didnt fit buy new mach...</td>\n",
       "      <td>part biggest part wheel didnt fit</td>\n",
       "      <td>49</td>\n",
       "      <td>22</td>\n",
       "      <td>[ the,  The,  on, �, ]</td>\n",
       "    </tr>\n",
       "    <tr>\n",
       "      <th>1</th>\n",
       "      <td>1</td>\n",
       "      <td>0</td>\n",
       "      <td>True</td>\n",
       "      <td>A1LIJY0J529J27</td>\n",
       "      <td>B00LHQYW0A</td>\n",
       "      <td>Unknown</td>\n",
       "      <td>John P</td>\n",
       "      <td>Incomplete order.  Picture shows two heating e...</td>\n",
       "      <td>Incomplete order, missing one heating element</td>\n",
       "      <td>0</td>\n",
       "      <td>incomplete order picture show two heating elem...</td>\n",
       "      <td>incomplete order missing one heating element</td>\n",
       "      <td>11</td>\n",
       "      <td>9</td>\n",
       "      <td>[�,  a,  of, , ,]</td>\n",
       "    </tr>\n",
       "    <tr>\n",
       "      <th>2</th>\n",
       "      <td>1</td>\n",
       "      <td>0</td>\n",
       "      <td>False</td>\n",
       "      <td>A3OMTDM4HR5XV9</td>\n",
       "      <td>B0050KMOM2</td>\n",
       "      <td>Unknown</td>\n",
       "      <td>steve combs</td>\n",
       "      <td>best  bushing  I've had in a long time</td>\n",
       "      <td>best bushing I've had in a long time</td>\n",
       "      <td>0</td>\n",
       "      <td>best bushing ive long time</td>\n",
       "      <td>best bushing ive long time</td>\n",
       "      <td>8</td>\n",
       "      <td>5</td>\n",
       "      <td>[, ., �,  on,  \"]</td>\n",
       "    </tr>\n",
       "    <tr>\n",
       "      <th>3</th>\n",
       "      <td>1</td>\n",
       "      <td>0</td>\n",
       "      <td>False</td>\n",
       "      <td>A10M3NOJHRC4F4</td>\n",
       "      <td>B001GD43RG</td>\n",
       "      <td>Unknown</td>\n",
       "      <td>Amazon Customer</td>\n",
       "      <td>Biggest piece of s*** we ever bought, replaced...</td>\n",
       "      <td>Biggest piece of s*** we ever bought, replaced...</td>\n",
       "      <td>0</td>\n",
       "      <td>biggest piece ever bought replaced motor 4 tim...</td>\n",
       "      <td>biggest piece ever bought replaced motor</td>\n",
       "      <td>22</td>\n",
       "      <td>14</td>\n",
       "      <td>[�, ., ,  \", ]</td>\n",
       "    </tr>\n",
       "    <tr>\n",
       "      <th>4</th>\n",
       "      <td>1</td>\n",
       "      <td>0</td>\n",
       "      <td>True</td>\n",
       "      <td>A3LF8E0TB9XWMZ</td>\n",
       "      <td>B00LJ5K82K</td>\n",
       "      <td>Unknown</td>\n",
       "      <td>Amazon Customer</td>\n",
       "      <td>dud shorted out element burned out the same da...</td>\n",
       "      <td>not very happy</td>\n",
       "      <td>0</td>\n",
       "      <td>dud shorted element burned daynot happy</td>\n",
       "      <td>happy</td>\n",
       "      <td>11</td>\n",
       "      <td>6</td>\n",
       "      <td>[ as,  of, �, ,  a]</td>\n",
       "    </tr>\n",
       "  </tbody>\n",
       "</table>\n",
       "</div>"
      ],
      "text/plain": [
       "   overall  vote  verified      reviewerID        asin    style  \\\n",
       "0        1     0      True  A2KGOFRA94OWS9  B00GZOI1OC  Unknown   \n",
       "1        1     0      True  A1LIJY0J529J27  B00LHQYW0A  Unknown   \n",
       "2        1     0     False  A3OMTDM4HR5XV9  B0050KMOM2  Unknown   \n",
       "3        1     0     False  A10M3NOJHRC4F4  B001GD43RG  Unknown   \n",
       "4        1     0      True  A3LF8E0TB9XWMZ  B00LJ5K82K  Unknown   \n",
       "\n",
       "      reviewerName                                         reviewText  \\\n",
       "0       jlpoole520  The part (the biggest part, the wheel) didn't ...   \n",
       "1           John P  Incomplete order.  Picture shows two heating e...   \n",
       "2      steve combs             best  bushing  I've had in a long time   \n",
       "3  Amazon Customer  Biggest piece of s*** we ever bought, replaced...   \n",
       "4  Amazon Customer  dud shorted out element burned out the same da...   \n",
       "\n",
       "                                             summary  has_image  \\\n",
       "0  The part (the biggest part, the wheel) didn't ...          0   \n",
       "1      Incomplete order, missing one heating element          0   \n",
       "2               best bushing I've had in a long time          0   \n",
       "3  Biggest piece of s*** we ever bought, replaced...          0   \n",
       "4                                     not very happy          0   \n",
       "\n",
       "                                    clean_reviewText  \\\n",
       "0  part biggest part wheel didnt fit buy new mach...   \n",
       "1  incomplete order picture show two heating elem...   \n",
       "2                         best bushing ive long time   \n",
       "3  biggest piece ever bought replaced motor 4 tim...   \n",
       "4            dud shorted element burned daynot happy   \n",
       "\n",
       "                                  clean_summary  reviewText_length  \\\n",
       "0             part biggest part wheel didnt fit                 49   \n",
       "1  incomplete order missing one heating element                 11   \n",
       "2                    best bushing ive long time                  8   \n",
       "3      biggest piece ever bought replaced motor                 22   \n",
       "4                                         happy                 11   \n",
       "\n",
       "   clean_reviewText_length       review_emotions10  \n",
       "0                       22  [ the,  The,  on, �, ]  \n",
       "1                        9       [�,  a,  of, , ,]  \n",
       "2                        5       [, ., �,  on,  \"]  \n",
       "3                       14          [�, ., ,  \", ]  \n",
       "4                        6     [ as,  of, �, ,  a]  "
      ]
     },
     "execution_count": 36,
     "metadata": {},
     "output_type": "execute_result"
    }
   ],
   "source": [
    "sample10_emotions.head()"
   ]
  },
  {
   "cell_type": "markdown",
   "id": "94b83966-31bf-4bfa-a9b2-ae9837742070",
   "metadata": {},
   "source": [
    "Now it is identified that there could be an issue based on the decoding the results and the interpretation of the models output"
   ]
  },
  {
   "cell_type": "code",
   "execution_count": 38,
   "id": "8d547b57-6d22-4850-a340-91fb2345e6a5",
   "metadata": {},
   "outputs": [
    {
     "data": {
      "application/vnd.jupyter.widget-view+json": {
       "model_id": "ab35e0842b5749d8a258b14b3f5cdb92",
       "version_major": 2,
       "version_minor": 0
      },
      "text/plain": [
       "Processing batches:   0%|          | 0/1 [00:00<?, ?it/s]"
      ]
     },
     "metadata": {},
     "output_type": "display_data"
    },
    {
     "name": "stderr",
     "output_type": "stream",
     "text": [
      "C:\\Users\\adnan\\AppData\\Local\\Temp\\ipykernel_7872\\4072887222.py:48: SettingWithCopyWarning: \n",
      "A value is trying to be set on a copy of a slice from a DataFrame.\n",
      "Try using .loc[row_indexer,col_indexer] = value instead\n",
      "\n",
      "See the caveats in the documentation: https://pandas.pydata.org/pandas-docs/stable/user_guide/indexing.html#returning-a-view-versus-a-copy\n",
      "  subset['review_emotions'] = get_top_emotions(subset['clean_reviewText'].tolist(), tokenizer, model, emotion_labels, batch_size=10)\n"
     ]
    }
   ],
   "source": [
    "import torch\n",
    "import numpy as np\n",
    "import pandas as pd\n",
    "from torch.utils.data import TensorDataset, DataLoader\n",
    "from transformers import AutoTokenizer, AutoModelForSequenceClassification\n",
    "from tqdm.auto import tqdm\n",
    "\n",
    "# Set computing device\n",
    "device = torch.device(\"cuda\" if torch.cuda.is_available() else \"cpu\")\n",
    "\n",
    "# Define the function to get the top emotions from texts\n",
    "def get_top_emotions(texts, tokenizer, model, emotion_labels, batch_size=64):\n",
    "    model.to(device)  # Ensure the model is on the right device\n",
    "    all_predictions = []\n",
    "    for i in tqdm(range(0, len(texts), batch_size), desc=\"Processing batches\"):\n",
    "        batch_texts = texts[i:i + batch_size]\n",
    "        tokens = tokenizer(batch_texts, padding=True, truncation=True, max_length=512, return_tensors=\"pt\")\n",
    "        tokens = {k: v.to(device) for k, v in tokens.items()}  # Move tokenized data to the device\n",
    "        with torch.no_grad():\n",
    "            outputs = model(**tokens)\n",
    "            predictions = torch.nn.functional.softmax(outputs.logits, dim=-1)\n",
    "            all_predictions.extend(predictions.detach().cpu().numpy())  # Move predictions back to CPU\n",
    "    top5_emotions = []\n",
    "    for prediction in all_predictions:\n",
    "        top5_idx = np.argsort(prediction)[-5:][::-1]\n",
    "        top5_emotions.append([emotion_labels[idx] for idx in top5_idx])\n",
    "    return top5_emotions\n",
    "\n",
    "# Initialize model and tokenizer\n",
    "tokenizer = AutoTokenizer.from_pretrained(\"SamLowe/roberta-base-go_emotions\")\n",
    "model = AutoModelForSequenceClassification.from_pretrained(\"SamLowe/roberta-base-go_emotions\")\n",
    "model.eval()\n",
    "\n",
    "# Load dataset and prepare subset\n",
    "tokenized_data = pd.read_json('C:\\\\Users\\\\adnan\\\\Desktop\\\\Main_Dataset_Review1.json', lines=True)\n",
    "subset = tokenized_data.iloc[:10]  # Selecting the first 10 reviews\n",
    "\n",
    "#Emotion labels based on the model's output\n",
    "emotion_labels = [\n",
    "    'disappointment', 'sadness', 'annoyance', 'neutral', 'disapproval',\n",
    "    'realization', 'nervousness', 'approval', 'joy', 'anger',\n",
    "    'embarrassment', 'caring', 'remorse', 'disgust', 'grief',\n",
    "    'confusion', 'relief', 'desire', 'admiration', 'optimism',\n",
    "    'fear', 'love', 'excitement', 'curiosity', 'amusement',\n",
    "    'surprise', 'gratitude', 'pride'\n",
    "]\n",
    "# Process the subset directly\n",
    "subset['review_emotions'] = get_top_emotions(subset['clean_reviewText'].tolist(), tokenizer, model, emotion_labels, batch_size=10)\n",
    "\n",
    "#Save the final results \n",
    "output_path = 'new_sample_emotions.json'\n",
    "subset.to_json(output_path, orient='records', lines=True)"
   ]
  },
  {
   "cell_type": "code",
   "execution_count": 40,
   "id": "17312902-9b60-4d79-9de3-5c35e7284ceb",
   "metadata": {},
   "outputs": [],
   "source": [
    "new_sample_emotions = pd.read_json('new_sample_emotions.json', lines=True)"
   ]
  },
  {
   "cell_type": "code",
   "execution_count": 41,
   "id": "e8fa8970-4a51-41be-9b30-ff715bbbe32a",
   "metadata": {},
   "outputs": [
    {
     "data": {
      "text/html": [
       "<div>\n",
       "<style scoped>\n",
       "    .dataframe tbody tr th:only-of-type {\n",
       "        vertical-align: middle;\n",
       "    }\n",
       "\n",
       "    .dataframe tbody tr th {\n",
       "        vertical-align: top;\n",
       "    }\n",
       "\n",
       "    .dataframe thead th {\n",
       "        text-align: right;\n",
       "    }\n",
       "</style>\n",
       "<table border=\"1\" class=\"dataframe\">\n",
       "  <thead>\n",
       "    <tr style=\"text-align: right;\">\n",
       "      <th></th>\n",
       "      <th>overall</th>\n",
       "      <th>vote</th>\n",
       "      <th>verified</th>\n",
       "      <th>reviewerID</th>\n",
       "      <th>asin</th>\n",
       "      <th>style</th>\n",
       "      <th>reviewerName</th>\n",
       "      <th>reviewText</th>\n",
       "      <th>summary</th>\n",
       "      <th>has_image</th>\n",
       "      <th>clean_reviewText</th>\n",
       "      <th>clean_summary</th>\n",
       "      <th>reviewText_length</th>\n",
       "      <th>clean_reviewText_length</th>\n",
       "      <th>review_emotions</th>\n",
       "    </tr>\n",
       "  </thead>\n",
       "  <tbody>\n",
       "    <tr>\n",
       "      <th>0</th>\n",
       "      <td>1</td>\n",
       "      <td>0</td>\n",
       "      <td>True</td>\n",
       "      <td>A2KGOFRA94OWS9</td>\n",
       "      <td>B00GZOI1OC</td>\n",
       "      <td>Unknown</td>\n",
       "      <td>jlpoole520</td>\n",
       "      <td>The part (the biggest part, the wheel) didn't ...</td>\n",
       "      <td>The part (the biggest part, the wheel) didn't ...</td>\n",
       "      <td>0</td>\n",
       "      <td>part biggest part wheel didnt fit buy new mach...</td>\n",
       "      <td>part biggest part wheel didnt fit</td>\n",
       "      <td>49</td>\n",
       "      <td>22</td>\n",
       "      <td>[realization, fear, confusion, pride, neutral]</td>\n",
       "    </tr>\n",
       "    <tr>\n",
       "      <th>1</th>\n",
       "      <td>1</td>\n",
       "      <td>0</td>\n",
       "      <td>True</td>\n",
       "      <td>A1LIJY0J529J27</td>\n",
       "      <td>B00LHQYW0A</td>\n",
       "      <td>Unknown</td>\n",
       "      <td>John P</td>\n",
       "      <td>Incomplete order.  Picture shows two heating e...</td>\n",
       "      <td>Incomplete order, missing one heating element</td>\n",
       "      <td>0</td>\n",
       "      <td>incomplete order picture show two heating elem...</td>\n",
       "      <td>incomplete order missing one heating element</td>\n",
       "      <td>11</td>\n",
       "      <td>9</td>\n",
       "      <td>[pride, embarrassment, anger, neutral, nervous...</td>\n",
       "    </tr>\n",
       "    <tr>\n",
       "      <th>2</th>\n",
       "      <td>1</td>\n",
       "      <td>0</td>\n",
       "      <td>False</td>\n",
       "      <td>A3OMTDM4HR5XV9</td>\n",
       "      <td>B0050KMOM2</td>\n",
       "      <td>Unknown</td>\n",
       "      <td>steve combs</td>\n",
       "      <td>best  bushing  I've had in a long time</td>\n",
       "      <td>best bushing I've had in a long time</td>\n",
       "      <td>0</td>\n",
       "      <td>best bushing ive long time</td>\n",
       "      <td>best bushing ive long time</td>\n",
       "      <td>8</td>\n",
       "      <td>5</td>\n",
       "      <td>[disappointment, disapproval, pride, confusion...</td>\n",
       "    </tr>\n",
       "    <tr>\n",
       "      <th>3</th>\n",
       "      <td>1</td>\n",
       "      <td>0</td>\n",
       "      <td>False</td>\n",
       "      <td>A10M3NOJHRC4F4</td>\n",
       "      <td>B001GD43RG</td>\n",
       "      <td>Unknown</td>\n",
       "      <td>Amazon Customer</td>\n",
       "      <td>Biggest piece of s*** we ever bought, replaced...</td>\n",
       "      <td>Biggest piece of s*** we ever bought, replaced...</td>\n",
       "      <td>0</td>\n",
       "      <td>biggest piece ever bought replaced motor 4 tim...</td>\n",
       "      <td>biggest piece ever bought replaced motor</td>\n",
       "      <td>22</td>\n",
       "      <td>14</td>\n",
       "      <td>[pride, disapproval, disappointment, excitemen...</td>\n",
       "    </tr>\n",
       "    <tr>\n",
       "      <th>4</th>\n",
       "      <td>1</td>\n",
       "      <td>0</td>\n",
       "      <td>True</td>\n",
       "      <td>A3LF8E0TB9XWMZ</td>\n",
       "      <td>B00LJ5K82K</td>\n",
       "      <td>Unknown</td>\n",
       "      <td>Amazon Customer</td>\n",
       "      <td>dud shorted out element burned out the same da...</td>\n",
       "      <td>not very happy</td>\n",
       "      <td>0</td>\n",
       "      <td>dud shorted element burned daynot happy</td>\n",
       "      <td>happy</td>\n",
       "      <td>11</td>\n",
       "      <td>6</td>\n",
       "      <td>[surprise, anger, pride, neutral, embarrassment]</td>\n",
       "    </tr>\n",
       "    <tr>\n",
       "      <th>5</th>\n",
       "      <td>1</td>\n",
       "      <td>0</td>\n",
       "      <td>True</td>\n",
       "      <td>AZATKVNT0A7ZI</td>\n",
       "      <td>B0115XWE68</td>\n",
       "      <td>{'Package Quantity:': ' 1'}</td>\n",
       "      <td>Sharon Matheisen</td>\n",
       "      <td>Sorry...they are not as good a Samsung.  After...</td>\n",
       "      <td>they are not as good a Samsung</td>\n",
       "      <td>0</td>\n",
       "      <td>sorrythey good samsung three day could still t...</td>\n",
       "      <td>good samsung</td>\n",
       "      <td>25</td>\n",
       "      <td>14</td>\n",
       "      <td>[amusement, surprise, pride, anger, remorse]</td>\n",
       "    </tr>\n",
       "    <tr>\n",
       "      <th>6</th>\n",
       "      <td>1</td>\n",
       "      <td>0</td>\n",
       "      <td>True</td>\n",
       "      <td>A12UM07OV8DPB</td>\n",
       "      <td>B004DNWVPC</td>\n",
       "      <td>{'Color:': ' Biscuit'}</td>\n",
       "      <td>C. Price</td>\n",
       "      <td>These are horrible. The enamel chips off every...</td>\n",
       "      <td>These are horrible. The enamel chips off every...</td>\n",
       "      <td>0</td>\n",
       "      <td>horrible enamel chip everytime take burner cle...</td>\n",
       "      <td>horrible enamel chip everytime take</td>\n",
       "      <td>46</td>\n",
       "      <td>22</td>\n",
       "      <td>[grief, caring, pride, neutral, embarrassment]</td>\n",
       "    </tr>\n",
       "    <tr>\n",
       "      <th>7</th>\n",
       "      <td>1</td>\n",
       "      <td>0</td>\n",
       "      <td>True</td>\n",
       "      <td>ABNNNEA29614O</td>\n",
       "      <td>B00WTX85B2</td>\n",
       "      <td>Unknown</td>\n",
       "      <td>Sleeper Dude</td>\n",
       "      <td>Makes the water and ice taste terrible!! Not s...</td>\n",
       "      <td>Makes the water and ice taste terrible!! Not s...</td>\n",
       "      <td>0</td>\n",
       "      <td>make water ice taste terrible sure made change...</td>\n",
       "      <td>make water ice taste terrible sure made change</td>\n",
       "      <td>25</td>\n",
       "      <td>13</td>\n",
       "      <td>[pride, caring, neutral, joy, grief]</td>\n",
       "    </tr>\n",
       "    <tr>\n",
       "      <th>8</th>\n",
       "      <td>1</td>\n",
       "      <td>0</td>\n",
       "      <td>False</td>\n",
       "      <td>A1H4OFSNNFMHYW</td>\n",
       "      <td>B00YD37UJE</td>\n",
       "      <td>Unknown</td>\n",
       "      <td>Susan Tozzi</td>\n",
       "      <td>Terrible company terrible replacement. Did not...</td>\n",
       "      <td>Terrible company terrible replacement</td>\n",
       "      <td>0</td>\n",
       "      <td>terrible company terrible replacement fit refr...</td>\n",
       "      <td>terrible company terrible replacement</td>\n",
       "      <td>72</td>\n",
       "      <td>37</td>\n",
       "      <td>[grief, caring, pride, embarrassment, neutral]</td>\n",
       "    </tr>\n",
       "    <tr>\n",
       "      <th>9</th>\n",
       "      <td>1</td>\n",
       "      <td>0</td>\n",
       "      <td>True</td>\n",
       "      <td>A1P6NRAGYY1JE5</td>\n",
       "      <td>B001DEEU1C</td>\n",
       "      <td>Unknown</td>\n",
       "      <td>N. Crofoot</td>\n",
       "      <td>This is the first ever replacement filter for ...</td>\n",
       "      <td>DOESN'T WORK!</td>\n",
       "      <td>0</td>\n",
       "      <td>first ever replacement filter filtration unit ...</td>\n",
       "      <td>doesnt work</td>\n",
       "      <td>89</td>\n",
       "      <td>43</td>\n",
       "      <td>[embarrassment, pride, neutral, disapproval, a...</td>\n",
       "    </tr>\n",
       "  </tbody>\n",
       "</table>\n",
       "</div>"
      ],
      "text/plain": [
       "   overall  vote  verified      reviewerID        asin  \\\n",
       "0        1     0      True  A2KGOFRA94OWS9  B00GZOI1OC   \n",
       "1        1     0      True  A1LIJY0J529J27  B00LHQYW0A   \n",
       "2        1     0     False  A3OMTDM4HR5XV9  B0050KMOM2   \n",
       "3        1     0     False  A10M3NOJHRC4F4  B001GD43RG   \n",
       "4        1     0      True  A3LF8E0TB9XWMZ  B00LJ5K82K   \n",
       "5        1     0      True   AZATKVNT0A7ZI  B0115XWE68   \n",
       "6        1     0      True   A12UM07OV8DPB  B004DNWVPC   \n",
       "7        1     0      True   ABNNNEA29614O  B00WTX85B2   \n",
       "8        1     0     False  A1H4OFSNNFMHYW  B00YD37UJE   \n",
       "9        1     0      True  A1P6NRAGYY1JE5  B001DEEU1C   \n",
       "\n",
       "                         style      reviewerName  \\\n",
       "0                      Unknown        jlpoole520   \n",
       "1                      Unknown            John P   \n",
       "2                      Unknown       steve combs   \n",
       "3                      Unknown   Amazon Customer   \n",
       "4                      Unknown   Amazon Customer   \n",
       "5  {'Package Quantity:': ' 1'}  Sharon Matheisen   \n",
       "6       {'Color:': ' Biscuit'}          C. Price   \n",
       "7                      Unknown      Sleeper Dude   \n",
       "8                      Unknown       Susan Tozzi   \n",
       "9                      Unknown        N. Crofoot   \n",
       "\n",
       "                                          reviewText  \\\n",
       "0  The part (the biggest part, the wheel) didn't ...   \n",
       "1  Incomplete order.  Picture shows two heating e...   \n",
       "2             best  bushing  I've had in a long time   \n",
       "3  Biggest piece of s*** we ever bought, replaced...   \n",
       "4  dud shorted out element burned out the same da...   \n",
       "5  Sorry...they are not as good a Samsung.  After...   \n",
       "6  These are horrible. The enamel chips off every...   \n",
       "7  Makes the water and ice taste terrible!! Not s...   \n",
       "8  Terrible company terrible replacement. Did not...   \n",
       "9  This is the first ever replacement filter for ...   \n",
       "\n",
       "                                             summary  has_image  \\\n",
       "0  The part (the biggest part, the wheel) didn't ...          0   \n",
       "1      Incomplete order, missing one heating element          0   \n",
       "2               best bushing I've had in a long time          0   \n",
       "3  Biggest piece of s*** we ever bought, replaced...          0   \n",
       "4                                     not very happy          0   \n",
       "5                     they are not as good a Samsung          0   \n",
       "6  These are horrible. The enamel chips off every...          0   \n",
       "7  Makes the water and ice taste terrible!! Not s...          0   \n",
       "8              Terrible company terrible replacement          0   \n",
       "9                                      DOESN'T WORK!          0   \n",
       "\n",
       "                                    clean_reviewText  \\\n",
       "0  part biggest part wheel didnt fit buy new mach...   \n",
       "1  incomplete order picture show two heating elem...   \n",
       "2                         best bushing ive long time   \n",
       "3  biggest piece ever bought replaced motor 4 tim...   \n",
       "4            dud shorted element burned daynot happy   \n",
       "5  sorrythey good samsung three day could still t...   \n",
       "6  horrible enamel chip everytime take burner cle...   \n",
       "7  make water ice taste terrible sure made change...   \n",
       "8  terrible company terrible replacement fit refr...   \n",
       "9  first ever replacement filter filtration unit ...   \n",
       "\n",
       "                                    clean_summary  reviewText_length  \\\n",
       "0               part biggest part wheel didnt fit                 49   \n",
       "1    incomplete order missing one heating element                 11   \n",
       "2                      best bushing ive long time                  8   \n",
       "3        biggest piece ever bought replaced motor                 22   \n",
       "4                                           happy                 11   \n",
       "5                                    good samsung                 25   \n",
       "6             horrible enamel chip everytime take                 46   \n",
       "7  make water ice taste terrible sure made change                 25   \n",
       "8           terrible company terrible replacement                 72   \n",
       "9                                     doesnt work                 89   \n",
       "\n",
       "   clean_reviewText_length                                    review_emotions  \n",
       "0                       22     [realization, fear, confusion, pride, neutral]  \n",
       "1                        9  [pride, embarrassment, anger, neutral, nervous...  \n",
       "2                        5  [disappointment, disapproval, pride, confusion...  \n",
       "3                       14  [pride, disapproval, disappointment, excitemen...  \n",
       "4                        6   [surprise, anger, pride, neutral, embarrassment]  \n",
       "5                       14       [amusement, surprise, pride, anger, remorse]  \n",
       "6                       22     [grief, caring, pride, neutral, embarrassment]  \n",
       "7                       13               [pride, caring, neutral, joy, grief]  \n",
       "8                       37     [grief, caring, pride, embarrassment, neutral]  \n",
       "9                       43  [embarrassment, pride, neutral, disapproval, a...  "
      ]
     },
     "execution_count": 41,
     "metadata": {},
     "output_type": "execute_result"
    }
   ],
   "source": [
    "new_sample_emotions.head(10)"
   ]
  },
  {
   "cell_type": "markdown",
   "id": "c025755c-98cb-47fb-a093-c6317de6d9bd",
   "metadata": {},
   "source": [
    "So finally we got the correct results for the reviews"
   ]
  },
  {
   "cell_type": "markdown",
   "id": "3ef7ec71-75cb-41d2-9a7a-87645c98d851",
   "metadata": {},
   "source": [
    "Now lets also put the emotion scores to a new column for the predicted emotions in the reviews"
   ]
  },
  {
   "cell_type": "code",
   "execution_count": 19,
   "id": "cb6223ee-12c2-43ce-a222-c581e12350ea",
   "metadata": {},
   "outputs": [
    {
     "data": {
      "application/vnd.jupyter.widget-view+json": {
       "model_id": "eccf76d57d73435f90baae0b2bc69a3a",
       "version_major": 2,
       "version_minor": 0
      },
      "text/plain": [
       "Processing batches:   0%|          | 0/100 [00:00<?, ?it/s]"
      ]
     },
     "metadata": {},
     "output_type": "display_data"
    },
    {
     "name": "stderr",
     "output_type": "stream",
     "text": [
      "C:\\Users\\adnan\\AppData\\Local\\Temp\\ipykernel_2568\\3313035951.py:53: SettingWithCopyWarning: \n",
      "A value is trying to be set on a copy of a slice from a DataFrame.\n",
      "Try using .loc[row_indexer,col_indexer] = value instead\n",
      "\n",
      "See the caveats in the documentation: https://pandas.pydata.org/pandas-docs/stable/user_guide/indexing.html#returning-a-view-versus-a-copy\n",
      "  larger_subset['review_emotions'], larger_subset['review_emotion_scores'] = get_top_emotions_and_scores(\n",
      "C:\\Users\\adnan\\AppData\\Local\\Temp\\ipykernel_2568\\3313035951.py:53: SettingWithCopyWarning: \n",
      "A value is trying to be set on a copy of a slice from a DataFrame.\n",
      "Try using .loc[row_indexer,col_indexer] = value instead\n",
      "\n",
      "See the caveats in the documentation: https://pandas.pydata.org/pandas-docs/stable/user_guide/indexing.html#returning-a-view-versus-a-copy\n",
      "  larger_subset['review_emotions'], larger_subset['review_emotion_scores'] = get_top_emotions_and_scores(\n"
     ]
    }
   ],
   "source": [
    "import pandas as pd\n",
    "from transformers import AutoTokenizer, AutoModelForSequenceClassification\n",
    "from tqdm.auto import tqdm\n",
    "import numpy as np\n",
    "import torch\n",
    "\n",
    "# Set computing device\n",
    "device = torch.device(\"cuda\" if torch.cuda.is_available() else \"cpu\")\n",
    "\n",
    "#Modified function to get the top reviews and their scores\n",
    "def get_top_emotions_and_scores(texts, tokenizer, model, emotion_labels, batch_size=64):\n",
    "    model.to(device)  # Ensure the model is on the right device\n",
    "    all_predictions = []\n",
    "    \n",
    "    # Process the texts in batches\n",
    "    for i in tqdm(range(0, len(texts), batch_size), desc=\"Processing batches\"):\n",
    "        batch_texts = texts[i:i + batch_size]\n",
    "        tokens = tokenizer(batch_texts, padding=True, truncation=True, max_length=512, return_tensors=\"pt\")\n",
    "        tokens = {k: v.to(device) for k, v in tokens.items()}  # Move tokenized data to the device\n",
    "        with torch.no_grad():\n",
    "            outputs = model(**tokens)\n",
    "            predictions = torch.nn.functional.softmax(outputs.logits, dim=-1)\n",
    "            all_predictions.extend(predictions.detach().cpu().numpy())  # Move predictions back to CPU\n",
    "    \n",
    "    top5_emotions = []\n",
    "    top5_scores = []\n",
    "    for prediction in all_predictions:\n",
    "        top5_idx = np.argsort(prediction)[-5:][::-1]\n",
    "        top5_emotions.append([emotion_labels[idx] for idx in top5_idx])\n",
    "        #Rounding each score to three decimal places\n",
    "        top5_scores.append([f\"{prediction[idx]:.3f}\" for idx in top5_idx])\n",
    "        \n",
    "    return top5_emotions, top5_scores\n",
    "\n",
    "# Initialize model and tokenizer\n",
    "tokenizer = AutoTokenizer.from_pretrained(\"SamLowe/roberta-base-go_emotions\")\n",
    "model = AutoModelForSequenceClassification.from_pretrained(\"SamLowe/roberta-base-go_emotions\")\n",
    "model.eval()\n",
    "\n",
    "# Load dataset and prepare larger subset\n",
    "tokenized_data = pd.read_json('C:\\\\Users\\\\adnan\\\\Desktop\\\\Main_Dataset_Review1.json', lines=True)  # replace with your actual path\n",
    "larger_subset = tokenized_data.iloc[:1000] \n",
    "\n",
    "emotion_labels = ['disappointment', 'sadness', 'annoyance', 'neutral', 'disapproval',\n",
    "    'realization', 'nervousness', 'approval', 'joy', 'anger',\n",
    "    'embarrassment', 'caring', 'remorse', 'disgust', 'grief',\n",
    "    'confusion', 'relief', 'desire', 'admiration', 'optimism',\n",
    "    'fear', 'love', 'excitement', 'curiosity', 'amusement',\n",
    "    'surprise', 'gratitude', 'pride'\n",
    "]\n",
    "\n",
    "# Get emotions and scores for the larger subset\n",
    "larger_subset['review_emotions'], larger_subset['review_emotion_scores'] = get_top_emotions_and_scores(\n",
    "    larger_subset['clean_reviewText'].tolist(), tokenizer, model, emotion_labels, batch_size=10\n",
    ")\n",
    "\n",
    "#Save the final results to a json file\n",
    "output_path = 'emotion_scores_1k_final.json'\n",
    "larger_subset.to_json(output_path, orient='records', lines=True)"
   ]
  },
  {
   "cell_type": "code",
   "execution_count": 20,
   "id": "29ac48b9-0636-41ef-9ec9-f6b52d44cb9b",
   "metadata": {},
   "outputs": [],
   "source": [
    "new_emot_score_x = pd.read_json('emotion_scores_1k_final.json', lines=True)"
   ]
  },
  {
   "cell_type": "code",
   "execution_count": 21,
   "id": "01d6c1f2-0032-445b-96d4-390c95fd4279",
   "metadata": {},
   "outputs": [
    {
     "data": {
      "text/html": [
       "<div>\n",
       "<style scoped>\n",
       "    .dataframe tbody tr th:only-of-type {\n",
       "        vertical-align: middle;\n",
       "    }\n",
       "\n",
       "    .dataframe tbody tr th {\n",
       "        vertical-align: top;\n",
       "    }\n",
       "\n",
       "    .dataframe thead th {\n",
       "        text-align: right;\n",
       "    }\n",
       "</style>\n",
       "<table border=\"1\" class=\"dataframe\">\n",
       "  <thead>\n",
       "    <tr style=\"text-align: right;\">\n",
       "      <th></th>\n",
       "      <th>overall</th>\n",
       "      <th>vote</th>\n",
       "      <th>verified</th>\n",
       "      <th>reviewerID</th>\n",
       "      <th>asin</th>\n",
       "      <th>style</th>\n",
       "      <th>reviewerName</th>\n",
       "      <th>reviewText</th>\n",
       "      <th>summary</th>\n",
       "      <th>has_image</th>\n",
       "      <th>clean_reviewText</th>\n",
       "      <th>clean_summary</th>\n",
       "      <th>reviewText_length</th>\n",
       "      <th>clean_reviewText_length</th>\n",
       "      <th>review_emotions</th>\n",
       "      <th>review_emotion_scores</th>\n",
       "    </tr>\n",
       "  </thead>\n",
       "  <tbody>\n",
       "    <tr>\n",
       "      <th>0</th>\n",
       "      <td>1</td>\n",
       "      <td>0</td>\n",
       "      <td>True</td>\n",
       "      <td>A2KGOFRA94OWS9</td>\n",
       "      <td>B00GZOI1OC</td>\n",
       "      <td>Unknown</td>\n",
       "      <td>jlpoole520</td>\n",
       "      <td>The part (the biggest part, the wheel) didn't ...</td>\n",
       "      <td>The part (the biggest part, the wheel) didn't ...</td>\n",
       "      <td>0</td>\n",
       "      <td>part biggest part wheel didnt fit buy new mach...</td>\n",
       "      <td>part biggest part wheel didnt fit</td>\n",
       "      <td>49</td>\n",
       "      <td>22</td>\n",
       "      <td>[realization, fear, confusion, pride, neutral]</td>\n",
       "      <td>[0.336, 0.225, 0.221, 0.044, 0.043]</td>\n",
       "    </tr>\n",
       "    <tr>\n",
       "      <th>1</th>\n",
       "      <td>1</td>\n",
       "      <td>0</td>\n",
       "      <td>True</td>\n",
       "      <td>A1LIJY0J529J27</td>\n",
       "      <td>B00LHQYW0A</td>\n",
       "      <td>Unknown</td>\n",
       "      <td>John P</td>\n",
       "      <td>Incomplete order.  Picture shows two heating e...</td>\n",
       "      <td>Incomplete order, missing one heating element</td>\n",
       "      <td>0</td>\n",
       "      <td>incomplete order picture show two heating elem...</td>\n",
       "      <td>incomplete order missing one heating element</td>\n",
       "      <td>11</td>\n",
       "      <td>9</td>\n",
       "      <td>[pride, embarrassment, anger, neutral, nervous...</td>\n",
       "      <td>[0.817, 0.067, 0.049, 0.029, 0.010]</td>\n",
       "    </tr>\n",
       "    <tr>\n",
       "      <th>2</th>\n",
       "      <td>1</td>\n",
       "      <td>0</td>\n",
       "      <td>False</td>\n",
       "      <td>A3OMTDM4HR5XV9</td>\n",
       "      <td>B0050KMOM2</td>\n",
       "      <td>Unknown</td>\n",
       "      <td>steve combs</td>\n",
       "      <td>best  bushing  I've had in a long time</td>\n",
       "      <td>best bushing I've had in a long time</td>\n",
       "      <td>0</td>\n",
       "      <td>best bushing ive long time</td>\n",
       "      <td>best bushing ive long time</td>\n",
       "      <td>8</td>\n",
       "      <td>5</td>\n",
       "      <td>[disappointment, disapproval, pride, confusion...</td>\n",
       "      <td>[0.990, 0.004, 0.001, 0.001, 0.000]</td>\n",
       "    </tr>\n",
       "    <tr>\n",
       "      <th>3</th>\n",
       "      <td>1</td>\n",
       "      <td>0</td>\n",
       "      <td>False</td>\n",
       "      <td>A10M3NOJHRC4F4</td>\n",
       "      <td>B001GD43RG</td>\n",
       "      <td>Unknown</td>\n",
       "      <td>Amazon Customer</td>\n",
       "      <td>Biggest piece of s*** we ever bought, replaced...</td>\n",
       "      <td>Biggest piece of s*** we ever bought, replaced...</td>\n",
       "      <td>0</td>\n",
       "      <td>biggest piece ever bought replaced motor 4 tim...</td>\n",
       "      <td>biggest piece ever bought replaced motor</td>\n",
       "      <td>22</td>\n",
       "      <td>14</td>\n",
       "      <td>[pride, disapproval, disappointment, excitemen...</td>\n",
       "      <td>[0.994, 0.001, 0.001, 0.001, 0.000]</td>\n",
       "    </tr>\n",
       "    <tr>\n",
       "      <th>4</th>\n",
       "      <td>1</td>\n",
       "      <td>0</td>\n",
       "      <td>True</td>\n",
       "      <td>A3LF8E0TB9XWMZ</td>\n",
       "      <td>B00LJ5K82K</td>\n",
       "      <td>Unknown</td>\n",
       "      <td>Amazon Customer</td>\n",
       "      <td>dud shorted out element burned out the same da...</td>\n",
       "      <td>not very happy</td>\n",
       "      <td>0</td>\n",
       "      <td>dud shorted element burned daynot happy</td>\n",
       "      <td>happy</td>\n",
       "      <td>11</td>\n",
       "      <td>6</td>\n",
       "      <td>[surprise, anger, pride, neutral, embarrassment]</td>\n",
       "      <td>[0.520, 0.283, 0.077, 0.038, 0.026]</td>\n",
       "    </tr>\n",
       "    <tr>\n",
       "      <th>5</th>\n",
       "      <td>1</td>\n",
       "      <td>0</td>\n",
       "      <td>True</td>\n",
       "      <td>AZATKVNT0A7ZI</td>\n",
       "      <td>B0115XWE68</td>\n",
       "      <td>{'Package Quantity:': ' 1'}</td>\n",
       "      <td>Sharon Matheisen</td>\n",
       "      <td>Sorry...they are not as good a Samsung.  After...</td>\n",
       "      <td>they are not as good a Samsung</td>\n",
       "      <td>0</td>\n",
       "      <td>sorrythey good samsung three day could still t...</td>\n",
       "      <td>good samsung</td>\n",
       "      <td>25</td>\n",
       "      <td>14</td>\n",
       "      <td>[amusement, surprise, pride, anger, remorse]</td>\n",
       "      <td>[0.758, 0.159, 0.021, 0.017, 0.006]</td>\n",
       "    </tr>\n",
       "    <tr>\n",
       "      <th>6</th>\n",
       "      <td>1</td>\n",
       "      <td>0</td>\n",
       "      <td>True</td>\n",
       "      <td>A12UM07OV8DPB</td>\n",
       "      <td>B004DNWVPC</td>\n",
       "      <td>{'Color:': ' Biscuit'}</td>\n",
       "      <td>C. Price</td>\n",
       "      <td>These are horrible. The enamel chips off every...</td>\n",
       "      <td>These are horrible. The enamel chips off every...</td>\n",
       "      <td>0</td>\n",
       "      <td>horrible enamel chip everytime take burner cle...</td>\n",
       "      <td>horrible enamel chip everytime take</td>\n",
       "      <td>46</td>\n",
       "      <td>22</td>\n",
       "      <td>[grief, caring, pride, neutral, embarrassment]</td>\n",
       "      <td>[0.375, 0.341, 0.115, 0.044, 0.030]</td>\n",
       "    </tr>\n",
       "    <tr>\n",
       "      <th>7</th>\n",
       "      <td>1</td>\n",
       "      <td>0</td>\n",
       "      <td>True</td>\n",
       "      <td>ABNNNEA29614O</td>\n",
       "      <td>B00WTX85B2</td>\n",
       "      <td>Unknown</td>\n",
       "      <td>Sleeper Dude</td>\n",
       "      <td>Makes the water and ice taste terrible!! Not s...</td>\n",
       "      <td>Makes the water and ice taste terrible!! Not s...</td>\n",
       "      <td>0</td>\n",
       "      <td>make water ice taste terrible sure made change...</td>\n",
       "      <td>make water ice taste terrible sure made change</td>\n",
       "      <td>25</td>\n",
       "      <td>13</td>\n",
       "      <td>[pride, caring, neutral, joy, grief]</td>\n",
       "      <td>[0.616, 0.086, 0.079, 0.062, 0.050]</td>\n",
       "    </tr>\n",
       "    <tr>\n",
       "      <th>8</th>\n",
       "      <td>1</td>\n",
       "      <td>0</td>\n",
       "      <td>False</td>\n",
       "      <td>A1H4OFSNNFMHYW</td>\n",
       "      <td>B00YD37UJE</td>\n",
       "      <td>Unknown</td>\n",
       "      <td>Susan Tozzi</td>\n",
       "      <td>Terrible company terrible replacement. Did not...</td>\n",
       "      <td>Terrible company terrible replacement</td>\n",
       "      <td>0</td>\n",
       "      <td>terrible company terrible replacement fit refr...</td>\n",
       "      <td>terrible company terrible replacement</td>\n",
       "      <td>72</td>\n",
       "      <td>37</td>\n",
       "      <td>[grief, caring, pride, embarrassment, neutral]</td>\n",
       "      <td>[0.692, 0.145, 0.055, 0.022, 0.020]</td>\n",
       "    </tr>\n",
       "    <tr>\n",
       "      <th>9</th>\n",
       "      <td>1</td>\n",
       "      <td>0</td>\n",
       "      <td>True</td>\n",
       "      <td>A1P6NRAGYY1JE5</td>\n",
       "      <td>B001DEEU1C</td>\n",
       "      <td>Unknown</td>\n",
       "      <td>N. Crofoot</td>\n",
       "      <td>This is the first ever replacement filter for ...</td>\n",
       "      <td>DOESN'T WORK!</td>\n",
       "      <td>0</td>\n",
       "      <td>first ever replacement filter filtration unit ...</td>\n",
       "      <td>doesnt work</td>\n",
       "      <td>89</td>\n",
       "      <td>43</td>\n",
       "      <td>[embarrassment, pride, neutral, disapproval, a...</td>\n",
       "      <td>[0.598, 0.358, 0.018, 0.006, 0.004]</td>\n",
       "    </tr>\n",
       "  </tbody>\n",
       "</table>\n",
       "</div>"
      ],
      "text/plain": [
       "   overall  vote  verified      reviewerID        asin  \\\n",
       "0        1     0      True  A2KGOFRA94OWS9  B00GZOI1OC   \n",
       "1        1     0      True  A1LIJY0J529J27  B00LHQYW0A   \n",
       "2        1     0     False  A3OMTDM4HR5XV9  B0050KMOM2   \n",
       "3        1     0     False  A10M3NOJHRC4F4  B001GD43RG   \n",
       "4        1     0      True  A3LF8E0TB9XWMZ  B00LJ5K82K   \n",
       "5        1     0      True   AZATKVNT0A7ZI  B0115XWE68   \n",
       "6        1     0      True   A12UM07OV8DPB  B004DNWVPC   \n",
       "7        1     0      True   ABNNNEA29614O  B00WTX85B2   \n",
       "8        1     0     False  A1H4OFSNNFMHYW  B00YD37UJE   \n",
       "9        1     0      True  A1P6NRAGYY1JE5  B001DEEU1C   \n",
       "\n",
       "                         style      reviewerName  \\\n",
       "0                      Unknown        jlpoole520   \n",
       "1                      Unknown            John P   \n",
       "2                      Unknown       steve combs   \n",
       "3                      Unknown   Amazon Customer   \n",
       "4                      Unknown   Amazon Customer   \n",
       "5  {'Package Quantity:': ' 1'}  Sharon Matheisen   \n",
       "6       {'Color:': ' Biscuit'}          C. Price   \n",
       "7                      Unknown      Sleeper Dude   \n",
       "8                      Unknown       Susan Tozzi   \n",
       "9                      Unknown        N. Crofoot   \n",
       "\n",
       "                                          reviewText  \\\n",
       "0  The part (the biggest part, the wheel) didn't ...   \n",
       "1  Incomplete order.  Picture shows two heating e...   \n",
       "2             best  bushing  I've had in a long time   \n",
       "3  Biggest piece of s*** we ever bought, replaced...   \n",
       "4  dud shorted out element burned out the same da...   \n",
       "5  Sorry...they are not as good a Samsung.  After...   \n",
       "6  These are horrible. The enamel chips off every...   \n",
       "7  Makes the water and ice taste terrible!! Not s...   \n",
       "8  Terrible company terrible replacement. Did not...   \n",
       "9  This is the first ever replacement filter for ...   \n",
       "\n",
       "                                             summary  has_image  \\\n",
       "0  The part (the biggest part, the wheel) didn't ...          0   \n",
       "1      Incomplete order, missing one heating element          0   \n",
       "2               best bushing I've had in a long time          0   \n",
       "3  Biggest piece of s*** we ever bought, replaced...          0   \n",
       "4                                     not very happy          0   \n",
       "5                     they are not as good a Samsung          0   \n",
       "6  These are horrible. The enamel chips off every...          0   \n",
       "7  Makes the water and ice taste terrible!! Not s...          0   \n",
       "8              Terrible company terrible replacement          0   \n",
       "9                                      DOESN'T WORK!          0   \n",
       "\n",
       "                                    clean_reviewText  \\\n",
       "0  part biggest part wheel didnt fit buy new mach...   \n",
       "1  incomplete order picture show two heating elem...   \n",
       "2                         best bushing ive long time   \n",
       "3  biggest piece ever bought replaced motor 4 tim...   \n",
       "4            dud shorted element burned daynot happy   \n",
       "5  sorrythey good samsung three day could still t...   \n",
       "6  horrible enamel chip everytime take burner cle...   \n",
       "7  make water ice taste terrible sure made change...   \n",
       "8  terrible company terrible replacement fit refr...   \n",
       "9  first ever replacement filter filtration unit ...   \n",
       "\n",
       "                                    clean_summary  reviewText_length  \\\n",
       "0               part biggest part wheel didnt fit                 49   \n",
       "1    incomplete order missing one heating element                 11   \n",
       "2                      best bushing ive long time                  8   \n",
       "3        biggest piece ever bought replaced motor                 22   \n",
       "4                                           happy                 11   \n",
       "5                                    good samsung                 25   \n",
       "6             horrible enamel chip everytime take                 46   \n",
       "7  make water ice taste terrible sure made change                 25   \n",
       "8           terrible company terrible replacement                 72   \n",
       "9                                     doesnt work                 89   \n",
       "\n",
       "   clean_reviewText_length                                    review_emotions  \\\n",
       "0                       22     [realization, fear, confusion, pride, neutral]   \n",
       "1                        9  [pride, embarrassment, anger, neutral, nervous...   \n",
       "2                        5  [disappointment, disapproval, pride, confusion...   \n",
       "3                       14  [pride, disapproval, disappointment, excitemen...   \n",
       "4                        6   [surprise, anger, pride, neutral, embarrassment]   \n",
       "5                       14       [amusement, surprise, pride, anger, remorse]   \n",
       "6                       22     [grief, caring, pride, neutral, embarrassment]   \n",
       "7                       13               [pride, caring, neutral, joy, grief]   \n",
       "8                       37     [grief, caring, pride, embarrassment, neutral]   \n",
       "9                       43  [embarrassment, pride, neutral, disapproval, a...   \n",
       "\n",
       "                 review_emotion_scores  \n",
       "0  [0.336, 0.225, 0.221, 0.044, 0.043]  \n",
       "1  [0.817, 0.067, 0.049, 0.029, 0.010]  \n",
       "2  [0.990, 0.004, 0.001, 0.001, 0.000]  \n",
       "3  [0.994, 0.001, 0.001, 0.001, 0.000]  \n",
       "4  [0.520, 0.283, 0.077, 0.038, 0.026]  \n",
       "5  [0.758, 0.159, 0.021, 0.017, 0.006]  \n",
       "6  [0.375, 0.341, 0.115, 0.044, 0.030]  \n",
       "7  [0.616, 0.086, 0.079, 0.062, 0.050]  \n",
       "8  [0.692, 0.145, 0.055, 0.022, 0.020]  \n",
       "9  [0.598, 0.358, 0.018, 0.006, 0.004]  "
      ]
     },
     "execution_count": 21,
     "metadata": {},
     "output_type": "execute_result"
    }
   ],
   "source": [
    "new_emot_score_x.head(10)"
   ]
  },
  {
   "cell_type": "markdown",
   "id": "a12306dd-4f8f-4ffc-917c-e9883a35eb2d",
   "metadata": {},
   "source": [
    "Ok so now that being successful the next step is to make sure that the entire dataset could be labelled for the emotion and its scores"
   ]
  },
  {
   "cell_type": "code",
   "execution_count": 22,
   "id": "f1fb3baa-ef09-4582-be4a-ea672f4cea9b",
   "metadata": {},
   "outputs": [
    {
     "name": "stdout",
     "output_type": "stream",
     "text": [
      "Processing chunk 1\n"
     ]
    },
    {
     "data": {
      "application/vnd.jupyter.widget-view+json": {
       "model_id": "f2d16dd3f20b486b9843895b9af1a736",
       "version_major": 2,
       "version_minor": 0
      },
      "text/plain": [
       "Processing batches:   0%|          | 0/500 [00:00<?, ?it/s]"
      ]
     },
     "metadata": {},
     "output_type": "display_data"
    },
    {
     "name": "stdout",
     "output_type": "stream",
     "text": [
      "Finished processing chunk 1\n",
      "Processing chunk 2\n"
     ]
    },
    {
     "data": {
      "application/vnd.jupyter.widget-view+json": {
       "model_id": "092917e580c04f7c866398a1cbe6c372",
       "version_major": 2,
       "version_minor": 0
      },
      "text/plain": [
       "Processing batches:   0%|          | 0/500 [00:00<?, ?it/s]"
      ]
     },
     "metadata": {},
     "output_type": "display_data"
    },
    {
     "name": "stdout",
     "output_type": "stream",
     "text": [
      "Finished processing chunk 2\n",
      "Processing chunk 3\n"
     ]
    },
    {
     "data": {
      "application/vnd.jupyter.widget-view+json": {
       "model_id": "817643b42b7f4928a1cffd46a14ee6f2",
       "version_major": 2,
       "version_minor": 0
      },
      "text/plain": [
       "Processing batches:   0%|          | 0/500 [00:00<?, ?it/s]"
      ]
     },
     "metadata": {},
     "output_type": "display_data"
    },
    {
     "name": "stdout",
     "output_type": "stream",
     "text": [
      "Finished processing chunk 3\n",
      "Processing chunk 4\n"
     ]
    },
    {
     "data": {
      "application/vnd.jupyter.widget-view+json": {
       "model_id": "a53bf52875e340c596007e620a210345",
       "version_major": 2,
       "version_minor": 0
      },
      "text/plain": [
       "Processing batches:   0%|          | 0/500 [00:00<?, ?it/s]"
      ]
     },
     "metadata": {},
     "output_type": "display_data"
    },
    {
     "name": "stdout",
     "output_type": "stream",
     "text": [
      "Finished processing chunk 4\n",
      "Processing chunk 5\n"
     ]
    },
    {
     "data": {
      "application/vnd.jupyter.widget-view+json": {
       "model_id": "c01a2a0572ca4e488dc55114bfbd3ea7",
       "version_major": 2,
       "version_minor": 0
      },
      "text/plain": [
       "Processing batches:   0%|          | 0/500 [00:00<?, ?it/s]"
      ]
     },
     "metadata": {},
     "output_type": "display_data"
    },
    {
     "name": "stdout",
     "output_type": "stream",
     "text": [
      "Finished processing chunk 5\n",
      "Processing chunk 6\n"
     ]
    },
    {
     "data": {
      "application/vnd.jupyter.widget-view+json": {
       "model_id": "64ee457c176c4159a93a98b2a752112c",
       "version_major": 2,
       "version_minor": 0
      },
      "text/plain": [
       "Processing batches:   0%|          | 0/500 [00:00<?, ?it/s]"
      ]
     },
     "metadata": {},
     "output_type": "display_data"
    },
    {
     "name": "stdout",
     "output_type": "stream",
     "text": [
      "Finished processing chunk 6\n",
      "Processing chunk 7\n"
     ]
    },
    {
     "data": {
      "application/vnd.jupyter.widget-view+json": {
       "model_id": "e1943a347a0c484dbaaeae02ae4f161c",
       "version_major": 2,
       "version_minor": 0
      },
      "text/plain": [
       "Processing batches:   0%|          | 0/500 [00:00<?, ?it/s]"
      ]
     },
     "metadata": {},
     "output_type": "display_data"
    },
    {
     "name": "stdout",
     "output_type": "stream",
     "text": [
      "Finished processing chunk 7\n",
      "Processing chunk 8\n"
     ]
    },
    {
     "data": {
      "application/vnd.jupyter.widget-view+json": {
       "model_id": "417e1bbe7c4749aea90761faf2059187",
       "version_major": 2,
       "version_minor": 0
      },
      "text/plain": [
       "Processing batches:   0%|          | 0/500 [00:00<?, ?it/s]"
      ]
     },
     "metadata": {},
     "output_type": "display_data"
    },
    {
     "name": "stdout",
     "output_type": "stream",
     "text": [
      "Finished processing chunk 8\n",
      "Processing chunk 9\n"
     ]
    },
    {
     "data": {
      "application/vnd.jupyter.widget-view+json": {
       "model_id": "820a9de69967461f9003eda20446a305",
       "version_major": 2,
       "version_minor": 0
      },
      "text/plain": [
       "Processing batches:   0%|          | 0/500 [00:00<?, ?it/s]"
      ]
     },
     "metadata": {},
     "output_type": "display_data"
    },
    {
     "name": "stdout",
     "output_type": "stream",
     "text": [
      "Finished processing chunk 9\n",
      "Processing chunk 10\n"
     ]
    },
    {
     "data": {
      "application/vnd.jupyter.widget-view+json": {
       "model_id": "f7beb2ceece44ba3bd5521aea53faf48",
       "version_major": 2,
       "version_minor": 0
      },
      "text/plain": [
       "Processing batches:   0%|          | 0/500 [00:00<?, ?it/s]"
      ]
     },
     "metadata": {},
     "output_type": "display_data"
    },
    {
     "name": "stdout",
     "output_type": "stream",
     "text": [
      "Finished processing chunk 10\n",
      "Processing chunk 11\n"
     ]
    },
    {
     "data": {
      "application/vnd.jupyter.widget-view+json": {
       "model_id": "a1c11fb0ff834af6afde0f2cd90e881c",
       "version_major": 2,
       "version_minor": 0
      },
      "text/plain": [
       "Processing batches:   0%|          | 0/500 [00:00<?, ?it/s]"
      ]
     },
     "metadata": {},
     "output_type": "display_data"
    },
    {
     "name": "stdout",
     "output_type": "stream",
     "text": [
      "Finished processing chunk 11\n",
      "Processing chunk 12\n"
     ]
    },
    {
     "data": {
      "application/vnd.jupyter.widget-view+json": {
       "model_id": "e971c1897690498da460f2f9615617d9",
       "version_major": 2,
       "version_minor": 0
      },
      "text/plain": [
       "Processing batches:   0%|          | 0/500 [00:00<?, ?it/s]"
      ]
     },
     "metadata": {},
     "output_type": "display_data"
    },
    {
     "name": "stdout",
     "output_type": "stream",
     "text": [
      "Finished processing chunk 12\n",
      "Processing chunk 13\n"
     ]
    },
    {
     "data": {
      "application/vnd.jupyter.widget-view+json": {
       "model_id": "ea65030b83a14c84b913c8c49fa0cd17",
       "version_major": 2,
       "version_minor": 0
      },
      "text/plain": [
       "Processing batches:   0%|          | 0/500 [00:00<?, ?it/s]"
      ]
     },
     "metadata": {},
     "output_type": "display_data"
    },
    {
     "name": "stdout",
     "output_type": "stream",
     "text": [
      "Finished processing chunk 13\n",
      "Processing chunk 14\n"
     ]
    },
    {
     "data": {
      "application/vnd.jupyter.widget-view+json": {
       "model_id": "32c52bd285bc4fac99f0a14c8eeb53ef",
       "version_major": 2,
       "version_minor": 0
      },
      "text/plain": [
       "Processing batches:   0%|          | 0/500 [00:00<?, ?it/s]"
      ]
     },
     "metadata": {},
     "output_type": "display_data"
    },
    {
     "name": "stdout",
     "output_type": "stream",
     "text": [
      "Finished processing chunk 14\n",
      "Processing chunk 15\n"
     ]
    },
    {
     "data": {
      "application/vnd.jupyter.widget-view+json": {
       "model_id": "58ace966d3d8439b8b198659585e74a9",
       "version_major": 2,
       "version_minor": 0
      },
      "text/plain": [
       "Processing batches:   0%|          | 0/500 [00:00<?, ?it/s]"
      ]
     },
     "metadata": {},
     "output_type": "display_data"
    },
    {
     "name": "stdout",
     "output_type": "stream",
     "text": [
      "Finished processing chunk 15\n",
      "Processing chunk 16\n"
     ]
    },
    {
     "data": {
      "application/vnd.jupyter.widget-view+json": {
       "model_id": "83a6e03f719e485daba07ba9a21ab5f3",
       "version_major": 2,
       "version_minor": 0
      },
      "text/plain": [
       "Processing batches:   0%|          | 0/500 [00:00<?, ?it/s]"
      ]
     },
     "metadata": {},
     "output_type": "display_data"
    },
    {
     "name": "stdout",
     "output_type": "stream",
     "text": [
      "Finished processing chunk 16\n",
      "Processing chunk 17\n"
     ]
    },
    {
     "data": {
      "application/vnd.jupyter.widget-view+json": {
       "model_id": "e61ede8507774550ad72786c31182b1d",
       "version_major": 2,
       "version_minor": 0
      },
      "text/plain": [
       "Processing batches:   0%|          | 0/500 [00:00<?, ?it/s]"
      ]
     },
     "metadata": {},
     "output_type": "display_data"
    },
    {
     "name": "stdout",
     "output_type": "stream",
     "text": [
      "Finished processing chunk 17\n",
      "Processing chunk 18\n"
     ]
    },
    {
     "data": {
      "application/vnd.jupyter.widget-view+json": {
       "model_id": "fe65e424a4da4cf8a02ee2fb46987f38",
       "version_major": 2,
       "version_minor": 0
      },
      "text/plain": [
       "Processing batches:   0%|          | 0/500 [00:00<?, ?it/s]"
      ]
     },
     "metadata": {},
     "output_type": "display_data"
    },
    {
     "name": "stdout",
     "output_type": "stream",
     "text": [
      "Finished processing chunk 18\n",
      "Processing chunk 19\n"
     ]
    },
    {
     "data": {
      "application/vnd.jupyter.widget-view+json": {
       "model_id": "b175ff6392564032ae49fcce691bad6b",
       "version_major": 2,
       "version_minor": 0
      },
      "text/plain": [
       "Processing batches:   0%|          | 0/500 [00:00<?, ?it/s]"
      ]
     },
     "metadata": {},
     "output_type": "display_data"
    },
    {
     "name": "stdout",
     "output_type": "stream",
     "text": [
      "Finished processing chunk 19\n",
      "Processing chunk 20\n"
     ]
    },
    {
     "data": {
      "application/vnd.jupyter.widget-view+json": {
       "model_id": "7e48923b41aa42fa8f8636a38438dba0",
       "version_major": 2,
       "version_minor": 0
      },
      "text/plain": [
       "Processing batches:   0%|          | 0/500 [00:00<?, ?it/s]"
      ]
     },
     "metadata": {},
     "output_type": "display_data"
    },
    {
     "name": "stdout",
     "output_type": "stream",
     "text": [
      "Finished processing chunk 20\n",
      "Processing chunk 21\n"
     ]
    },
    {
     "data": {
      "application/vnd.jupyter.widget-view+json": {
       "model_id": "97e7983bc1fc40edbdc3a7c1616e8534",
       "version_major": 2,
       "version_minor": 0
      },
      "text/plain": [
       "Processing batches:   0%|          | 0/500 [00:00<?, ?it/s]"
      ]
     },
     "metadata": {},
     "output_type": "display_data"
    },
    {
     "name": "stdout",
     "output_type": "stream",
     "text": [
      "Finished processing chunk 21\n",
      "Processing chunk 22\n"
     ]
    },
    {
     "data": {
      "application/vnd.jupyter.widget-view+json": {
       "model_id": "975eac521b79442ab70c9eb7cf45ba6f",
       "version_major": 2,
       "version_minor": 0
      },
      "text/plain": [
       "Processing batches:   0%|          | 0/500 [00:00<?, ?it/s]"
      ]
     },
     "metadata": {},
     "output_type": "display_data"
    },
    {
     "name": "stdout",
     "output_type": "stream",
     "text": [
      "Finished processing chunk 22\n",
      "Processing chunk 23\n"
     ]
    },
    {
     "data": {
      "application/vnd.jupyter.widget-view+json": {
       "model_id": "fbdb3a1068e14b6bb961fd4b9bb936e5",
       "version_major": 2,
       "version_minor": 0
      },
      "text/plain": [
       "Processing batches:   0%|          | 0/500 [00:00<?, ?it/s]"
      ]
     },
     "metadata": {},
     "output_type": "display_data"
    },
    {
     "name": "stdout",
     "output_type": "stream",
     "text": [
      "Finished processing chunk 23\n",
      "Processing chunk 24\n"
     ]
    },
    {
     "data": {
      "application/vnd.jupyter.widget-view+json": {
       "model_id": "d620e64b319542118707a7817ab59e32",
       "version_major": 2,
       "version_minor": 0
      },
      "text/plain": [
       "Processing batches:   0%|          | 0/500 [00:00<?, ?it/s]"
      ]
     },
     "metadata": {},
     "output_type": "display_data"
    },
    {
     "name": "stdout",
     "output_type": "stream",
     "text": [
      "Finished processing chunk 24\n",
      "Processing chunk 25\n"
     ]
    },
    {
     "data": {
      "application/vnd.jupyter.widget-view+json": {
       "model_id": "02b105d31dbd4b7fadcbcea8d866a62a",
       "version_major": 2,
       "version_minor": 0
      },
      "text/plain": [
       "Processing batches:   0%|          | 0/500 [00:00<?, ?it/s]"
      ]
     },
     "metadata": {},
     "output_type": "display_data"
    },
    {
     "name": "stdout",
     "output_type": "stream",
     "text": [
      "Finished processing chunk 25\n",
      "Processing chunk 26\n"
     ]
    },
    {
     "data": {
      "application/vnd.jupyter.widget-view+json": {
       "model_id": "3dd0b10045f748a8899a5fcbdbfea749",
       "version_major": 2,
       "version_minor": 0
      },
      "text/plain": [
       "Processing batches:   0%|          | 0/500 [00:00<?, ?it/s]"
      ]
     },
     "metadata": {},
     "output_type": "display_data"
    },
    {
     "name": "stdout",
     "output_type": "stream",
     "text": [
      "Finished processing chunk 26\n",
      "Processing chunk 27\n"
     ]
    },
    {
     "data": {
      "application/vnd.jupyter.widget-view+json": {
       "model_id": "fdbcecfc630c4f4d9bde16cae248cb5b",
       "version_major": 2,
       "version_minor": 0
      },
      "text/plain": [
       "Processing batches:   0%|          | 0/500 [00:00<?, ?it/s]"
      ]
     },
     "metadata": {},
     "output_type": "display_data"
    },
    {
     "name": "stdout",
     "output_type": "stream",
     "text": [
      "Finished processing chunk 27\n",
      "Processing chunk 28\n"
     ]
    },
    {
     "data": {
      "application/vnd.jupyter.widget-view+json": {
       "model_id": "9f7c957dede4412890d90dd240955904",
       "version_major": 2,
       "version_minor": 0
      },
      "text/plain": [
       "Processing batches:   0%|          | 0/500 [00:00<?, ?it/s]"
      ]
     },
     "metadata": {},
     "output_type": "display_data"
    },
    {
     "name": "stdout",
     "output_type": "stream",
     "text": [
      "Finished processing chunk 28\n",
      "Processing chunk 29\n"
     ]
    },
    {
     "data": {
      "application/vnd.jupyter.widget-view+json": {
       "model_id": "05ef5c1384524b66bddaaacea0fdf883",
       "version_major": 2,
       "version_minor": 0
      },
      "text/plain": [
       "Processing batches:   0%|          | 0/500 [00:00<?, ?it/s]"
      ]
     },
     "metadata": {},
     "output_type": "display_data"
    },
    {
     "name": "stdout",
     "output_type": "stream",
     "text": [
      "Finished processing chunk 29\n",
      "Processing chunk 30\n"
     ]
    },
    {
     "data": {
      "application/vnd.jupyter.widget-view+json": {
       "model_id": "93c2f64d44e44e02b09e8ef0ae8b51c2",
       "version_major": 2,
       "version_minor": 0
      },
      "text/plain": [
       "Processing batches:   0%|          | 0/500 [00:00<?, ?it/s]"
      ]
     },
     "metadata": {},
     "output_type": "display_data"
    },
    {
     "name": "stdout",
     "output_type": "stream",
     "text": [
      "Finished processing chunk 30\n",
      "Processing chunk 31\n"
     ]
    },
    {
     "data": {
      "application/vnd.jupyter.widget-view+json": {
       "model_id": "af929f102ea54ca2b1e5b98d217dd60e",
       "version_major": 2,
       "version_minor": 0
      },
      "text/plain": [
       "Processing batches:   0%|          | 0/500 [00:00<?, ?it/s]"
      ]
     },
     "metadata": {},
     "output_type": "display_data"
    },
    {
     "name": "stdout",
     "output_type": "stream",
     "text": [
      "Finished processing chunk 31\n",
      "Processing chunk 32\n"
     ]
    },
    {
     "data": {
      "application/vnd.jupyter.widget-view+json": {
       "model_id": "a68505f756674df9b14a1bbf5ceb38e0",
       "version_major": 2,
       "version_minor": 0
      },
      "text/plain": [
       "Processing batches:   0%|          | 0/500 [00:00<?, ?it/s]"
      ]
     },
     "metadata": {},
     "output_type": "display_data"
    },
    {
     "name": "stdout",
     "output_type": "stream",
     "text": [
      "Finished processing chunk 32\n",
      "Processing chunk 33\n"
     ]
    },
    {
     "data": {
      "application/vnd.jupyter.widget-view+json": {
       "model_id": "132e7768cd124211bd632a30fb176d96",
       "version_major": 2,
       "version_minor": 0
      },
      "text/plain": [
       "Processing batches:   0%|          | 0/500 [00:00<?, ?it/s]"
      ]
     },
     "metadata": {},
     "output_type": "display_data"
    },
    {
     "name": "stdout",
     "output_type": "stream",
     "text": [
      "Finished processing chunk 33\n",
      "Processing chunk 34\n"
     ]
    },
    {
     "data": {
      "application/vnd.jupyter.widget-view+json": {
       "model_id": "f64594ac863e4dd09fde0f0bee09af1f",
       "version_major": 2,
       "version_minor": 0
      },
      "text/plain": [
       "Processing batches:   0%|          | 0/500 [00:00<?, ?it/s]"
      ]
     },
     "metadata": {},
     "output_type": "display_data"
    },
    {
     "name": "stdout",
     "output_type": "stream",
     "text": [
      "Finished processing chunk 34\n",
      "Processing chunk 35\n"
     ]
    },
    {
     "data": {
      "application/vnd.jupyter.widget-view+json": {
       "model_id": "e02550176c27426ba94a2a76dad46467",
       "version_major": 2,
       "version_minor": 0
      },
      "text/plain": [
       "Processing batches:   0%|          | 0/500 [00:00<?, ?it/s]"
      ]
     },
     "metadata": {},
     "output_type": "display_data"
    },
    {
     "name": "stdout",
     "output_type": "stream",
     "text": [
      "Finished processing chunk 35\n",
      "Processing chunk 36\n"
     ]
    },
    {
     "data": {
      "application/vnd.jupyter.widget-view+json": {
       "model_id": "93169bc0669d4116855ac152d1bff7a7",
       "version_major": 2,
       "version_minor": 0
      },
      "text/plain": [
       "Processing batches:   0%|          | 0/500 [00:00<?, ?it/s]"
      ]
     },
     "metadata": {},
     "output_type": "display_data"
    },
    {
     "name": "stdout",
     "output_type": "stream",
     "text": [
      "Finished processing chunk 36\n",
      "Processing chunk 37\n"
     ]
    },
    {
     "data": {
      "application/vnd.jupyter.widget-view+json": {
       "model_id": "443cab42451f4dd69c93f7ec2870a11f",
       "version_major": 2,
       "version_minor": 0
      },
      "text/plain": [
       "Processing batches:   0%|          | 0/500 [00:00<?, ?it/s]"
      ]
     },
     "metadata": {},
     "output_type": "display_data"
    },
    {
     "name": "stdout",
     "output_type": "stream",
     "text": [
      "Finished processing chunk 37\n",
      "Processing chunk 38\n"
     ]
    },
    {
     "data": {
      "application/vnd.jupyter.widget-view+json": {
       "model_id": "93967da5062e484f8b7da13193081a1b",
       "version_major": 2,
       "version_minor": 0
      },
      "text/plain": [
       "Processing batches:   0%|          | 0/500 [00:00<?, ?it/s]"
      ]
     },
     "metadata": {},
     "output_type": "display_data"
    },
    {
     "name": "stdout",
     "output_type": "stream",
     "text": [
      "Finished processing chunk 38\n",
      "Processing chunk 39\n"
     ]
    },
    {
     "data": {
      "application/vnd.jupyter.widget-view+json": {
       "model_id": "db43cc390587458b86d234a57ee2d5a7",
       "version_major": 2,
       "version_minor": 0
      },
      "text/plain": [
       "Processing batches:   0%|          | 0/500 [00:00<?, ?it/s]"
      ]
     },
     "metadata": {},
     "output_type": "display_data"
    },
    {
     "name": "stdout",
     "output_type": "stream",
     "text": [
      "Finished processing chunk 39\n",
      "Processing chunk 40\n"
     ]
    },
    {
     "data": {
      "application/vnd.jupyter.widget-view+json": {
       "model_id": "1f6fce2b90d04041a0efec7457dd14d1",
       "version_major": 2,
       "version_minor": 0
      },
      "text/plain": [
       "Processing batches:   0%|          | 0/304 [00:00<?, ?it/s]"
      ]
     },
     "metadata": {},
     "output_type": "display_data"
    },
    {
     "name": "stdout",
     "output_type": "stream",
     "text": [
      "Finished processing chunk 40\n"
     ]
    }
   ],
   "source": [
    "from transformers import AutoTokenizer, AutoModelForSequenceClassification\n",
    "import pandas as pd\n",
    "import numpy as np\n",
    "import torch\n",
    "from tqdm.auto import tqdm\n",
    "\n",
    "# Function to process texts in batches and return emotions and scores\n",
    "def get_emotions_scores_in_batches(texts, tokenizer, model, emotion_labels, batch_size=64, device='cpu'):\n",
    "    model.to(device)\n",
    "    all_predictions = []\n",
    "\n",
    "    # Progressively process the texts in batches\n",
    "    for i in tqdm(range(0, len(texts), batch_size), desc=\"Processing batches\"):\n",
    "        batch_texts = texts[i:i + batch_size]\n",
    "        tokens = tokenizer(batch_texts, padding=True, truncation=True, max_length=512, return_tensors=\"pt\")\n",
    "        tokens = {k: v.to(device) for k, v in tokens.items()}\n",
    "        with torch.no_grad():\n",
    "            outputs = model(**tokens)\n",
    "            predictions = torch.nn.functional.softmax(outputs.logits, dim=-1)\n",
    "            all_predictions.extend(predictions.detach().cpu().numpy())\n",
    "    \n",
    "    # Extract top 5 emotions and scores\n",
    "    top5_emotions, top5_scores = [], []\n",
    "    for prediction in all_predictions:\n",
    "        top5_idx = np.argsort(prediction)[-5:][::-1]\n",
    "        top5_emotions.append([emotion_labels[idx] for idx in top5_idx])\n",
    "        top5_scores.append([f\"{prediction[idx]:.3f}\" for idx in top5_idx])\n",
    "    \n",
    "    return top5_emotions, top5_scores\n",
    "\n",
    "#Setup device\n",
    "device = torch.device(\"cuda\" if torch.cuda.is_available() else \"cpu\")\n",
    "\n",
    "# Initialize model and tokenizer\n",
    "tokenizer = AutoTokenizer.from_pretrained(\"SamLowe/roberta-base-go_emotions\")\n",
    "model = AutoModelForSequenceClassification.from_pretrained(\"SamLowe/roberta-base-go_emotions\")\n",
    "model.eval()\n",
    "\n",
    "#Emotion labels \n",
    "emotion_labels = ['disappointment', 'sadness', 'annoyance', 'neutral', 'disapproval',\n",
    "    'realization', 'nervousness', 'approval', 'joy', 'anger',\n",
    "    'embarrassment', 'caring', 'remorse', 'disgust', 'grief',\n",
    "    'confusion', 'relief', 'desire', 'admiration', 'optimism',\n",
    "    'fear', 'love', 'excitement', 'curiosity', 'amusement',\n",
    "    'surprise', 'gratitude', 'pride'\n",
    "]\n",
    "\n",
    "input_file = 'C:\\\\Users\\\\adnan\\\\Desktop\\\\Main_Dataset_Review1.json'\n",
    "output_file = 'main_output_emotion_scores.json'\n",
    "\n",
    "#batch size\n",
    "batch_size = 100\n",
    "\n",
    "#Chunk size\n",
    "chunk_size = 50000\n",
    "reader = pd.read_json(input_file, lines=True, chunksize=chunk_size)\n",
    "\n",
    "for i, chunk in enumerate(reader):\n",
    "    print(f\"Processing chunk {i+1}\")\n",
    "    emotions, scores = get_emotions_scores_in_batches(chunk['clean_reviewText'].tolist(), tokenizer, model, emotion_labels, batch_size=batch_size, device=device)\n",
    "    chunk['review_emotions'] = emotions\n",
    "    chunk['review_emotion_scores'] = scores\n",
    "\n",
    "    #Append the results to the output file\n",
    "    chunk.to_json(output_file, orient='records', lines=True, mode='a') #Appned mode\n",
    "    print(f\"Finished processing chunk {i+1}\")"
   ]
  },
  {
   "cell_type": "code",
   "execution_count": 5,
   "id": "bac5714b-68fb-47ee-ab39-599d0d8fedef",
   "metadata": {},
   "outputs": [],
   "source": [
    "import pandas as pd\n",
    "main_output_emotions = pd.read_json('main_output_emotion_scores.json', lines=True)"
   ]
  },
  {
   "cell_type": "code",
   "execution_count": 6,
   "id": "25f60204-a693-4f0e-a5c8-1180e6d875a8",
   "metadata": {},
   "outputs": [
    {
     "data": {
      "text/html": [
       "<div>\n",
       "<style scoped>\n",
       "    .dataframe tbody tr th:only-of-type {\n",
       "        vertical-align: middle;\n",
       "    }\n",
       "\n",
       "    .dataframe tbody tr th {\n",
       "        vertical-align: top;\n",
       "    }\n",
       "\n",
       "    .dataframe thead th {\n",
       "        text-align: right;\n",
       "    }\n",
       "</style>\n",
       "<table border=\"1\" class=\"dataframe\">\n",
       "  <thead>\n",
       "    <tr style=\"text-align: right;\">\n",
       "      <th></th>\n",
       "      <th>overall</th>\n",
       "      <th>vote</th>\n",
       "      <th>verified</th>\n",
       "      <th>reviewerID</th>\n",
       "      <th>asin</th>\n",
       "      <th>style</th>\n",
       "      <th>reviewerName</th>\n",
       "      <th>reviewText</th>\n",
       "      <th>summary</th>\n",
       "      <th>has_image</th>\n",
       "      <th>clean_reviewText</th>\n",
       "      <th>clean_summary</th>\n",
       "      <th>reviewText_length</th>\n",
       "      <th>clean_reviewText_length</th>\n",
       "      <th>review_emotions</th>\n",
       "      <th>review_emotion_scores</th>\n",
       "    </tr>\n",
       "  </thead>\n",
       "  <tbody>\n",
       "    <tr>\n",
       "      <th>0</th>\n",
       "      <td>1</td>\n",
       "      <td>0</td>\n",
       "      <td>True</td>\n",
       "      <td>A2KGOFRA94OWS9</td>\n",
       "      <td>B00GZOI1OC</td>\n",
       "      <td>Unknown</td>\n",
       "      <td>jlpoole520</td>\n",
       "      <td>The part (the biggest part, the wheel) didn't ...</td>\n",
       "      <td>The part (the biggest part, the wheel) didn't ...</td>\n",
       "      <td>0</td>\n",
       "      <td>part biggest part wheel didnt fit buy new mach...</td>\n",
       "      <td>part biggest part wheel didnt fit</td>\n",
       "      <td>49</td>\n",
       "      <td>22</td>\n",
       "      <td>[realization, fear, confusion, pride, neutral]</td>\n",
       "      <td>[0.336, 0.225, 0.221, 0.044, 0.043]</td>\n",
       "    </tr>\n",
       "    <tr>\n",
       "      <th>1</th>\n",
       "      <td>1</td>\n",
       "      <td>0</td>\n",
       "      <td>True</td>\n",
       "      <td>A1LIJY0J529J27</td>\n",
       "      <td>B00LHQYW0A</td>\n",
       "      <td>Unknown</td>\n",
       "      <td>John P</td>\n",
       "      <td>Incomplete order.  Picture shows two heating e...</td>\n",
       "      <td>Incomplete order, missing one heating element</td>\n",
       "      <td>0</td>\n",
       "      <td>incomplete order picture show two heating elem...</td>\n",
       "      <td>incomplete order missing one heating element</td>\n",
       "      <td>11</td>\n",
       "      <td>9</td>\n",
       "      <td>[pride, embarrassment, anger, neutral, nervous...</td>\n",
       "      <td>[0.817, 0.067, 0.049, 0.029, 0.010]</td>\n",
       "    </tr>\n",
       "    <tr>\n",
       "      <th>2</th>\n",
       "      <td>1</td>\n",
       "      <td>0</td>\n",
       "      <td>False</td>\n",
       "      <td>A3OMTDM4HR5XV9</td>\n",
       "      <td>B0050KMOM2</td>\n",
       "      <td>Unknown</td>\n",
       "      <td>steve combs</td>\n",
       "      <td>best  bushing  I've had in a long time</td>\n",
       "      <td>best bushing I've had in a long time</td>\n",
       "      <td>0</td>\n",
       "      <td>best bushing ive long time</td>\n",
       "      <td>best bushing ive long time</td>\n",
       "      <td>8</td>\n",
       "      <td>5</td>\n",
       "      <td>[disappointment, disapproval, pride, confusion...</td>\n",
       "      <td>[0.990, 0.004, 0.001, 0.001, 0.000]</td>\n",
       "    </tr>\n",
       "    <tr>\n",
       "      <th>3</th>\n",
       "      <td>1</td>\n",
       "      <td>0</td>\n",
       "      <td>False</td>\n",
       "      <td>A10M3NOJHRC4F4</td>\n",
       "      <td>B001GD43RG</td>\n",
       "      <td>Unknown</td>\n",
       "      <td>Amazon Customer</td>\n",
       "      <td>Biggest piece of s*** we ever bought, replaced...</td>\n",
       "      <td>Biggest piece of s*** we ever bought, replaced...</td>\n",
       "      <td>0</td>\n",
       "      <td>biggest piece ever bought replaced motor 4 tim...</td>\n",
       "      <td>biggest piece ever bought replaced motor</td>\n",
       "      <td>22</td>\n",
       "      <td>14</td>\n",
       "      <td>[pride, disapproval, disappointment, excitemen...</td>\n",
       "      <td>[0.994, 0.001, 0.001, 0.001, 0.000]</td>\n",
       "    </tr>\n",
       "    <tr>\n",
       "      <th>4</th>\n",
       "      <td>1</td>\n",
       "      <td>0</td>\n",
       "      <td>True</td>\n",
       "      <td>A3LF8E0TB9XWMZ</td>\n",
       "      <td>B00LJ5K82K</td>\n",
       "      <td>Unknown</td>\n",
       "      <td>Amazon Customer</td>\n",
       "      <td>dud shorted out element burned out the same da...</td>\n",
       "      <td>not very happy</td>\n",
       "      <td>0</td>\n",
       "      <td>dud shorted element burned daynot happy</td>\n",
       "      <td>happy</td>\n",
       "      <td>11</td>\n",
       "      <td>6</td>\n",
       "      <td>[surprise, anger, pride, neutral, embarrassment]</td>\n",
       "      <td>[0.520, 0.283, 0.077, 0.038, 0.026]</td>\n",
       "    </tr>\n",
       "    <tr>\n",
       "      <th>5</th>\n",
       "      <td>1</td>\n",
       "      <td>0</td>\n",
       "      <td>True</td>\n",
       "      <td>AZATKVNT0A7ZI</td>\n",
       "      <td>B0115XWE68</td>\n",
       "      <td>{'Package Quantity:': ' 1'}</td>\n",
       "      <td>Sharon Matheisen</td>\n",
       "      <td>Sorry...they are not as good a Samsung.  After...</td>\n",
       "      <td>they are not as good a Samsung</td>\n",
       "      <td>0</td>\n",
       "      <td>sorrythey good samsung three day could still t...</td>\n",
       "      <td>good samsung</td>\n",
       "      <td>25</td>\n",
       "      <td>14</td>\n",
       "      <td>[amusement, surprise, pride, anger, remorse]</td>\n",
       "      <td>[0.758, 0.159, 0.021, 0.017, 0.006]</td>\n",
       "    </tr>\n",
       "    <tr>\n",
       "      <th>6</th>\n",
       "      <td>1</td>\n",
       "      <td>0</td>\n",
       "      <td>True</td>\n",
       "      <td>A12UM07OV8DPB</td>\n",
       "      <td>B004DNWVPC</td>\n",
       "      <td>{'Color:': ' Biscuit'}</td>\n",
       "      <td>C. Price</td>\n",
       "      <td>These are horrible. The enamel chips off every...</td>\n",
       "      <td>These are horrible. The enamel chips off every...</td>\n",
       "      <td>0</td>\n",
       "      <td>horrible enamel chip everytime take burner cle...</td>\n",
       "      <td>horrible enamel chip everytime take</td>\n",
       "      <td>46</td>\n",
       "      <td>22</td>\n",
       "      <td>[grief, caring, pride, neutral, embarrassment]</td>\n",
       "      <td>[0.375, 0.341, 0.115, 0.044, 0.030]</td>\n",
       "    </tr>\n",
       "    <tr>\n",
       "      <th>7</th>\n",
       "      <td>1</td>\n",
       "      <td>0</td>\n",
       "      <td>True</td>\n",
       "      <td>ABNNNEA29614O</td>\n",
       "      <td>B00WTX85B2</td>\n",
       "      <td>Unknown</td>\n",
       "      <td>Sleeper Dude</td>\n",
       "      <td>Makes the water and ice taste terrible!! Not s...</td>\n",
       "      <td>Makes the water and ice taste terrible!! Not s...</td>\n",
       "      <td>0</td>\n",
       "      <td>make water ice taste terrible sure made change...</td>\n",
       "      <td>make water ice taste terrible sure made change</td>\n",
       "      <td>25</td>\n",
       "      <td>13</td>\n",
       "      <td>[pride, caring, neutral, joy, grief]</td>\n",
       "      <td>[0.616, 0.086, 0.079, 0.062, 0.050]</td>\n",
       "    </tr>\n",
       "    <tr>\n",
       "      <th>8</th>\n",
       "      <td>1</td>\n",
       "      <td>0</td>\n",
       "      <td>False</td>\n",
       "      <td>A1H4OFSNNFMHYW</td>\n",
       "      <td>B00YD37UJE</td>\n",
       "      <td>Unknown</td>\n",
       "      <td>Susan Tozzi</td>\n",
       "      <td>Terrible company terrible replacement. Did not...</td>\n",
       "      <td>Terrible company terrible replacement</td>\n",
       "      <td>0</td>\n",
       "      <td>terrible company terrible replacement fit refr...</td>\n",
       "      <td>terrible company terrible replacement</td>\n",
       "      <td>72</td>\n",
       "      <td>37</td>\n",
       "      <td>[grief, caring, pride, embarrassment, neutral]</td>\n",
       "      <td>[0.692, 0.145, 0.055, 0.022, 0.020]</td>\n",
       "    </tr>\n",
       "    <tr>\n",
       "      <th>9</th>\n",
       "      <td>1</td>\n",
       "      <td>0</td>\n",
       "      <td>True</td>\n",
       "      <td>A1P6NRAGYY1JE5</td>\n",
       "      <td>B001DEEU1C</td>\n",
       "      <td>Unknown</td>\n",
       "      <td>N. Crofoot</td>\n",
       "      <td>This is the first ever replacement filter for ...</td>\n",
       "      <td>DOESN'T WORK!</td>\n",
       "      <td>0</td>\n",
       "      <td>first ever replacement filter filtration unit ...</td>\n",
       "      <td>doesnt work</td>\n",
       "      <td>89</td>\n",
       "      <td>43</td>\n",
       "      <td>[embarrassment, pride, neutral, disapproval, a...</td>\n",
       "      <td>[0.598, 0.358, 0.018, 0.006, 0.004]</td>\n",
       "    </tr>\n",
       "  </tbody>\n",
       "</table>\n",
       "</div>"
      ],
      "text/plain": [
       "   overall  vote  verified      reviewerID        asin  \\\n",
       "0        1     0      True  A2KGOFRA94OWS9  B00GZOI1OC   \n",
       "1        1     0      True  A1LIJY0J529J27  B00LHQYW0A   \n",
       "2        1     0     False  A3OMTDM4HR5XV9  B0050KMOM2   \n",
       "3        1     0     False  A10M3NOJHRC4F4  B001GD43RG   \n",
       "4        1     0      True  A3LF8E0TB9XWMZ  B00LJ5K82K   \n",
       "5        1     0      True   AZATKVNT0A7ZI  B0115XWE68   \n",
       "6        1     0      True   A12UM07OV8DPB  B004DNWVPC   \n",
       "7        1     0      True   ABNNNEA29614O  B00WTX85B2   \n",
       "8        1     0     False  A1H4OFSNNFMHYW  B00YD37UJE   \n",
       "9        1     0      True  A1P6NRAGYY1JE5  B001DEEU1C   \n",
       "\n",
       "                         style      reviewerName  \\\n",
       "0                      Unknown        jlpoole520   \n",
       "1                      Unknown            John P   \n",
       "2                      Unknown       steve combs   \n",
       "3                      Unknown   Amazon Customer   \n",
       "4                      Unknown   Amazon Customer   \n",
       "5  {'Package Quantity:': ' 1'}  Sharon Matheisen   \n",
       "6       {'Color:': ' Biscuit'}          C. Price   \n",
       "7                      Unknown      Sleeper Dude   \n",
       "8                      Unknown       Susan Tozzi   \n",
       "9                      Unknown        N. Crofoot   \n",
       "\n",
       "                                          reviewText  \\\n",
       "0  The part (the biggest part, the wheel) didn't ...   \n",
       "1  Incomplete order.  Picture shows two heating e...   \n",
       "2             best  bushing  I've had in a long time   \n",
       "3  Biggest piece of s*** we ever bought, replaced...   \n",
       "4  dud shorted out element burned out the same da...   \n",
       "5  Sorry...they are not as good a Samsung.  After...   \n",
       "6  These are horrible. The enamel chips off every...   \n",
       "7  Makes the water and ice taste terrible!! Not s...   \n",
       "8  Terrible company terrible replacement. Did not...   \n",
       "9  This is the first ever replacement filter for ...   \n",
       "\n",
       "                                             summary  has_image  \\\n",
       "0  The part (the biggest part, the wheel) didn't ...          0   \n",
       "1      Incomplete order, missing one heating element          0   \n",
       "2               best bushing I've had in a long time          0   \n",
       "3  Biggest piece of s*** we ever bought, replaced...          0   \n",
       "4                                     not very happy          0   \n",
       "5                     they are not as good a Samsung          0   \n",
       "6  These are horrible. The enamel chips off every...          0   \n",
       "7  Makes the water and ice taste terrible!! Not s...          0   \n",
       "8              Terrible company terrible replacement          0   \n",
       "9                                      DOESN'T WORK!          0   \n",
       "\n",
       "                                    clean_reviewText  \\\n",
       "0  part biggest part wheel didnt fit buy new mach...   \n",
       "1  incomplete order picture show two heating elem...   \n",
       "2                         best bushing ive long time   \n",
       "3  biggest piece ever bought replaced motor 4 tim...   \n",
       "4            dud shorted element burned daynot happy   \n",
       "5  sorrythey good samsung three day could still t...   \n",
       "6  horrible enamel chip everytime take burner cle...   \n",
       "7  make water ice taste terrible sure made change...   \n",
       "8  terrible company terrible replacement fit refr...   \n",
       "9  first ever replacement filter filtration unit ...   \n",
       "\n",
       "                                    clean_summary  reviewText_length  \\\n",
       "0               part biggest part wheel didnt fit                 49   \n",
       "1    incomplete order missing one heating element                 11   \n",
       "2                      best bushing ive long time                  8   \n",
       "3        biggest piece ever bought replaced motor                 22   \n",
       "4                                           happy                 11   \n",
       "5                                    good samsung                 25   \n",
       "6             horrible enamel chip everytime take                 46   \n",
       "7  make water ice taste terrible sure made change                 25   \n",
       "8           terrible company terrible replacement                 72   \n",
       "9                                     doesnt work                 89   \n",
       "\n",
       "   clean_reviewText_length                                    review_emotions  \\\n",
       "0                       22     [realization, fear, confusion, pride, neutral]   \n",
       "1                        9  [pride, embarrassment, anger, neutral, nervous...   \n",
       "2                        5  [disappointment, disapproval, pride, confusion...   \n",
       "3                       14  [pride, disapproval, disappointment, excitemen...   \n",
       "4                        6   [surprise, anger, pride, neutral, embarrassment]   \n",
       "5                       14       [amusement, surprise, pride, anger, remorse]   \n",
       "6                       22     [grief, caring, pride, neutral, embarrassment]   \n",
       "7                       13               [pride, caring, neutral, joy, grief]   \n",
       "8                       37     [grief, caring, pride, embarrassment, neutral]   \n",
       "9                       43  [embarrassment, pride, neutral, disapproval, a...   \n",
       "\n",
       "                 review_emotion_scores  \n",
       "0  [0.336, 0.225, 0.221, 0.044, 0.043]  \n",
       "1  [0.817, 0.067, 0.049, 0.029, 0.010]  \n",
       "2  [0.990, 0.004, 0.001, 0.001, 0.000]  \n",
       "3  [0.994, 0.001, 0.001, 0.001, 0.000]  \n",
       "4  [0.520, 0.283, 0.077, 0.038, 0.026]  \n",
       "5  [0.758, 0.159, 0.021, 0.017, 0.006]  \n",
       "6  [0.375, 0.341, 0.115, 0.044, 0.030]  \n",
       "7  [0.616, 0.086, 0.079, 0.062, 0.050]  \n",
       "8  [0.692, 0.145, 0.055, 0.022, 0.020]  \n",
       "9  [0.598, 0.358, 0.018, 0.006, 0.004]  "
      ]
     },
     "execution_count": 6,
     "metadata": {},
     "output_type": "execute_result"
    }
   ],
   "source": [
    "main_output_emotions.head(10)"
   ]
  },
  {
   "cell_type": "code",
   "execution_count": 7,
   "id": "4ae763e0-edfc-43f6-b8ca-8b343248d0a9",
   "metadata": {},
   "outputs": [
    {
     "name": "stdout",
     "output_type": "stream",
     "text": [
      "<class 'pandas.core.frame.DataFrame'>\n",
      "RangeIndex: 1980383 entries, 0 to 1980382\n",
      "Data columns (total 16 columns):\n",
      " #   Column                   Dtype \n",
      "---  ------                   ----- \n",
      " 0   overall                  int64 \n",
      " 1   vote                     int64 \n",
      " 2   verified                 bool  \n",
      " 3   reviewerID               object\n",
      " 4   asin                     object\n",
      " 5   style                    object\n",
      " 6   reviewerName             object\n",
      " 7   reviewText               object\n",
      " 8   summary                  object\n",
      " 9   has_image                int64 \n",
      " 10  clean_reviewText         object\n",
      " 11  clean_summary            object\n",
      " 12  reviewText_length        int64 \n",
      " 13  clean_reviewText_length  int64 \n",
      " 14  review_emotions          object\n",
      " 15  review_emotion_scores    object\n",
      "dtypes: bool(1), int64(5), object(10)\n",
      "memory usage: 228.5+ MB\n"
     ]
    }
   ],
   "source": [
    "main_output_emotions.info()"
   ]
  },
  {
   "cell_type": "code",
   "execution_count": 8,
   "id": "02d2ebf2-6d79-47db-8589-669f7f708040",
   "metadata": {},
   "outputs": [
    {
     "name": "stdout",
     "output_type": "stream",
     "text": [
      "(1980383, 16)\n"
     ]
    }
   ],
   "source": [
    "print(main_output_emotions.shape)"
   ]
  },
  {
   "cell_type": "code",
   "execution_count": 9,
   "id": "2af66367-6b36-4bba-9d2f-d89751d5295d",
   "metadata": {},
   "outputs": [
    {
     "name": "stdout",
     "output_type": "stream",
     "text": [
      "overall                    0\n",
      "vote                       0\n",
      "verified                   0\n",
      "reviewerID                 0\n",
      "asin                       0\n",
      "style                      0\n",
      "reviewerName               0\n",
      "reviewText                 0\n",
      "summary                    0\n",
      "has_image                  0\n",
      "clean_reviewText           0\n",
      "clean_summary              0\n",
      "reviewText_length          0\n",
      "clean_reviewText_length    0\n",
      "review_emotions            0\n",
      "review_emotion_scores      0\n",
      "dtype: int64\n"
     ]
    }
   ],
   "source": [
    "print(main_output_emotions.isnull().sum())"
   ]
  },
  {
   "cell_type": "markdown",
   "id": "4bbae711-73e9-4d4a-88ec-9ce77799de6b",
   "metadata": {},
   "source": [
    "Valdating the emotions and the scores column"
   ]
  },
  {
   "cell_type": "code",
   "execution_count": 10,
   "id": "1384cffb-5a27-4c8e-9918-779b1be05868",
   "metadata": {},
   "outputs": [
    {
     "name": "stdout",
     "output_type": "stream",
     "text": [
      "All entries have consistent lengths: True\n"
     ]
    }
   ],
   "source": [
    "# Check if every entry in 'review_emotions' and 'review_emotion_scores' has the same length\n",
    "consistent_lengths = all(len(emotions) == len(scores) for emotions, scores in zip(main_output_emotions['review_emotions'], main_output_emotions['review_emotion_scores']))\n",
    "print(f\"All entries have consistent lengths: {consistent_lengths}\")"
   ]
  },
  {
   "cell_type": "markdown",
   "id": "0d314db5-5518-4984-b09a-66db831aa5b1",
   "metadata": {},
   "source": [
    "Validating the content"
   ]
  },
  {
   "cell_type": "code",
   "execution_count": 11,
   "id": "efcf3814-3690-4745-bec8-274c00e02453",
   "metadata": {},
   "outputs": [
    {
     "name": "stdout",
     "output_type": "stream",
     "text": [
      "All scores are valid: False\n"
     ]
    }
   ],
   "source": [
    "# Check that scores are floats and within expected range (e.g., 0 to 1 if they are probabilities)\n",
    "valid_scores = main_output_emotions['review_emotion_scores'].apply(lambda lst: all(isinstance(score, float) and 0 <= score <= 1 for score in lst))\n",
    "print(f\"All scores are valid: {valid_scores.all()}\")"
   ]
  },
  {
   "cell_type": "markdown",
   "id": "f28355d0-cf6e-4e8e-8904-6c7d756bdfb7",
   "metadata": {},
   "source": [
    "Sample check"
   ]
  },
  {
   "cell_type": "code",
   "execution_count": 12,
   "id": "fee4be88-527c-4bd7-b0c0-16081db111f3",
   "metadata": {},
   "outputs": [
    {
     "name": "stdout",
     "output_type": "stream",
     "text": [
      "                                           review_emotions  \\\n",
      "1884054  [pride, disapproval, fear, excitement, disappo...   \n",
      "1930251  [pride, desire, disapproval, excitement, curio...   \n",
      "1899948  [disappointment, disapproval, pride, desire, c...   \n",
      "589602    [desire, pride, disapproval, curiosity, disgust]   \n",
      "354397   [disappointment, disapproval, pride, confusion...   \n",
      "1736016  [pride, disapproval, disappointment, embarrass...   \n",
      "1865916  [pride, disapproval, neutral, disappointment, ...   \n",
      "1674396  [disappointment, disapproval, pride, embarrass...   \n",
      "916056   [pride, disapproval, excitement, neutral, disa...   \n",
      "939554   [disappointment, disapproval, pride, confusion...   \n",
      "\n",
      "                       review_emotion_scores  \n",
      "1884054  [0.828, 0.149, 0.005, 0.005, 0.002]  \n",
      "1930251  [0.384, 0.333, 0.100, 0.054, 0.035]  \n",
      "1899948  [0.978, 0.009, 0.005, 0.002, 0.001]  \n",
      "589602   [0.960, 0.008, 0.005, 0.005, 0.002]  \n",
      "354397   [0.984, 0.006, 0.005, 0.001, 0.001]  \n",
      "1736016  [0.507, 0.295, 0.065, 0.050, 0.035]  \n",
      "1865916  [0.997, 0.001, 0.000, 0.000, 0.000]  \n",
      "1674396  [0.877, 0.056, 0.044, 0.004, 0.003]  \n",
      "916056   [0.998, 0.001, 0.000, 0.000, 0.000]  \n",
      "939554   [0.994, 0.002, 0.001, 0.000, 0.000]  \n"
     ]
    }
   ],
   "source": [
    "# Randomly sample 10 entries from the dataset\n",
    "print(main_output_emotions[['review_emotions', 'review_emotion_scores']].sample(10))"
   ]
  },
  {
   "cell_type": "markdown",
   "id": "142fab70-c3b4-4464-b9a7-100c903e916b",
   "metadata": {},
   "source": [
    "Statistical Analysis"
   ]
  },
  {
   "cell_type": "code",
   "execution_count": 13,
   "id": "16951481-bb68-4aed-9623-b646f4ebdcb4",
   "metadata": {},
   "outputs": [],
   "source": [
    "# Convert list of score lists to a flat list of floats for statistical analysis\n",
    "# Ensure every score is converted to float\n",
    "flat_scores = [float(score) for sublist in main_output_emotions['review_emotion_scores'].tolist() for score in sublist]"
   ]
  },
  {
   "cell_type": "code",
   "execution_count": 14,
   "id": "073ff4be-9dde-4295-87c3-f4975a99ea70",
   "metadata": {},
   "outputs": [
    {
     "name": "stdout",
     "output_type": "stream",
     "text": [
      "Mean score: 0.1950781731614541\n",
      "Median score: 0.016\n",
      "Standard deviation: 0.32879028289973894\n"
     ]
    }
   ],
   "source": [
    "import numpy as np\n",
    "\n",
    "# Now that flat_scores is definitely a list of floats, these operations should work\n",
    "print(f\"Mean score: {np.mean(flat_scores)}\")\n",
    "print(f\"Median score: {np.median(flat_scores)}\")\n",
    "print(f\"Standard deviation: {np.std(flat_scores)}\")"
   ]
  },
  {
   "cell_type": "code",
   "execution_count": 15,
   "id": "cb554e26-29a0-4f42-a6e2-c9284a5467d3",
   "metadata": {},
   "outputs": [
    {
     "name": "stdout",
     "output_type": "stream",
     "text": [
      "Requirement already satisfied: matplotlib in c:\\users\\adnan\\anaconda3\\new folder\\envs\\mynewenv\\lib\\site-packages (3.7.5)\n",
      "Requirement already satisfied: contourpy>=1.0.1 in c:\\users\\adnan\\anaconda3\\new folder\\envs\\mynewenv\\lib\\site-packages (from matplotlib) (1.1.1)\n",
      "Requirement already satisfied: cycler>=0.10 in c:\\users\\adnan\\anaconda3\\new folder\\envs\\mynewenv\\lib\\site-packages (from matplotlib) (0.12.1)\n",
      "Requirement already satisfied: fonttools>=4.22.0 in c:\\users\\adnan\\anaconda3\\new folder\\envs\\mynewenv\\lib\\site-packages (from matplotlib) (4.49.0)\n",
      "Requirement already satisfied: kiwisolver>=1.0.1 in c:\\users\\adnan\\anaconda3\\new folder\\envs\\mynewenv\\lib\\site-packages (from matplotlib) (1.4.5)\n",
      "Requirement already satisfied: numpy<2,>=1.20 in c:\\users\\adnan\\anaconda3\\new folder\\envs\\mynewenv\\lib\\site-packages (from matplotlib) (1.24.3)\n",
      "Requirement already satisfied: packaging>=20.0 in c:\\users\\adnan\\anaconda3\\new folder\\envs\\mynewenv\\lib\\site-packages (from matplotlib) (23.1)\n",
      "Requirement already satisfied: pillow>=6.2.0 in c:\\users\\adnan\\anaconda3\\new folder\\envs\\mynewenv\\lib\\site-packages (from matplotlib) (10.2.0)\n",
      "Requirement already satisfied: pyparsing>=2.3.1 in c:\\users\\adnan\\anaconda3\\new folder\\envs\\mynewenv\\lib\\site-packages (from matplotlib) (3.1.1)\n",
      "Requirement already satisfied: python-dateutil>=2.7 in c:\\users\\adnan\\anaconda3\\new folder\\envs\\mynewenv\\lib\\site-packages (from matplotlib) (2.8.2)\n",
      "Requirement already satisfied: importlib-resources>=3.2.0 in c:\\users\\adnan\\anaconda3\\new folder\\envs\\mynewenv\\lib\\site-packages (from matplotlib) (6.1.1)\n",
      "Requirement already satisfied: zipp>=3.1.0 in c:\\users\\adnan\\anaconda3\\new folder\\envs\\mynewenv\\lib\\site-packages (from importlib-resources>=3.2.0->matplotlib) (3.17.0)\n",
      "Requirement already satisfied: six>=1.5 in c:\\users\\adnan\\anaconda3\\new folder\\envs\\mynewenv\\lib\\site-packages (from python-dateutil>=2.7->matplotlib) (1.16.0)\n"
     ]
    }
   ],
   "source": [
    "!pip install matplotlib"
   ]
  },
  {
   "cell_type": "code",
   "execution_count": 16,
   "id": "5b1229d6-6654-4029-8392-02324789ec3c",
   "metadata": {},
   "outputs": [
    {
     "data": {
      "image/png": "[encoded data removed]",
      "text/plain": [
       "<Figure size 640x480 with 1 Axes>"
      ]
     },
     "metadata": {},
     "output_type": "display_data"
    }
   ],
   "source": [
    "#Creating a histogram for the emotion scores\n",
    "import matplotlib.pyplot as plt\n",
    "\n",
    "plt.hist(flat_scores, bins=50, color='skyblue', edgecolor='black')  # Adjust bins as needed\n",
    "plt.title('Distribution of Emotion Scores')\n",
    "plt.xlabel('Scores')\n",
    "plt.ylabel('Frequency')\n",
    "plt.grid(True)\n",
    "plt.show()"
   ]
  },
  {
   "cell_type": "code",
   "execution_count": 18,
   "id": "03dcc9a0-572a-4ad1-8393-60413a7460a0",
   "metadata": {},
   "outputs": [
    {
     "name": "stdout",
     "output_type": "stream",
     "text": [
      "Collecting seaborn\n",
      "  Using cached seaborn-0.13.2-py3-none-any.whl.metadata (5.4 kB)\n",
      "Requirement already satisfied: numpy!=1.24.0,>=1.20 in c:\\users\\adnan\\anaconda3\\new folder\\envs\\mynewenv\\lib\\site-packages (from seaborn) (1.24.3)\n",
      "Requirement already satisfied: pandas>=1.2 in c:\\users\\adnan\\anaconda3\\new folder\\envs\\mynewenv\\lib\\site-packages (from seaborn) (2.0.3)\n",
      "Requirement already satisfied: matplotlib!=3.6.1,>=3.4 in c:\\users\\adnan\\anaconda3\\new folder\\envs\\mynewenv\\lib\\site-packages (from seaborn) (3.7.5)\n",
      "Requirement already satisfied: contourpy>=1.0.1 in c:\\users\\adnan\\anaconda3\\new folder\\envs\\mynewenv\\lib\\site-packages (from matplotlib!=3.6.1,>=3.4->seaborn) (1.1.1)\n",
      "Requirement already satisfied: cycler>=0.10 in c:\\users\\adnan\\anaconda3\\new folder\\envs\\mynewenv\\lib\\site-packages (from matplotlib!=3.6.1,>=3.4->seaborn) (0.12.1)\n",
      "Requirement already satisfied: fonttools>=4.22.0 in c:\\users\\adnan\\anaconda3\\new folder\\envs\\mynewenv\\lib\\site-packages (from matplotlib!=3.6.1,>=3.4->seaborn) (4.49.0)\n",
      "Requirement already satisfied: kiwisolver>=1.0.1 in c:\\users\\adnan\\anaconda3\\new folder\\envs\\mynewenv\\lib\\site-packages (from matplotlib!=3.6.1,>=3.4->seaborn) (1.4.5)\n",
      "Requirement already satisfied: packaging>=20.0 in c:\\users\\adnan\\anaconda3\\new folder\\envs\\mynewenv\\lib\\site-packages (from matplotlib!=3.6.1,>=3.4->seaborn) (23.1)\n",
      "Requirement already satisfied: pillow>=6.2.0 in c:\\users\\adnan\\anaconda3\\new folder\\envs\\mynewenv\\lib\\site-packages (from matplotlib!=3.6.1,>=3.4->seaborn) (10.2.0)\n",
      "Requirement already satisfied: pyparsing>=2.3.1 in c:\\users\\adnan\\anaconda3\\new folder\\envs\\mynewenv\\lib\\site-packages (from matplotlib!=3.6.1,>=3.4->seaborn) (3.1.1)\n",
      "Requirement already satisfied: python-dateutil>=2.7 in c:\\users\\adnan\\anaconda3\\new folder\\envs\\mynewenv\\lib\\site-packages (from matplotlib!=3.6.1,>=3.4->seaborn) (2.8.2)\n",
      "Requirement already satisfied: importlib-resources>=3.2.0 in c:\\users\\adnan\\anaconda3\\new folder\\envs\\mynewenv\\lib\\site-packages (from matplotlib!=3.6.1,>=3.4->seaborn) (6.1.1)\n",
      "Requirement already satisfied: pytz>=2020.1 in c:\\users\\adnan\\anaconda3\\new folder\\envs\\mynewenv\\lib\\site-packages (from pandas>=1.2->seaborn) (2023.3.post1)\n",
      "Requirement already satisfied: tzdata>=2022.1 in c:\\users\\adnan\\anaconda3\\new folder\\envs\\mynewenv\\lib\\site-packages (from pandas>=1.2->seaborn) (2024.1)\n",
      "Requirement already satisfied: zipp>=3.1.0 in c:\\users\\adnan\\anaconda3\\new folder\\envs\\mynewenv\\lib\\site-packages (from importlib-resources>=3.2.0->matplotlib!=3.6.1,>=3.4->seaborn) (3.17.0)\n",
      "Requirement already satisfied: six>=1.5 in c:\\users\\adnan\\anaconda3\\new folder\\envs\\mynewenv\\lib\\site-packages (from python-dateutil>=2.7->matplotlib!=3.6.1,>=3.4->seaborn) (1.16.0)\n",
      "Using cached seaborn-0.13.2-py3-none-any.whl (294 kB)\n",
      "Installing collected packages: seaborn\n",
      "Successfully installed seaborn-0.13.2\n"
     ]
    }
   ],
   "source": [
    "!pip install seaborn"
   ]
  },
  {
   "cell_type": "code",
   "execution_count": 19,
   "id": "cac8fe42-04c9-4c3e-a05c-b054adebddb5",
   "metadata": {},
   "outputs": [
    {
     "data": {
      "image/png": "[encoded data removed]",
      "text/plain": [
       "<Figure size 640x480 with 1 Axes>"
      ]
     },
     "metadata": {},
     "output_type": "display_data"
    }
   ],
   "source": [
    "import seaborn as sns\n",
    "\n",
    "# Create a box plot for the emotion scores\n",
    "sns.boxplot(x=flat_scores)\n",
    "plt.title('Box Plot of Emotion Scores')\n",
    "plt.xlabel('Scores')\n",
    "plt.show()"
   ]
  },
  {
   "cell_type": "markdown",
   "id": "9894d68c-a4b2-4f7c-b955-0808c4c834b3",
   "metadata": {},
   "source": []
  }
 ],
 "metadata": {
  "kernelspec": {
   "display_name": "Python (mynewenv)",
   "language": "python",
   "name": "mynewenv"
  },
  "language_info": {
   "codemirror_mode": {
    "name": "ipython",
    "version": 3
   },
   "file_extension": ".py",
   "mimetype": "text/x-python",
   "name": "python",
   "nbconvert_exporter": "python",
   "pygments_lexer": "ipython3",
   "version": "3.8.18"
  }
 },
 "nbformat": 4,
 "nbformat_minor": 5
}
